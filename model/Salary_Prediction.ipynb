{
 "cells": [
  {
   "cell_type": "markdown",
   "id": "3d2015af",
   "metadata": {},
   "source": [
    "# DS Salary Prediction\n",
    "- Predict salary of data scientist related role\n",
    "\n",
    "Dataset Source : https://www.kaggle.com/datasets/saurabhbadole/latest-data-science-job-salaries-2024"
   ]
  },
  {
   "cell_type": "code",
   "execution_count": 1,
   "id": "5c180fe0",
   "metadata": {},
   "outputs": [
    {
     "name": "stderr",
     "output_type": "stream",
     "text": [
      "D:\\anaconda3\\envs\\py310_env\\lib\\site-packages\\tqdm\\auto.py:21: TqdmWarning: IProgress not found. Please update jupyter and ipywidgets. See https://ipywidgets.readthedocs.io/en/stable/user_install.html\n",
      "  from .autonotebook import tqdm as notebook_tqdm\n"
     ]
    }
   ],
   "source": [
    "import pandas as pd\n",
    "import numpy as np\n",
    "import seaborn as sns\n",
    "import matplotlib.pyplot as plt\n",
    "%matplotlib inline\n",
    "\n",
    "# to get data\n",
    "import os\n",
    "import kagglehub\n",
    "import shutil"
   ]
  },
  {
   "cell_type": "code",
   "execution_count": 2,
   "id": "12baa177",
   "metadata": {},
   "outputs": [
    {
     "name": "stdout",
     "output_type": "stream",
     "text": [
      "D:\\anaconda3\\envs\\py310_env\\python.exe\n"
     ]
    }
   ],
   "source": [
    "import sys\n",
    "print(sys.executable)"
   ]
  },
  {
   "cell_type": "code",
   "execution_count": 3,
   "id": "04f22c0f",
   "metadata": {
    "scrolled": true
   },
   "outputs": [
    {
     "name": "stdout",
     "output_type": "stream",
     "text": [
      "The scikit-learn version is 1.6.1.\n"
     ]
    }
   ],
   "source": [
    "import sklearn\n",
    "\n",
    "print('The scikit-learn version is {}.'.format(sklearn.__version__))"
   ]
  },
  {
   "cell_type": "markdown",
   "id": "53c35ccd",
   "metadata": {},
   "source": [
    "## 1. Get Data"
   ]
  },
  {
   "cell_type": "code",
   "execution_count": 4,
   "id": "bffec792",
   "metadata": {},
   "outputs": [],
   "source": [
    "DATA_LOCAL_PATH = os.path.join(\"datasets\", \"salaries\")\n",
    "DATA_URL = \"sazidthe1/data-science-salaries\""
   ]
  },
  {
   "cell_type": "code",
   "execution_count": 6,
   "id": "dc2b0804",
   "metadata": {},
   "outputs": [
    {
     "name": "stdout",
     "output_type": "stream",
     "text": [
      "Downloading from https://www.kaggle.com/api/v1/datasets/download/sazidthe1/data-science-salaries?dataset_version_number=2...\n"
     ]
    },
    {
     "name": "stderr",
     "output_type": "stream",
     "text": [
      "100%|██████████████████████████████████████████████████████████████████████████████| 57.3k/57.3k [00:00<00:00, 687kB/s]"
     ]
    },
    {
     "name": "stdout",
     "output_type": "stream",
     "text": [
      "Extracting files...\n"
     ]
    },
    {
     "name": "stderr",
     "output_type": "stream",
     "text": [
      "\n"
     ]
    }
   ],
   "source": [
    "def download_kaggle_dataset(dataset_name=DATA_URL, local_path=DATA_LOCAL_PATH, force=False):\n",
    "    \"\"\"\n",
    "    Downloads a Kaggle dataset to a specified local path.\n",
    "\n",
    "    Parameters:\n",
    "    - dataset_name (str): The Kaggle dataset identifier (e.g., \"saurabhbadole/latest-data-science-job-salaries-2024\").\n",
    "    - local_path (str): The local directory to save the dataset.\n",
    "    - fprce (boolean): if True, it will overwrite existing datasets\n",
    "    \"\"\"\n",
    "    if not os.path.exists(local_path):\n",
    "        os.makedirs(local_path) \n",
    "    else:\n",
    "        print('Datasets already exists')\n",
    "        return\n",
    "    \n",
    "    if force == True:\n",
    "        shutil.rmtree(local_path) \n",
    "    \n",
    "    cache_path = kagglehub.dataset_download(dataset_name)\n",
    "    shutil.move(cache_path, local_path)\n",
    "    \n",
    "    \n",
    "download_kaggle_dataset()"
   ]
  },
  {
   "cell_type": "code",
   "execution_count": 10,
   "id": "8e9b210c",
   "metadata": {},
   "outputs": [],
   "source": [
    "def load_salaries_data(salaries_path=DATA_LOCAL_PATH):\n",
    "    csv_path = os.path.join(salaries_path, \"2\", \"data_science_salaries.csv\")\n",
    "    \n",
    "    return pd.read_csv(csv_path)"
   ]
  },
  {
   "cell_type": "code",
   "execution_count": 11,
   "id": "da9d560a",
   "metadata": {},
   "outputs": [
    {
     "data": {
      "text/html": [
       "<div>\n",
       "<style scoped>\n",
       "    .dataframe tbody tr th:only-of-type {\n",
       "        vertical-align: middle;\n",
       "    }\n",
       "\n",
       "    .dataframe tbody tr th {\n",
       "        vertical-align: top;\n",
       "    }\n",
       "\n",
       "    .dataframe thead th {\n",
       "        text-align: right;\n",
       "    }\n",
       "</style>\n",
       "<table border=\"1\" class=\"dataframe\">\n",
       "  <thead>\n",
       "    <tr style=\"text-align: right;\">\n",
       "      <th></th>\n",
       "      <th>job_title</th>\n",
       "      <th>experience_level</th>\n",
       "      <th>employment_type</th>\n",
       "      <th>work_models</th>\n",
       "      <th>work_year</th>\n",
       "      <th>employee_residence</th>\n",
       "      <th>salary</th>\n",
       "      <th>salary_currency</th>\n",
       "      <th>salary_in_usd</th>\n",
       "      <th>company_location</th>\n",
       "      <th>company_size</th>\n",
       "    </tr>\n",
       "  </thead>\n",
       "  <tbody>\n",
       "    <tr>\n",
       "      <th>0</th>\n",
       "      <td>Data Engineer</td>\n",
       "      <td>Mid-level</td>\n",
       "      <td>Full-time</td>\n",
       "      <td>Remote</td>\n",
       "      <td>2024</td>\n",
       "      <td>United States</td>\n",
       "      <td>148100</td>\n",
       "      <td>USD</td>\n",
       "      <td>148100</td>\n",
       "      <td>United States</td>\n",
       "      <td>Medium</td>\n",
       "    </tr>\n",
       "    <tr>\n",
       "      <th>1</th>\n",
       "      <td>Data Engineer</td>\n",
       "      <td>Mid-level</td>\n",
       "      <td>Full-time</td>\n",
       "      <td>Remote</td>\n",
       "      <td>2024</td>\n",
       "      <td>United States</td>\n",
       "      <td>98700</td>\n",
       "      <td>USD</td>\n",
       "      <td>98700</td>\n",
       "      <td>United States</td>\n",
       "      <td>Medium</td>\n",
       "    </tr>\n",
       "    <tr>\n",
       "      <th>2</th>\n",
       "      <td>Data Scientist</td>\n",
       "      <td>Senior-level</td>\n",
       "      <td>Full-time</td>\n",
       "      <td>Remote</td>\n",
       "      <td>2024</td>\n",
       "      <td>United States</td>\n",
       "      <td>140032</td>\n",
       "      <td>USD</td>\n",
       "      <td>140032</td>\n",
       "      <td>United States</td>\n",
       "      <td>Medium</td>\n",
       "    </tr>\n",
       "    <tr>\n",
       "      <th>3</th>\n",
       "      <td>Data Scientist</td>\n",
       "      <td>Senior-level</td>\n",
       "      <td>Full-time</td>\n",
       "      <td>Remote</td>\n",
       "      <td>2024</td>\n",
       "      <td>United States</td>\n",
       "      <td>100022</td>\n",
       "      <td>USD</td>\n",
       "      <td>100022</td>\n",
       "      <td>United States</td>\n",
       "      <td>Medium</td>\n",
       "    </tr>\n",
       "    <tr>\n",
       "      <th>4</th>\n",
       "      <td>BI Developer</td>\n",
       "      <td>Mid-level</td>\n",
       "      <td>Full-time</td>\n",
       "      <td>On-site</td>\n",
       "      <td>2024</td>\n",
       "      <td>United States</td>\n",
       "      <td>120000</td>\n",
       "      <td>USD</td>\n",
       "      <td>120000</td>\n",
       "      <td>United States</td>\n",
       "      <td>Medium</td>\n",
       "    </tr>\n",
       "  </tbody>\n",
       "</table>\n",
       "</div>"
      ],
      "text/plain": [
       "        job_title experience_level employment_type work_models  work_year  \\\n",
       "0   Data Engineer        Mid-level       Full-time      Remote       2024   \n",
       "1   Data Engineer        Mid-level       Full-time      Remote       2024   \n",
       "2  Data Scientist     Senior-level       Full-time      Remote       2024   \n",
       "3  Data Scientist     Senior-level       Full-time      Remote       2024   \n",
       "4    BI Developer        Mid-level       Full-time     On-site       2024   \n",
       "\n",
       "  employee_residence  salary salary_currency  salary_in_usd company_location  \\\n",
       "0      United States  148100             USD         148100    United States   \n",
       "1      United States   98700             USD          98700    United States   \n",
       "2      United States  140032             USD         140032    United States   \n",
       "3      United States  100022             USD         100022    United States   \n",
       "4      United States  120000             USD         120000    United States   \n",
       "\n",
       "  company_size  \n",
       "0       Medium  \n",
       "1       Medium  \n",
       "2       Medium  \n",
       "3       Medium  \n",
       "4       Medium  "
      ]
     },
     "execution_count": 11,
     "metadata": {},
     "output_type": "execute_result"
    }
   ],
   "source": [
    "ds_jobs = load_salaries_data()\n",
    "ds_jobs.head()"
   ]
  },
  {
   "cell_type": "code",
   "execution_count": 12,
   "id": "c62207f5",
   "metadata": {},
   "outputs": [
    {
     "name": "stderr",
     "output_type": "stream",
     "text": [
      "C:\\Users\\Asus\\AppData\\Local\\Temp\\ipykernel_14348\\990045199.py:6: FutureWarning: Downcasting behavior in `replace` is deprecated and will be removed in a future version. To retain the old behavior, explicitly call `result.infer_objects(copy=False)`. To opt-in to the future behavior, set `pd.set_option('future.no_silent_downcasting', True)`\n",
      "  ds_jobs['remote_ratio'] = ds_jobs['work_models'].replace({'On-site': 0, 'Remote': 100, 'Hybrid': 50})\n"
     ]
    }
   ],
   "source": [
    "ds_jobs['experience_level'] = ds_jobs['experience_level'].replace({'Entry-level': 'EN', 'Mid-level': 'MI', 'Senior-level': 'SE', 'Executive-level': 'EX'})\n",
    "ds_jobs['employment_type'] = ds_jobs['employment_type'].replace({'Full-time': 'FT', 'Contract': 'CT', 'Part-time': 'PT', 'Freelance': 'FL'})\n",
    "ds_jobs['company_size'] = ds_jobs['company_size'].replace({'Small': 'S', 'Medium': 'M', 'Large': 'L'})\n",
    "ds_jobs['company_location'] = ds_jobs['company_location'].replace({'United States': 'US'})\n",
    "ds_jobs['employee_residence'] = ds_jobs['employee_residence'].replace({'United States': 'US'})\n",
    "ds_jobs['remote_ratio'] = ds_jobs['work_models'].replace({'On-site': 0, 'Remote': 100, 'Hybrid': 50})"
   ]
  },
  {
   "cell_type": "code",
   "execution_count": 13,
   "id": "c5c4fc88",
   "metadata": {
    "scrolled": true
   },
   "outputs": [
    {
     "name": "stdout",
     "output_type": "stream",
     "text": [
      "<class 'pandas.core.frame.DataFrame'>\n",
      "RangeIndex: 6599 entries, 0 to 6598\n",
      "Data columns (total 12 columns):\n",
      " #   Column              Non-Null Count  Dtype \n",
      "---  ------              --------------  ----- \n",
      " 0   job_title           6599 non-null   object\n",
      " 1   experience_level    6599 non-null   object\n",
      " 2   employment_type     6599 non-null   object\n",
      " 3   work_models         6599 non-null   object\n",
      " 4   work_year           6599 non-null   int64 \n",
      " 5   employee_residence  6599 non-null   object\n",
      " 6   salary              6599 non-null   int64 \n",
      " 7   salary_currency     6599 non-null   object\n",
      " 8   salary_in_usd       6599 non-null   int64 \n",
      " 9   company_location    6599 non-null   object\n",
      " 10  company_size        6599 non-null   object\n",
      " 11  remote_ratio        6599 non-null   int64 \n",
      "dtypes: int64(4), object(8)\n",
      "memory usage: 618.8+ KB\n"
     ]
    }
   ],
   "source": [
    "ds_jobs.info()"
   ]
  },
  {
   "cell_type": "markdown",
   "id": "479fd925",
   "metadata": {},
   "source": [
    "This data science salaries dataset by 2025 have 93597 rows, relatively large for a dataset. We will figure out how to handle this.\n",
    "\n",
    "The data has no missing values, 4 int attributes, and the rest is object."
   ]
  },
  {
   "cell_type": "code",
   "execution_count": 14,
   "id": "01def4bb",
   "metadata": {},
   "outputs": [
    {
     "name": "stdout",
     "output_type": "stream",
     "text": [
      "job_title\n",
      "Data Engineer                      1307\n",
      "Data Scientist                     1243\n",
      "Data Analyst                        910\n",
      "Machine Learning Engineer           629\n",
      "Analytics Engineer                  246\n",
      "                                   ... \n",
      "Data Science Tech Lead                1\n",
      "Staff Machine Learning Engineer       1\n",
      "Cloud Data Architect                  1\n",
      "Marketing Data Engineer               1\n",
      "Sales Data Analyst                    1\n",
      "Name: count, Length: 132, dtype: int64 \n",
      "\n",
      "experience_level\n",
      "SE    4105\n",
      "MI    1675\n",
      "EN     565\n",
      "EX     254\n",
      "Name: count, dtype: int64 \n",
      "\n",
      "employment_type\n",
      "FT    6552\n",
      "CT      19\n",
      "PT      16\n",
      "FL      12\n",
      "Name: count, dtype: int64 \n",
      "\n",
      "work_models\n",
      "On-site    3813\n",
      "Remote     2561\n",
      "Hybrid      225\n",
      "Name: count, dtype: int64 \n",
      "\n",
      "employee_residence\n",
      "US                5305\n",
      "United Kingdom     401\n",
      "Canada             241\n",
      "Germany             71\n",
      "India               70\n",
      "                  ... \n",
      "Serbia               1\n",
      "Jersey               1\n",
      "American Samoa       1\n",
      "Mauritius            1\n",
      "Honduras             1\n",
      "Name: count, Length: 87, dtype: int64 \n",
      "\n",
      "salary_currency\n",
      "USD    5827\n",
      "GBP     334\n",
      "EUR     292\n",
      "INR      51\n",
      "CAD      39\n",
      "AUD      11\n",
      "PLN       7\n",
      "SGD       6\n",
      "CHF       5\n",
      "JPY       4\n",
      "BRL       4\n",
      "HUF       3\n",
      "TRY       3\n",
      "DKK       3\n",
      "NOK       2\n",
      "THB       2\n",
      "ZAR       1\n",
      "PHP       1\n",
      "HKD       1\n",
      "ILS       1\n",
      "CLP       1\n",
      "MXN       1\n",
      "Name: count, dtype: int64 \n",
      "\n",
      "company_location\n",
      "US                5354\n",
      "United Kingdom     408\n",
      "Canada             243\n",
      "Germany             78\n",
      "Spain               63\n",
      "                  ... \n",
      "China                1\n",
      "Chile                1\n",
      "Bahamas              1\n",
      "Mauritius            1\n",
      "Honduras             1\n",
      "Name: count, Length: 75, dtype: int64 \n",
      "\n",
      "company_size\n",
      "M    5860\n",
      "L     569\n",
      "S     170\n",
      "Name: count, dtype: int64 \n",
      "\n"
     ]
    }
   ],
   "source": [
    "# look at object values\n",
    "obj_cols = ds_jobs.select_dtypes(include='O').columns\n",
    "\n",
    "for col in obj_cols:\n",
    "    print(ds_jobs[col].value_counts(), '\\n')"
   ]
  },
  {
   "cell_type": "code",
   "execution_count": 15,
   "id": "b52dd060",
   "metadata": {},
   "outputs": [
    {
     "data": {
      "text/html": [
       "<div>\n",
       "<style scoped>\n",
       "    .dataframe tbody tr th:only-of-type {\n",
       "        vertical-align: middle;\n",
       "    }\n",
       "\n",
       "    .dataframe tbody tr th {\n",
       "        vertical-align: top;\n",
       "    }\n",
       "\n",
       "    .dataframe thead th {\n",
       "        text-align: right;\n",
       "    }\n",
       "</style>\n",
       "<table border=\"1\" class=\"dataframe\">\n",
       "  <thead>\n",
       "    <tr style=\"text-align: right;\">\n",
       "      <th></th>\n",
       "      <th>work_year</th>\n",
       "      <th>salary</th>\n",
       "      <th>salary_in_usd</th>\n",
       "      <th>remote_ratio</th>\n",
       "    </tr>\n",
       "  </thead>\n",
       "  <tbody>\n",
       "    <tr>\n",
       "      <th>count</th>\n",
       "      <td>6599.000000</td>\n",
       "      <td>6.599000e+03</td>\n",
       "      <td>6599.000000</td>\n",
       "      <td>6599.000000</td>\n",
       "    </tr>\n",
       "    <tr>\n",
       "      <th>mean</th>\n",
       "      <td>2022.818457</td>\n",
       "      <td>1.792833e+05</td>\n",
       "      <td>145560.558569</td>\n",
       "      <td>40.513714</td>\n",
       "    </tr>\n",
       "    <tr>\n",
       "      <th>std</th>\n",
       "      <td>0.674809</td>\n",
       "      <td>5.263722e+05</td>\n",
       "      <td>70946.838070</td>\n",
       "      <td>48.219524</td>\n",
       "    </tr>\n",
       "    <tr>\n",
       "      <th>min</th>\n",
       "      <td>2020.000000</td>\n",
       "      <td>1.400000e+04</td>\n",
       "      <td>15000.000000</td>\n",
       "      <td>0.000000</td>\n",
       "    </tr>\n",
       "    <tr>\n",
       "      <th>25%</th>\n",
       "      <td>2023.000000</td>\n",
       "      <td>9.600000e+04</td>\n",
       "      <td>95000.000000</td>\n",
       "      <td>0.000000</td>\n",
       "    </tr>\n",
       "    <tr>\n",
       "      <th>50%</th>\n",
       "      <td>2023.000000</td>\n",
       "      <td>1.400000e+05</td>\n",
       "      <td>138666.000000</td>\n",
       "      <td>0.000000</td>\n",
       "    </tr>\n",
       "    <tr>\n",
       "      <th>75%</th>\n",
       "      <td>2023.000000</td>\n",
       "      <td>1.875000e+05</td>\n",
       "      <td>185000.000000</td>\n",
       "      <td>100.000000</td>\n",
       "    </tr>\n",
       "    <tr>\n",
       "      <th>max</th>\n",
       "      <td>2024.000000</td>\n",
       "      <td>3.040000e+07</td>\n",
       "      <td>750000.000000</td>\n",
       "      <td>100.000000</td>\n",
       "    </tr>\n",
       "  </tbody>\n",
       "</table>\n",
       "</div>"
      ],
      "text/plain": [
       "         work_year        salary  salary_in_usd  remote_ratio\n",
       "count  6599.000000  6.599000e+03    6599.000000   6599.000000\n",
       "mean   2022.818457  1.792833e+05  145560.558569     40.513714\n",
       "std       0.674809  5.263722e+05   70946.838070     48.219524\n",
       "min    2020.000000  1.400000e+04   15000.000000      0.000000\n",
       "25%    2023.000000  9.600000e+04   95000.000000      0.000000\n",
       "50%    2023.000000  1.400000e+05  138666.000000      0.000000\n",
       "75%    2023.000000  1.875000e+05  185000.000000    100.000000\n",
       "max    2024.000000  3.040000e+07  750000.000000    100.000000"
      ]
     },
     "execution_count": 15,
     "metadata": {},
     "output_type": "execute_result"
    }
   ],
   "source": [
    "ds_jobs.describe()"
   ]
  },
  {
   "cell_type": "code",
   "execution_count": 16,
   "id": "34fb4258",
   "metadata": {},
   "outputs": [
    {
     "data": {
      "text/plain": [
       "remote_ratio\n",
       "0      3813\n",
       "100    2561\n",
       "50      225\n",
       "Name: count, dtype: int64"
      ]
     },
     "execution_count": 16,
     "metadata": {},
     "output_type": "execute_result"
    }
   ],
   "source": [
    "ds_jobs.remote_ratio.value_counts()"
   ]
  },
  {
   "cell_type": "markdown",
   "id": "8ba1e064",
   "metadata": {},
   "source": [
    "remote_ratio looks more like object attribute rather than numerical. So we will convert that to object types."
   ]
  },
  {
   "cell_type": "code",
   "execution_count": 17,
   "id": "17eb4bef",
   "metadata": {},
   "outputs": [
    {
     "data": {
      "text/plain": [
       "array([[<Axes: title={'center': 'work_year'}>,\n",
       "        <Axes: title={'center': 'salary'}>],\n",
       "       [<Axes: title={'center': 'salary_in_usd'}>,\n",
       "        <Axes: title={'center': 'remote_ratio'}>]], dtype=object)"
      ]
     },
     "execution_count": 17,
     "metadata": {},
     "output_type": "execute_result"
    },
    {
     "data": {
      "image/png": "[encoded data removed]",
      "text/plain": [
       "<Figure size 2000x1500 with 4 Axes>"
      ]
     },
     "metadata": {},
     "output_type": "display_data"
    }
   ],
   "source": [
    "ds_jobs.hist(bins=50, figsize=(20,15))"
   ]
  },
  {
   "cell_type": "markdown",
   "id": "34ce75c1",
   "metadata": {},
   "source": [
    "`From the histogram, we can see that:\n",
    "- all attributes are highly skewed, we may will transform it to have more gaussian bell curve shaped later.\n",
    "- These attributes have very different scale, we will scale the values.\n",
    "- Salary attribute seems have very wide range of values, maybe because it represents values in many different counrty cucrency. So we wil ignore this value and use only salary_in_usd. "
   ]
  },
  {
   "cell_type": "markdown",
   "id": "9f03275f",
   "metadata": {},
   "source": [
    "## 2. Create a Test Set\n",
    "As experience_level has high contribution on target, we want to separate y with same proportion sampling based on experience_level."
   ]
  },
  {
   "cell_type": "code",
   "execution_count": 18,
   "id": "bcd850fd",
   "metadata": {},
   "outputs": [],
   "source": [
    "from sklearn.model_selection import StratifiedShuffleSplit\n",
    "\n",
    "split = StratifiedShuffleSplit(n_splits=1, test_size=0.3, random_state=42)\n",
    "\n",
    "for train_index, test_index in split.split(ds_jobs, ds_jobs['experience_level']):\n",
    "    strat_train_set = ds_jobs.iloc[train_index]\n",
    "    strat_test_set = ds_jobs.iloc[test_index]"
   ]
  },
  {
   "cell_type": "markdown",
   "id": "453ceef2",
   "metadata": {},
   "source": [
    "## Discover and Visualize the Data to Gain Insights"
   ]
  },
  {
   "cell_type": "code",
   "execution_count": 19,
   "id": "7b8906cf",
   "metadata": {},
   "outputs": [],
   "source": [
    "ds_jobs = strat_train_set.copy()"
   ]
  },
  {
   "cell_type": "code",
   "execution_count": 20,
   "id": "c7c4e1f3",
   "metadata": {},
   "outputs": [
    {
     "data": {
      "text/html": [
       "<div>\n",
       "<style scoped>\n",
       "    .dataframe tbody tr th:only-of-type {\n",
       "        vertical-align: middle;\n",
       "    }\n",
       "\n",
       "    .dataframe tbody tr th {\n",
       "        vertical-align: top;\n",
       "    }\n",
       "\n",
       "    .dataframe thead th {\n",
       "        text-align: right;\n",
       "    }\n",
       "</style>\n",
       "<table border=\"1\" class=\"dataframe\">\n",
       "  <thead>\n",
       "    <tr style=\"text-align: right;\">\n",
       "      <th></th>\n",
       "      <th>job_title</th>\n",
       "      <th>experience_level</th>\n",
       "      <th>employment_type</th>\n",
       "      <th>work_models</th>\n",
       "      <th>work_year</th>\n",
       "      <th>employee_residence</th>\n",
       "      <th>salary</th>\n",
       "      <th>salary_currency</th>\n",
       "      <th>salary_in_usd</th>\n",
       "      <th>company_location</th>\n",
       "      <th>company_size</th>\n",
       "      <th>remote_ratio</th>\n",
       "    </tr>\n",
       "  </thead>\n",
       "  <tbody>\n",
       "    <tr>\n",
       "      <th>1785</th>\n",
       "      <td>Data Scientist</td>\n",
       "      <td>SE</td>\n",
       "      <td>FT</td>\n",
       "      <td>On-site</td>\n",
       "      <td>2023</td>\n",
       "      <td>US</td>\n",
       "      <td>111000</td>\n",
       "      <td>USD</td>\n",
       "      <td>111000</td>\n",
       "      <td>US</td>\n",
       "      <td>M</td>\n",
       "      <td>0</td>\n",
       "    </tr>\n",
       "    <tr>\n",
       "      <th>3974</th>\n",
       "      <td>Research Engineer</td>\n",
       "      <td>MI</td>\n",
       "      <td>FT</td>\n",
       "      <td>On-site</td>\n",
       "      <td>2023</td>\n",
       "      <td>US</td>\n",
       "      <td>200000</td>\n",
       "      <td>USD</td>\n",
       "      <td>200000</td>\n",
       "      <td>US</td>\n",
       "      <td>M</td>\n",
       "      <td>0</td>\n",
       "    </tr>\n",
       "    <tr>\n",
       "      <th>4928</th>\n",
       "      <td>AI Scientist</td>\n",
       "      <td>MI</td>\n",
       "      <td>FT</td>\n",
       "      <td>Hybrid</td>\n",
       "      <td>2023</td>\n",
       "      <td>Spain</td>\n",
       "      <td>36000</td>\n",
       "      <td>EUR</td>\n",
       "      <td>38868</td>\n",
       "      <td>Spain</td>\n",
       "      <td>L</td>\n",
       "      <td>50</td>\n",
       "    </tr>\n",
       "    <tr>\n",
       "      <th>4170</th>\n",
       "      <td>Data Science Consultant</td>\n",
       "      <td>MI</td>\n",
       "      <td>FT</td>\n",
       "      <td>On-site</td>\n",
       "      <td>2023</td>\n",
       "      <td>US</td>\n",
       "      <td>70000</td>\n",
       "      <td>USD</td>\n",
       "      <td>70000</td>\n",
       "      <td>US</td>\n",
       "      <td>M</td>\n",
       "      <td>0</td>\n",
       "    </tr>\n",
       "    <tr>\n",
       "      <th>2492</th>\n",
       "      <td>Business Intelligence Analyst</td>\n",
       "      <td>SE</td>\n",
       "      <td>FT</td>\n",
       "      <td>On-site</td>\n",
       "      <td>2023</td>\n",
       "      <td>US</td>\n",
       "      <td>99000</td>\n",
       "      <td>USD</td>\n",
       "      <td>99000</td>\n",
       "      <td>US</td>\n",
       "      <td>M</td>\n",
       "      <td>0</td>\n",
       "    </tr>\n",
       "  </tbody>\n",
       "</table>\n",
       "</div>"
      ],
      "text/plain": [
       "                          job_title experience_level employment_type  \\\n",
       "1785                 Data Scientist               SE              FT   \n",
       "3974              Research Engineer               MI              FT   \n",
       "4928                   AI Scientist               MI              FT   \n",
       "4170        Data Science Consultant               MI              FT   \n",
       "2492  Business Intelligence Analyst               SE              FT   \n",
       "\n",
       "     work_models  work_year employee_residence  salary salary_currency  \\\n",
       "1785     On-site       2023                 US  111000             USD   \n",
       "3974     On-site       2023                 US  200000             USD   \n",
       "4928      Hybrid       2023              Spain   36000             EUR   \n",
       "4170     On-site       2023                 US   70000             USD   \n",
       "2492     On-site       2023                 US   99000             USD   \n",
       "\n",
       "      salary_in_usd company_location company_size  remote_ratio  \n",
       "1785         111000               US            M             0  \n",
       "3974         200000               US            M             0  \n",
       "4928          38868            Spain            L            50  \n",
       "4170          70000               US            M             0  \n",
       "2492          99000               US            M             0  "
      ]
     },
     "execution_count": 20,
     "metadata": {},
     "output_type": "execute_result"
    }
   ],
   "source": [
    "ds_jobs.head()"
   ]
  },
  {
   "cell_type": "markdown",
   "id": "46ebebfc",
   "metadata": {},
   "source": [
    "### Visualize Attributes"
   ]
  },
  {
   "cell_type": "code",
   "execution_count": 21,
   "id": "57dbe276",
   "metadata": {},
   "outputs": [
    {
     "data": {
      "text/plain": [
       "work_year\n",
       "2020      50\n",
       "2021     147\n",
       "2022     784\n",
       "2023    3234\n",
       "2024     404\n",
       "Name: count, dtype: int64"
      ]
     },
     "execution_count": 21,
     "metadata": {},
     "output_type": "execute_result"
    }
   ],
   "source": [
    "work_year_count = ds_jobs.work_year.value_counts().sort_index()\n",
    "work_year_count"
   ]
  },
  {
   "cell_type": "code",
   "execution_count": 22,
   "id": "49a8396b",
   "metadata": {},
   "outputs": [
    {
     "data": {
      "text/plain": [
       "Text(0.5, 1.0, 'Num of Salary Records per Year')"
      ]
     },
     "execution_count": 22,
     "metadata": {},
     "output_type": "execute_result"
    },
    {
     "data": {
      "image/png": "[encoded data removed]",
      "text/plain": [
       "<Figure size 640x480 with 1 Axes>"
      ]
     },
     "metadata": {},
     "output_type": "display_data"
    }
   ],
   "source": [
    "plt.plot(work_year_count.index, work_year_count)\n",
    "plt.xlabel('Work Year')\n",
    "plt.ylabel('Count')\n",
    "plt.xticks(work_year_count.index)\n",
    "plt.title('Num of Salary Records per Year')"
   ]
  },
  {
   "cell_type": "markdown",
   "id": "ee897041",
   "metadata": {},
   "source": [
    "We can see that data science jobs started booming in recent years."
   ]
  },
  {
   "cell_type": "code",
   "execution_count": 23,
   "id": "ba93efa9",
   "metadata": {
    "scrolled": false
   },
   "outputs": [
    {
     "data": {
      "text/plain": [
       "Text(0.5, 1.0, 'Work Year Salary Distribution')"
      ]
     },
     "execution_count": 23,
     "metadata": {},
     "output_type": "execute_result"
    },
    {
     "data": {
      "image/png": "[encoded data removed]",
      "text/plain": [
       "<Figure size 640x480 with 1 Axes>"
      ]
     },
     "metadata": {},
     "output_type": "display_data"
    }
   ],
   "source": [
    "sns.boxplot(x='work_year', y='salary_in_usd', data=ds_jobs)\n",
    "plt.title('Work Year Salary Distribution')"
   ]
  },
  {
   "cell_type": "code",
   "execution_count": 24,
   "id": "31739693",
   "metadata": {
    "scrolled": false
   },
   "outputs": [
    {
     "data": {
      "text/plain": [
       "Text(0.5, 1.0, 'Work Year Salary Distribution')"
      ]
     },
     "execution_count": 24,
     "metadata": {},
     "output_type": "execute_result"
    },
    {
     "data": {
      "image/png": "[encoded data removed]",
      "text/plain": [
       "<Figure size 640x480 with 1 Axes>"
      ]
     },
     "metadata": {},
     "output_type": "display_data"
    }
   ],
   "source": [
    "plt.scatter(x='work_year', y='salary_in_usd', data=ds_jobs)\n",
    "plt.title('Work Year Salary Distribution')"
   ]
  },
  {
   "cell_type": "markdown",
   "id": "edf3a6b9",
   "metadata": {},
   "source": [
    "Salary is increasing as year increases."
   ]
  },
  {
   "cell_type": "code",
   "execution_count": 25,
   "id": "b1c2f926",
   "metadata": {
    "scrolled": true
   },
   "outputs": [
    {
     "data": {
      "text/plain": [
       "Text(0.5, 1.0, 'Experience Level Salary Distribution')"
      ]
     },
     "execution_count": 25,
     "metadata": {},
     "output_type": "execute_result"
    },
    {
     "data": {
      "image/png": "[encoded data removed]",
      "text/plain": [
       "<Figure size 640x480 with 1 Axes>"
      ]
     },
     "metadata": {},
     "output_type": "display_data"
    }
   ],
   "source": [
    "sns.boxplot(x='experience_level', y='salary_in_usd', data=ds_jobs, order=['EN', 'MI', 'SE', 'EX'])\n",
    "plt.title('Experience Level Salary Distribution')"
   ]
  },
  {
   "cell_type": "markdown",
   "id": "46315772",
   "metadata": {},
   "source": [
    "The plot shows increasing order of salary as the experince level gets higher."
   ]
  },
  {
   "cell_type": "code",
   "execution_count": 26,
   "id": "c9066dbe",
   "metadata": {},
   "outputs": [
    {
     "data": {
      "text/plain": [
       "employment_type\n",
       "FT    4586\n",
       "CT      14\n",
       "PT      10\n",
       "FL       9\n",
       "Name: count, dtype: int64"
      ]
     },
     "execution_count": 26,
     "metadata": {},
     "output_type": "execute_result"
    }
   ],
   "source": [
    "ds_jobs.employment_type.value_counts()"
   ]
  },
  {
   "cell_type": "code",
   "execution_count": 27,
   "id": "f14e5556",
   "metadata": {},
   "outputs": [
    {
     "name": "stdout",
     "output_type": "stream",
     "text": [
      "Fulltime salary: 146854.573920628\n",
      "Non Fulltime salary: 83789.93939393939\n"
     ]
    }
   ],
   "source": [
    "fulltime_salary = ds_jobs[ds_jobs.employment_type=='FT']['salary_in_usd'].mean()\n",
    "non_fulltime_salary = ds_jobs[ds_jobs.employment_type!='FT']['salary_in_usd'].mean()\n",
    "\n",
    "print(f'Fulltime salary: {fulltime_salary}')\n",
    "print(f'Non Fulltime salary: {non_fulltime_salary}')"
   ]
  },
  {
   "cell_type": "markdown",
   "id": "bf1e47a1",
   "metadata": {},
   "source": [
    "Most employees have fulltime job and other types have small presence. Fulltime job also have higher paying than not. \n",
    "\n",
    "So later we want to preprocess employment_type into just two values: fulltime or not."
   ]
  },
  {
   "cell_type": "code",
   "execution_count": 28,
   "id": "e3787530",
   "metadata": {},
   "outputs": [
    {
     "data": {
      "text/plain": [
       "array(['Data Scientist', 'Research Engineer', 'AI Scientist',\n",
       "       'Data Science Consultant', 'Business Intelligence Analyst',\n",
       "       'Research Analyst', 'Data Analyst', 'Data Engineer',\n",
       "       'Data Modeler', 'Business Intelligence Developer',\n",
       "       'Machine Learning Engineer', 'Data Manager', 'Data Architect',\n",
       "       'AI Architect', 'Data Specialist', 'Data Quality Analyst',\n",
       "       'ETL Developer', 'Principal Data Scientist',\n",
       "       'Computer Vision Engineer', 'BI Analyst', 'Research Scientist',\n",
       "       'Business Data Analyst', 'Lead Data Scientist',\n",
       "       'AI Research Engineer', 'BI Developer',\n",
       "       'Machine Learning Scientist', 'Head of Data',\n",
       "       'Machine Learning Researcher', 'Data Operations Specialist',\n",
       "       'Director of Data Science', 'AI Engineer', 'ML Engineer',\n",
       "       'Applied Machine Learning Engineer', 'Data Science Manager',\n",
       "       'Machine Learning Operations Engineer', 'Data Analytics Engineer',\n",
       "       'Data Analytics Manager', 'MLOps Engineer', 'Data Strategist',\n",
       "       'Analytics Engineer', 'Data Infrastructure Engineer',\n",
       "       'AI Developer', 'Data Science Lead', 'AI Programmer',\n",
       "       'Decision Scientist', 'Head of Data Science', 'Applied Scientist',\n",
       "       'Data Developer', 'Applied Data Scientist', 'BI Data Analyst',\n",
       "       'Big Data Engineer', 'Data Science', 'Data Product Manager',\n",
       "       'Big Data Architect', 'Data Operations Engineer',\n",
       "       'Data Integration Specialist',\n",
       "       'Machine Learning Software Engineer', 'Insight Analyst',\n",
       "       'Machine Learning Infrastructure Engineer',\n",
       "       'Data Management Specialist', 'NLP Engineer', 'Data Lead',\n",
       "       'Business Intelligence Manager',\n",
       "       'Applied Machine Learning Scientist', 'Data Quality Engineer',\n",
       "       'Data Science Director', 'Business Intelligence Specialist',\n",
       "       'Data Integration Engineer', 'Computer Vision Software Engineer',\n",
       "       'Business Intelligence Engineer', 'Staff Data Analyst',\n",
       "       'Data Science Engineer', 'Data Analytics Specialist',\n",
       "       'Data Science Practitioner', 'Data Product Owner',\n",
       "       'Lead Machine Learning Engineer', 'Prompt Engineer',\n",
       "       'Principal Machine Learning Engineer', 'Data Analytics Consultant',\n",
       "       'AWS Data Architect', 'Product Data Analyst',\n",
       "       'Machine Learning Developer', 'Data Visualization Engineer',\n",
       "       'Sales Data Analyst', 'Cloud Data Architect', 'Data Analyst Lead',\n",
       "       'Lead Data Analyst', 'Machine Learning Specialist',\n",
       "       'Cloud Data Engineer', 'Head of Machine Learning',\n",
       "       'Principal Data Engineer', 'Principal Data Architect',\n",
       "       'Cloud Database Engineer', 'Data DevOps Engineer',\n",
       "       'Data Visualization Specialist', 'Deep Learning Engineer',\n",
       "       'Data Scientist Lead', 'Data Modeller', 'Software Data Engineer',\n",
       "       'Azure Data Engineer', 'Data Quality Manager',\n",
       "       'Data Analytics Lead', 'Data Operations Analyst',\n",
       "       'Machine Learning Research Engineer', 'Lead Data Engineer',\n",
       "       'Financial Data Analyst', 'Machine Learning Modeler',\n",
       "       'Data Strategy Manager', 'Principal Data Analyst',\n",
       "       'Marketing Data Scientist', 'Staff Data Scientist', 'ETL Engineer',\n",
       "       'AI Product Manager', 'Machine Learning Manager',\n",
       "       'Business Intelligence Data Analyst', 'Marketing Data Analyst',\n",
       "       'Power BI Developer', 'Staff Machine Learning Engineer',\n",
       "       'Managing Director Data Science', 'Data Management Analyst',\n",
       "       'Autonomous Vehicle Technician', 'Manager Data Management',\n",
       "       'Finance Data Analyst', 'Data Science Tech Lead',\n",
       "       'Compliance Data Analyst', 'Deep Learning Researcher',\n",
       "       'Marketing Data Engineer'], dtype=object)"
      ]
     },
     "execution_count": 28,
     "metadata": {},
     "output_type": "execute_result"
    }
   ],
   "source": [
    "ds_jobs.job_title.unique()"
   ]
  },
  {
   "cell_type": "markdown",
   "id": "64bb7f93",
   "metadata": {},
   "source": [
    "There are many different values in job_title that actually share similar meaning. So later, I want to combine job_title with similar meaning into one like : Data Analyst, Data scientist, Data engineer, Machine learning engineer, AI engineer"
   ]
  },
  {
   "cell_type": "code",
   "execution_count": 29,
   "id": "d50564cf",
   "metadata": {},
   "outputs": [
    {
     "data": {
      "text/plain": [
       "salary_currency\n",
       "USD    4075\n",
       "GBP     237\n",
       "EUR     207\n",
       "INR      34\n",
       "CAD      26\n",
       "AUD       8\n",
       "PLN       6\n",
       "SGD       5\n",
       "CHF       4\n",
       "BRL       3\n",
       "JPY       3\n",
       "THB       2\n",
       "HUF       2\n",
       "DKK       2\n",
       "TRY       2\n",
       "MXN       1\n",
       "HKD       1\n",
       "ILS       1\n",
       "Name: count, dtype: int64"
      ]
     },
     "execution_count": 29,
     "metadata": {},
     "output_type": "execute_result"
    }
   ],
   "source": [
    "ds_jobs.salary_currency.value_counts()"
   ]
  },
  {
   "cell_type": "code",
   "execution_count": 30,
   "id": "8c63d951",
   "metadata": {},
   "outputs": [
    {
     "name": "stdout",
     "output_type": "stream",
     "text": [
      "usd_currency: 155814.5626993865\n",
      "Non usd_currency: 75911.39889705883\n"
     ]
    }
   ],
   "source": [
    "usd_currency = ds_jobs[ds_jobs.salary_currency=='USD']['salary_in_usd'].mean()\n",
    "non_usd_currency = ds_jobs[ds_jobs.salary_currency!='USD']['salary_in_usd'].mean()\n",
    "\n",
    "print(f'usd_currency: {usd_currency}')\n",
    "print(f'Non usd_currency: {non_usd_currency}')"
   ]
  },
  {
   "cell_type": "markdown",
   "id": "0e56e5fd",
   "metadata": {},
   "source": [
    "Most of currency is in USD, while some currency have very small occurrence. USD currency also have higher paying than not. \n",
    "\n",
    "So later we want to preprocess salary_currency into just two values: usd or not."
   ]
  },
  {
   "cell_type": "code",
   "execution_count": 31,
   "id": "f6f5c4ab",
   "metadata": {},
   "outputs": [
    {
     "data": {
      "text/plain": [
       "Text(0.5, 1.0, 'Salary Distributions')"
      ]
     },
     "execution_count": 31,
     "metadata": {},
     "output_type": "execute_result"
    },
    {
     "data": {
      "image/png": "[encoded data removed]",
      "text/plain": [
       "<Figure size 640x480 with 1 Axes>"
      ]
     },
     "metadata": {},
     "output_type": "display_data"
    }
   ],
   "source": [
    "salary_usd_in_k = ds_jobs.salary_in_usd /1000\n",
    "\n",
    "plt.hist(salary_usd_in_k)\n",
    "plt.xlabel('Salary (Thousands USD)')\n",
    "plt.ylabel('Count')\n",
    "plt.title('Salary Distributions')"
   ]
  },
  {
   "cell_type": "code",
   "execution_count": 32,
   "id": "08c43956",
   "metadata": {},
   "outputs": [
    {
     "data": {
      "image/png": "[encoded data removed]",
      "text/plain": [
       "<Figure size 800x500 with 1 Axes>"
      ]
     },
     "metadata": {},
     "output_type": "display_data"
    }
   ],
   "source": [
    "# Plot density\n",
    "plt.figure(figsize=(8, 5))\n",
    "sns.kdeplot(data=ds_jobs, x=\"salary_in_usd\", hue=\"experience_level\", fill=True, alpha=0.2)\n",
    "\n",
    "# Labels\n",
    "plt.xlabel(\"Salary ($)\")\n",
    "plt.ylabel(\"Density\")\n",
    "plt.title(\"Salary Distribution by Experience Level\")\n",
    "plt.show()"
   ]
  },
  {
   "cell_type": "markdown",
   "id": "b3a1729c",
   "metadata": {},
   "source": [
    "Salary is highly correlated with experience level of employee."
   ]
  },
  {
   "cell_type": "code",
   "execution_count": 33,
   "id": "2d6e06af",
   "metadata": {},
   "outputs": [
    {
     "data": {
      "text/plain": [
       "employee_residence\n",
       "US                3691\n",
       "United Kingdom     289\n",
       "Canada             172\n",
       "Germany             50\n",
       "India               48\n",
       "                  ... \n",
       "Andorra              1\n",
       "Jersey               1\n",
       "Israel               1\n",
       "Cyprus               1\n",
       "Kuwait               1\n",
       "Name: count, Length: 76, dtype: int64"
      ]
     },
     "execution_count": 33,
     "metadata": {},
     "output_type": "execute_result"
    }
   ],
   "source": [
    "ds_jobs.employee_residence.value_counts()"
   ]
  },
  {
   "cell_type": "code",
   "execution_count": 34,
   "id": "87885b07",
   "metadata": {},
   "outputs": [
    {
     "name": "stdout",
     "output_type": "stream",
     "text": [
      "us_employee_residence: 158813.22514223788\n",
      "Non us_employee_residence: 97047.9849137931\n"
     ]
    }
   ],
   "source": [
    "us_employee_residence = ds_jobs[ds_jobs.employee_residence=='US']['salary_in_usd'].mean()\n",
    "non_us_employee_residence = ds_jobs[ds_jobs.employee_residence!='US']['salary_in_usd'].mean()\n",
    "\n",
    "print(f'us_employee_residence: {us_employee_residence}')\n",
    "print(f'Non us_employee_residence: {non_us_employee_residence}')"
   ]
  },
  {
   "cell_type": "markdown",
   "id": "b3d033c0",
   "metadata": {},
   "source": [
    "Mpst of employess live in US, mostly employees are in Europe like UK, Spanyol, German. Outside that have small counts.\n",
    "\n",
    "US employee residence also have higher paying than not. \n",
    "\n",
    "So later we want to preprocess employee_residence into just two values: us or not."
   ]
  },
  {
   "cell_type": "code",
   "execution_count": 35,
   "id": "49640b0d",
   "metadata": {},
   "outputs": [
    {
     "data": {
      "text/html": [
       "<div>\n",
       "<style scoped>\n",
       "    .dataframe tbody tr th:only-of-type {\n",
       "        vertical-align: middle;\n",
       "    }\n",
       "\n",
       "    .dataframe tbody tr th {\n",
       "        vertical-align: top;\n",
       "    }\n",
       "\n",
       "    .dataframe thead th {\n",
       "        text-align: right;\n",
       "    }\n",
       "</style>\n",
       "<table border=\"1\" class=\"dataframe\">\n",
       "  <thead>\n",
       "    <tr style=\"text-align: right;\">\n",
       "      <th></th>\n",
       "      <th>count_remote_type</th>\n",
       "      <th>avg_remote_type</th>\n",
       "    </tr>\n",
       "    <tr>\n",
       "      <th>remote_ratio</th>\n",
       "      <th></th>\n",
       "      <th></th>\n",
       "    </tr>\n",
       "  </thead>\n",
       "  <tbody>\n",
       "    <tr>\n",
       "      <th>0</th>\n",
       "      <td>2669</td>\n",
       "      <td>152972.678157</td>\n",
       "    </tr>\n",
       "    <tr>\n",
       "      <th>50</th>\n",
       "      <td>157</td>\n",
       "      <td>81156.031847</td>\n",
       "    </tr>\n",
       "    <tr>\n",
       "      <th>100</th>\n",
       "      <td>1793</td>\n",
       "      <td>142339.413832</td>\n",
       "    </tr>\n",
       "  </tbody>\n",
       "</table>\n",
       "</div>"
      ],
      "text/plain": [
       "              count_remote_type  avg_remote_type\n",
       "remote_ratio                                    \n",
       "0                          2669    152972.678157\n",
       "50                          157     81156.031847\n",
       "100                        1793    142339.413832"
      ]
     },
     "execution_count": 35,
     "metadata": {},
     "output_type": "execute_result"
    }
   ],
   "source": [
    "ds_jobs.groupby('remote_ratio').agg(\n",
    "    count_remote_type= ('salary_in_usd', 'count'),\n",
    "    avg_remote_type = ('salary_in_usd', 'mean')\n",
    ")"
   ]
  },
  {
   "cell_type": "markdown",
   "id": "42bc8648",
   "metadata": {},
   "source": [
    "The salary relatively same for either fulltime or remote."
   ]
  },
  {
   "cell_type": "code",
   "execution_count": 36,
   "id": "e2f87308",
   "metadata": {},
   "outputs": [
    {
     "data": {
      "text/plain": [
       "company_location\n",
       "US                3725\n",
       "United Kingdom     294\n",
       "Canada             173\n",
       "Germany             59\n",
       "France              40\n",
       "                  ... \n",
       "Bahamas              1\n",
       "Qatar                1\n",
       "Andorra              1\n",
       "China                1\n",
       "Malaysia             1\n",
       "Name: count, Length: 67, dtype: int64"
      ]
     },
     "execution_count": 36,
     "metadata": {},
     "output_type": "execute_result"
    }
   ],
   "source": [
    "ds_jobs.company_location.value_counts()"
   ]
  },
  {
   "cell_type": "code",
   "execution_count": 37,
   "id": "0db9104d",
   "metadata": {},
   "outputs": [
    {
     "name": "stdout",
     "output_type": "stream",
     "text": [
      "us_company_location: 158160.25127516777\n",
      "Non us_company_location: 97419.69574944071\n"
     ]
    }
   ],
   "source": [
    "us_company_location = ds_jobs[ds_jobs.company_location=='US']['salary_in_usd'].mean()\n",
    "non_us_company_location = ds_jobs[ds_jobs.company_location!='US']['salary_in_usd'].mean()\n",
    "\n",
    "print(f'us_company_location: {us_company_location}')\n",
    "print(f'Non us_company_location: {non_us_company_location}')"
   ]
  },
  {
   "cell_type": "markdown",
   "id": "4480c51e",
   "metadata": {},
   "source": [
    "Most companies are also based in US. US company also give higher salary than not.\n",
    "\n",
    "So later we want to preprocess company_location into just two values: us or not."
   ]
  },
  {
   "cell_type": "code",
   "execution_count": 38,
   "id": "7b9911d4",
   "metadata": {},
   "outputs": [
    {
     "data": {
      "text/plain": [
       "<Axes: xlabel='company_size', ylabel='salary_in_usd'>"
      ]
     },
     "execution_count": 38,
     "metadata": {},
     "output_type": "execute_result"
    },
    {
     "data": {
      "image/png": "[encoded data removed]",
      "text/plain": [
       "<Figure size 640x480 with 1 Axes>"
      ]
     },
     "metadata": {},
     "output_type": "display_data"
    }
   ],
   "source": [
    "sns.boxplot(x='company_size', y='salary_in_usd', data=ds_jobs, order=['S', 'M', 'L'])"
   ]
  },
  {
   "cell_type": "markdown",
   "id": "15014606",
   "metadata": {},
   "source": [
    "The size of company contirbutes to the salary ranges. Large companies tend to give higher salary"
   ]
  },
  {
   "cell_type": "code",
   "execution_count": 39,
   "id": "fe33ac4c",
   "metadata": {},
   "outputs": [
    {
     "data": {
      "image/png": "[encoded data removed]",
      "text/plain": [
       "<Figure size 800x600 with 1 Axes>"
      ]
     },
     "metadata": {},
     "output_type": "display_data"
    }
   ],
   "source": [
    "pivot_df = ds_jobs.pivot_table(values='salary_in_usd', index='work_year', columns='experience_level', aggfunc='sum', fill_value=0)\n",
    "\n",
    "experience_order = ['EN', 'MI', 'SE', 'EX']\n",
    "pivot_df = pivot_df[experience_order]\n",
    "\n",
    "ax = pivot_df.plot(kind='barh', stacked=True, colormap=\"viridis\", figsize=(8, 6))\n",
    "\n",
    "plt.ylabel(\"Work Year\")\n",
    "plt.xlabel(\"Salary in USD\")\n",
    "plt.title(\"Stacked Bar Chart of Salary by Work Year and Experience Level\")\n",
    "plt.legend(title=\"Experience Level\", loc='lower center')\n",
    "\n",
    "\n",
    "ax.spines['top'].set_visible(False)\n",
    "ax.spines['right'].set_visible(False)\n",
    "ax.spines['bottom'].set_visible(False)  \n",
    "ax.xaxis.set_visible(False)  \n",
    "\n",
    "plt.show()\n",
    "\n"
   ]
  },
  {
   "cell_type": "markdown",
   "id": "a70e3a9a",
   "metadata": {},
   "source": [
    "Data Science and AI jobs mostly dominated by senior level experience."
   ]
  },
  {
   "cell_type": "code",
   "execution_count": 40,
   "id": "3d559c35",
   "metadata": {},
   "outputs": [
    {
     "data": {
      "image/png": "[encoded data removed]",
      "text/plain": [
       "<Figure size 800x600 with 1 Axes>"
      ]
     },
     "metadata": {},
     "output_type": "display_data"
    }
   ],
   "source": [
    "pivot_df = ds_jobs.pivot_table(values='salary_in_usd', index='work_year', columns='experience_level', aggfunc='mean', fill_value=0)\n",
    "\n",
    "experience_order = ['EN', 'MI', 'SE', 'EX']\n",
    "pivot_df = pivot_df[experience_order]\n",
    "\n",
    "ax = pivot_df.plot(kind='bar', colormap=\"viridis\", figsize=(8, 6))\n",
    "\n",
    "plt.xlabel(\"Work Year\")\n",
    "plt.ylabel(\"Salary in USD\")\n",
    "plt.title(\"Salary by Experience Level for Each Year\")\n",
    "plt.legend(title=\"Experience Level\")\n",
    "plt.xticks(rotation=0)\n",
    "\n",
    "plt.show()\n",
    "\n"
   ]
  },
  {
   "cell_type": "markdown",
   "id": "09bac15d",
   "metadata": {},
   "source": [
    "Salary relatively increasing by year, but the salary for each level experience have similar range."
   ]
  },
  {
   "cell_type": "markdown",
   "id": "b6a9f780",
   "metadata": {},
   "source": [
    "## 3. Check Outliers"
   ]
  },
  {
   "cell_type": "markdown",
   "id": "fb33385e",
   "metadata": {},
   "source": [
    "Check outliers in salary by Experience_Level"
   ]
  },
  {
   "cell_type": "code",
   "execution_count": 41,
   "id": "1b07cb4f",
   "metadata": {},
   "outputs": [
    {
     "data": {
      "image/png": "[encoded data removed]",
      "text/plain": [
       "<Figure size 1200x600 with 4 Axes>"
      ]
     },
     "metadata": {},
     "output_type": "display_data"
    }
   ],
   "source": [
    "def plot_histogram_salary_of_experience(df):\n",
    "    experience_levels = df['experience_level'].unique()\n",
    "    fig, axes = plt.subplots(2, 2, figsize=(12, 6))  # Create a 2x2 grid\n",
    "\n",
    "    axes = axes.flatten()  \n",
    "\n",
    "    for i, (exp, exp_salary_df) in enumerate(df.groupby('experience_level')):\n",
    "        axes[i].hist(exp_salary_df.salary_in_usd, bins=20, alpha=0.7, color='blue', edgecolor='black')\n",
    "        axes[i].set_title(f'Salary Distribution for {exp}')\n",
    "        axes[i].set_xlabel('Salary in USD')\n",
    "        axes[i].set_ylabel('Frequency')\n",
    "\n",
    "    # Hide any unused subplots if less than 4 experience levels exist\n",
    "    for j in range(i + 1, 4):\n",
    "        fig.delaxes(axes[j])\n",
    "\n",
    "    plt.tight_layout()  # Adjust layout to prevent overlapping\n",
    "    plt.show()\n",
    "\n",
    "plot_histogram_salary_of_experience(ds_jobs)"
   ]
  },
  {
   "cell_type": "code",
   "execution_count": 42,
   "id": "7babca35",
   "metadata": {},
   "outputs": [],
   "source": [
    "def remove_outlier_salary(df):\n",
    "    df_out = pd.DataFrame()\n",
    "    for exp, exp_df in df.groupby('experience_level'):\n",
    "        mean = np.mean(exp_df['salary_in_usd'])\n",
    "        std = np.std(exp_df['salary_in_usd'])\n",
    "        exp_df = exp_df[(exp_df['salary_in_usd'] >= (mean-2*std)) & (exp_df['salary_in_usd'] <= (mean+2*std))]\n",
    "        df_out = pd.concat([df_out, exp_df])\n",
    "    return df_out\n"
   ]
  },
  {
   "cell_type": "code",
   "execution_count": 43,
   "id": "67184584",
   "metadata": {},
   "outputs": [
    {
     "data": {
      "text/plain": [
       "(4451, 12)"
      ]
     },
     "execution_count": 43,
     "metadata": {},
     "output_type": "execute_result"
    }
   ],
   "source": [
    "cleaned_dsjobs = remove_outlier_salary(ds_jobs)\n",
    "cleaned_dsjobs.shape"
   ]
  },
  {
   "cell_type": "code",
   "execution_count": 44,
   "id": "78ece386",
   "metadata": {},
   "outputs": [
    {
     "data": {
      "image/png": "[encoded data removed]",
      "text/plain": [
       "<Figure size 1200x600 with 4 Axes>"
      ]
     },
     "metadata": {},
     "output_type": "display_data"
    }
   ],
   "source": [
    "plot_histogram_salary_of_experience(cleaned_dsjobs)"
   ]
  },
  {
   "cell_type": "code",
   "execution_count": 45,
   "id": "68a2aca8",
   "metadata": {},
   "outputs": [
    {
     "data": {
      "image/png": "[encoded data removed]",
      "text/plain": [
       "<Figure size 800x500 with 1 Axes>"
      ]
     },
     "metadata": {},
     "output_type": "display_data"
    }
   ],
   "source": [
    "# Plot density\n",
    "plt.figure(figsize=(8, 5))\n",
    "sns.kdeplot(data=cleaned_dsjobs, x=\"salary_in_usd\", hue=\"experience_level\", fill=True, alpha=0.2)\n",
    "\n",
    "# Labels\n",
    "plt.xlabel(\"Salary ($)\")\n",
    "plt.ylabel(\"Density\")\n",
    "plt.title(\"Salary Distribution by Experience Level\")\n",
    "plt.show()"
   ]
  },
  {
   "cell_type": "markdown",
   "id": "a85e30ad",
   "metadata": {},
   "source": [
    "## 3. Data Wrangling"
   ]
  },
  {
   "cell_type": "code",
   "execution_count": 46,
   "id": "45051d8c",
   "metadata": {},
   "outputs": [
    {
     "data": {
      "text/plain": [
       "job_title             0\n",
       "experience_level      0\n",
       "employment_type       0\n",
       "work_models           0\n",
       "work_year             0\n",
       "employee_residence    0\n",
       "salary                0\n",
       "salary_currency       0\n",
       "salary_in_usd         0\n",
       "company_location      0\n",
       "company_size          0\n",
       "remote_ratio          0\n",
       "dtype: int64"
      ]
     },
     "execution_count": 46,
     "metadata": {},
     "output_type": "execute_result"
    }
   ],
   "source": [
    "cleaned_dsjobs.isnull().sum()"
   ]
  },
  {
   "cell_type": "code",
   "execution_count": 47,
   "id": "9372cf36",
   "metadata": {},
   "outputs": [],
   "source": [
    "# from sklearn.preprocessing import OrdinalEncoder\n",
    "\n",
    "# year_encoder = OrdinalEncoder()\n",
    "\n",
    "# year_encoder.fit_transform(cleaned_dsjobs[['work_year']])"
   ]
  },
  {
   "cell_type": "code",
   "execution_count": 48,
   "id": "251fe97b",
   "metadata": {},
   "outputs": [
    {
     "name": "stderr",
     "output_type": "stream",
     "text": [
      "C:\\Users\\Asus\\AppData\\Local\\Temp\\ipykernel_14348\\715554084.py:7: FutureWarning: Downcasting behavior in `replace` is deprecated and will be removed in a future version. To retain the old behavior, explicitly call `result.infer_objects(copy=False)`. To opt-in to the future behavior, set `pd.set_option('future.no_silent_downcasting', True)`\n",
      "  df['experience_level'] = df['experience_level'].replace({'EN': 1, 'MI': 2, 'SE': 3, 'EX': 4})\n",
      "C:\\Users\\Asus\\AppData\\Local\\Temp\\ipykernel_14348\\715554084.py:8: FutureWarning: Downcasting behavior in `replace` is deprecated and will be removed in a future version. To retain the old behavior, explicitly call `result.infer_objects(copy=False)`. To opt-in to the future behavior, set `pd.set_option('future.no_silent_downcasting', True)`\n",
      "  df['company_size'] = df['company_size'].replace({'S': 1, 'M': 2, 'L': 3})\n"
     ]
    },
    {
     "data": {
      "text/html": [
       "<div>\n",
       "<style scoped>\n",
       "    .dataframe tbody tr th:only-of-type {\n",
       "        vertical-align: middle;\n",
       "    }\n",
       "\n",
       "    .dataframe tbody tr th {\n",
       "        vertical-align: top;\n",
       "    }\n",
       "\n",
       "    .dataframe thead th {\n",
       "        text-align: right;\n",
       "    }\n",
       "</style>\n",
       "<table border=\"1\" class=\"dataframe\">\n",
       "  <thead>\n",
       "    <tr style=\"text-align: right;\">\n",
       "      <th></th>\n",
       "      <th>job_title</th>\n",
       "      <th>experience_level</th>\n",
       "      <th>employment_type</th>\n",
       "      <th>work_models</th>\n",
       "      <th>work_year</th>\n",
       "      <th>employee_residence</th>\n",
       "      <th>salary</th>\n",
       "      <th>salary_currency</th>\n",
       "      <th>salary_in_usd</th>\n",
       "      <th>company_location</th>\n",
       "      <th>company_size</th>\n",
       "      <th>remote_ratio</th>\n",
       "      <th>fulltime_emp</th>\n",
       "      <th>us_currency</th>\n",
       "      <th>us_emp_residence</th>\n",
       "      <th>us_company_loc</th>\n",
       "    </tr>\n",
       "  </thead>\n",
       "  <tbody>\n",
       "    <tr>\n",
       "      <th>4765</th>\n",
       "      <td>Research Analyst</td>\n",
       "      <td>1</td>\n",
       "      <td>FT</td>\n",
       "      <td>On-site</td>\n",
       "      <td>2023</td>\n",
       "      <td>United Kingdom</td>\n",
       "      <td>35000</td>\n",
       "      <td>GBP</td>\n",
       "      <td>43064</td>\n",
       "      <td>United Kingdom</td>\n",
       "      <td>2</td>\n",
       "      <td>0</td>\n",
       "      <td>1</td>\n",
       "      <td>0</td>\n",
       "      <td>0</td>\n",
       "      <td>0</td>\n",
       "    </tr>\n",
       "    <tr>\n",
       "      <th>1043</th>\n",
       "      <td>Data Analyst</td>\n",
       "      <td>1</td>\n",
       "      <td>FT</td>\n",
       "      <td>Remote</td>\n",
       "      <td>2023</td>\n",
       "      <td>US</td>\n",
       "      <td>102000</td>\n",
       "      <td>USD</td>\n",
       "      <td>102000</td>\n",
       "      <td>US</td>\n",
       "      <td>2</td>\n",
       "      <td>100</td>\n",
       "      <td>1</td>\n",
       "      <td>1</td>\n",
       "      <td>1</td>\n",
       "      <td>1</td>\n",
       "    </tr>\n",
       "    <tr>\n",
       "      <th>1566</th>\n",
       "      <td>Data Scientist</td>\n",
       "      <td>1</td>\n",
       "      <td>PT</td>\n",
       "      <td>On-site</td>\n",
       "      <td>2023</td>\n",
       "      <td>US</td>\n",
       "      <td>133000</td>\n",
       "      <td>USD</td>\n",
       "      <td>133000</td>\n",
       "      <td>US</td>\n",
       "      <td>2</td>\n",
       "      <td>0</td>\n",
       "      <td>0</td>\n",
       "      <td>1</td>\n",
       "      <td>1</td>\n",
       "      <td>1</td>\n",
       "    </tr>\n",
       "    <tr>\n",
       "      <th>1574</th>\n",
       "      <td>Research Analyst</td>\n",
       "      <td>1</td>\n",
       "      <td>FT</td>\n",
       "      <td>Remote</td>\n",
       "      <td>2023</td>\n",
       "      <td>US</td>\n",
       "      <td>43500</td>\n",
       "      <td>USD</td>\n",
       "      <td>43500</td>\n",
       "      <td>US</td>\n",
       "      <td>2</td>\n",
       "      <td>100</td>\n",
       "      <td>1</td>\n",
       "      <td>1</td>\n",
       "      <td>1</td>\n",
       "      <td>1</td>\n",
       "    </tr>\n",
       "    <tr>\n",
       "      <th>837</th>\n",
       "      <td>Data Manager</td>\n",
       "      <td>1</td>\n",
       "      <td>FT</td>\n",
       "      <td>On-site</td>\n",
       "      <td>2023</td>\n",
       "      <td>US</td>\n",
       "      <td>85600</td>\n",
       "      <td>USD</td>\n",
       "      <td>85600</td>\n",
       "      <td>US</td>\n",
       "      <td>2</td>\n",
       "      <td>0</td>\n",
       "      <td>1</td>\n",
       "      <td>1</td>\n",
       "      <td>1</td>\n",
       "      <td>1</td>\n",
       "    </tr>\n",
       "  </tbody>\n",
       "</table>\n",
       "</div>"
      ],
      "text/plain": [
       "             job_title  experience_level employment_type work_models  \\\n",
       "4765  Research Analyst                 1              FT     On-site   \n",
       "1043      Data Analyst                 1              FT      Remote   \n",
       "1566    Data Scientist                 1              PT     On-site   \n",
       "1574  Research Analyst                 1              FT      Remote   \n",
       "837       Data Manager                 1              FT     On-site   \n",
       "\n",
       "      work_year employee_residence  salary salary_currency  salary_in_usd  \\\n",
       "4765       2023     United Kingdom   35000             GBP          43064   \n",
       "1043       2023                 US  102000             USD         102000   \n",
       "1566       2023                 US  133000             USD         133000   \n",
       "1574       2023                 US   43500             USD          43500   \n",
       "837        2023                 US   85600             USD          85600   \n",
       "\n",
       "     company_location  company_size  remote_ratio  fulltime_emp  us_currency  \\\n",
       "4765   United Kingdom             2             0             1            0   \n",
       "1043               US             2           100             1            1   \n",
       "1566               US             2             0             0            1   \n",
       "1574               US             2           100             1            1   \n",
       "837                US             2             0             1            1   \n",
       "\n",
       "      us_emp_residence  us_company_loc  \n",
       "4765                 0               0  \n",
       "1043                 1               1  \n",
       "1566                 1               1  \n",
       "1574                 1               1  \n",
       "837                  1               1  "
      ]
     },
     "execution_count": 48,
     "metadata": {},
     "output_type": "execute_result"
    }
   ],
   "source": [
    "# encode categorical values into number\n",
    "\n",
    "def encode_categorical_values(df):\n",
    "    df = df.copy()\n",
    "    \n",
    "    # Encode ordinal categorical features\n",
    "    df['experience_level'] = df['experience_level'].replace({'EN': 1, 'MI': 2, 'SE': 3, 'EX': 4})\n",
    "    df['company_size'] = df['company_size'].replace({'S': 1, 'M': 2, 'L': 3})\n",
    "\n",
    "    # Trim spaces from employment type\n",
    "    df['employment_type'] = df['employment_type'].str.strip()\n",
    "    \n",
    "    # Convert binary categorical features\n",
    "    df['fulltime_emp'] = (df['employment_type'] == 'FT').astype(int)\n",
    "    df['us_currency'] = (df['salary_currency'] == 'USD').astype(int)\n",
    "    df['us_emp_residence'] = (df['employee_residence'] == 'US').astype(int)\n",
    "    df['us_company_loc'] = (df['company_location'] == 'US').astype(int)\n",
    "\n",
    "    return df\n",
    "\n",
    "\n",
    "df2 = encode_categorical_values(cleaned_dsjobs)\n",
    "df2.head()"
   ]
  },
  {
   "cell_type": "code",
   "execution_count": 49,
   "id": "6fb120b4",
   "metadata": {},
   "outputs": [
    {
     "data": {
      "text/plain": [
       "array(['Research Analyst', 'Data Analyst', 'Data Scientist',\n",
       "       'Data Manager', 'Data Engineer', 'Data Science Consultant',\n",
       "       'Business Data Analyst', 'Data Quality Analyst',\n",
       "       'AI Research Engineer', 'AI Programmer', 'Big Data Engineer',\n",
       "       'Machine Learning Scientist', 'Data Integration Specialist',\n",
       "       'Computer Vision Engineer', 'Applied Machine Learning Scientist',\n",
       "       'Data Quality Engineer', 'Computer Vision Software Engineer',\n",
       "       'Applied Scientist', 'Machine Learning Engineer', 'AI Engineer',\n",
       "       'ML Engineer', 'BI Data Analyst', 'Product Data Analyst',\n",
       "       'Machine Learning Developer', 'Research Engineer',\n",
       "       'Data Analyst Lead', 'Business Intelligence Analyst',\n",
       "       'Cloud Data Engineer', 'Data Specialist',\n",
       "       'Data Analytics Engineer', 'Applied Data Scientist',\n",
       "       'Data Developer', 'Staff Data Analyst', 'Azure Data Engineer',\n",
       "       'AI Scientist', 'BI Analyst', 'AI Developer', 'Research Scientist',\n",
       "       'Financial Data Analyst', 'Analytics Engineer', 'MLOps Engineer',\n",
       "       'Data Analytics Consultant', 'Business Intelligence Data Analyst',\n",
       "       'BI Developer', 'Data Management Analyst',\n",
       "       'Machine Learning Research Engineer', 'Deep Learning Engineer',\n",
       "       'Compliance Data Analyst', 'Data Science Engineer',\n",
       "       'Finance Data Analyst', 'Marketing Data Engineer', 'Head of Data',\n",
       "       'Data Science Manager', 'Head of Data Science',\n",
       "       'Business Intelligence Developer', 'Director of Data Science',\n",
       "       'Data Lead', 'AI Architect', 'Data Science Director',\n",
       "       'Data Analytics Manager', 'Head of Machine Learning',\n",
       "       'Data Science', 'Applied Machine Learning Engineer',\n",
       "       'NLP Engineer', 'Data Architect', 'Lead Data Engineer',\n",
       "       'Business Intelligence Engineer', 'Managing Director Data Science',\n",
       "       'Machine Learning Researcher', 'Data Operations Specialist',\n",
       "       'Data Science Lead', 'Machine Learning Software Engineer',\n",
       "       'Insight Analyst', 'Machine Learning Infrastructure Engineer',\n",
       "       'Business Intelligence Manager',\n",
       "       'Business Intelligence Specialist', 'Data Modeler',\n",
       "       'Data Product Owner', 'AWS Data Architect', 'Sales Data Analyst',\n",
       "       'Lead Data Analyst', 'Machine Learning Specialist',\n",
       "       'Data Visualization Specialist', 'Data Modeller',\n",
       "       'Data Quality Manager', 'Data Analytics Lead', 'ETL Developer',\n",
       "       'Data Infrastructure Engineer', 'Data Strategist',\n",
       "       'Data Operations Analyst', 'Data Operations Engineer',\n",
       "       'Software Data Engineer', 'Principal Data Analyst',\n",
       "       'Data Scientist Lead', 'Data Product Manager', 'ETL Engineer',\n",
       "       'Power BI Developer', 'Data Science Practitioner',\n",
       "       'Autonomous Vehicle Technician', 'Decision Scientist',\n",
       "       'Data DevOps Engineer', 'Lead Data Scientist',\n",
       "       'Principal Data Scientist', 'Machine Learning Operations Engineer',\n",
       "       'Big Data Architect', 'Data Management Specialist',\n",
       "       'Data Integration Engineer', 'Data Analytics Specialist',\n",
       "       'Lead Machine Learning Engineer', 'Prompt Engineer',\n",
       "       'Principal Machine Learning Engineer',\n",
       "       'Data Visualization Engineer', 'Cloud Data Architect',\n",
       "       'Principal Data Engineer', 'Principal Data Architect',\n",
       "       'Cloud Database Engineer', 'Machine Learning Modeler',\n",
       "       'Data Strategy Manager', 'Marketing Data Scientist',\n",
       "       'Staff Data Scientist', 'AI Product Manager',\n",
       "       'Machine Learning Manager', 'Marketing Data Analyst',\n",
       "       'Staff Machine Learning Engineer', 'Manager Data Management',\n",
       "       'Deep Learning Researcher'], dtype=object)"
      ]
     },
     "execution_count": 49,
     "metadata": {},
     "output_type": "execute_result"
    }
   ],
   "source": [
    "# check job title values\n",
    "\n",
    "job_title = df2.job_title.unique()\n",
    "job_title"
   ]
  },
  {
   "cell_type": "code",
   "execution_count": 50,
   "id": "6f8d2e2a",
   "metadata": {},
   "outputs": [
    {
     "data": {
      "text/plain": [
       "126"
      ]
     },
     "execution_count": 50,
     "metadata": {},
     "output_type": "execute_result"
    }
   ],
   "source": [
    "len(job_title)"
   ]
  },
  {
   "cell_type": "code",
   "execution_count": 51,
   "id": "f3bad76d",
   "metadata": {},
   "outputs": [
    {
     "data": {
      "text/html": [
       "<div>\n",
       "<style scoped>\n",
       "    .dataframe tbody tr th:only-of-type {\n",
       "        vertical-align: middle;\n",
       "    }\n",
       "\n",
       "    .dataframe tbody tr th {\n",
       "        vertical-align: top;\n",
       "    }\n",
       "\n",
       "    .dataframe thead th {\n",
       "        text-align: right;\n",
       "    }\n",
       "</style>\n",
       "<table border=\"1\" class=\"dataframe\">\n",
       "  <thead>\n",
       "    <tr style=\"text-align: right;\">\n",
       "      <th></th>\n",
       "      <th>job_title</th>\n",
       "      <th>experience_level</th>\n",
       "      <th>employment_type</th>\n",
       "      <th>work_models</th>\n",
       "      <th>work_year</th>\n",
       "      <th>employee_residence</th>\n",
       "      <th>salary</th>\n",
       "      <th>salary_currency</th>\n",
       "      <th>salary_in_usd</th>\n",
       "      <th>company_location</th>\n",
       "      <th>company_size</th>\n",
       "      <th>remote_ratio</th>\n",
       "      <th>fulltime_emp</th>\n",
       "      <th>us_currency</th>\n",
       "      <th>us_emp_residence</th>\n",
       "      <th>us_company_loc</th>\n",
       "      <th>category</th>\n",
       "      <th>similarities</th>\n",
       "    </tr>\n",
       "  </thead>\n",
       "  <tbody>\n",
       "    <tr>\n",
       "      <th>4765</th>\n",
       "      <td>Research Analyst</td>\n",
       "      <td>1</td>\n",
       "      <td>FT</td>\n",
       "      <td>On-site</td>\n",
       "      <td>2023</td>\n",
       "      <td>United Kingdom</td>\n",
       "      <td>35000</td>\n",
       "      <td>GBP</td>\n",
       "      <td>43064</td>\n",
       "      <td>United Kingdom</td>\n",
       "      <td>2</td>\n",
       "      <td>0</td>\n",
       "      <td>1</td>\n",
       "      <td>0</td>\n",
       "      <td>0</td>\n",
       "      <td>0</td>\n",
       "      <td>Data Analyst/Data Specialist</td>\n",
       "      <td>0.232118</td>\n",
       "    </tr>\n",
       "    <tr>\n",
       "      <th>1043</th>\n",
       "      <td>Data Analyst</td>\n",
       "      <td>1</td>\n",
       "      <td>FT</td>\n",
       "      <td>Remote</td>\n",
       "      <td>2023</td>\n",
       "      <td>US</td>\n",
       "      <td>102000</td>\n",
       "      <td>USD</td>\n",
       "      <td>102000</td>\n",
       "      <td>US</td>\n",
       "      <td>2</td>\n",
       "      <td>100</td>\n",
       "      <td>1</td>\n",
       "      <td>1</td>\n",
       "      <td>1</td>\n",
       "      <td>1</td>\n",
       "      <td>Data Analyst/Data Specialist</td>\n",
       "      <td>0.552136</td>\n",
       "    </tr>\n",
       "    <tr>\n",
       "      <th>1566</th>\n",
       "      <td>Data Scientist</td>\n",
       "      <td>1</td>\n",
       "      <td>PT</td>\n",
       "      <td>On-site</td>\n",
       "      <td>2023</td>\n",
       "      <td>US</td>\n",
       "      <td>133000</td>\n",
       "      <td>USD</td>\n",
       "      <td>133000</td>\n",
       "      <td>US</td>\n",
       "      <td>2</td>\n",
       "      <td>0</td>\n",
       "      <td>0</td>\n",
       "      <td>1</td>\n",
       "      <td>1</td>\n",
       "      <td>1</td>\n",
       "      <td>Data Scientist</td>\n",
       "      <td>1.000000</td>\n",
       "    </tr>\n",
       "    <tr>\n",
       "      <th>1574</th>\n",
       "      <td>Research Analyst</td>\n",
       "      <td>1</td>\n",
       "      <td>FT</td>\n",
       "      <td>Remote</td>\n",
       "      <td>2023</td>\n",
       "      <td>US</td>\n",
       "      <td>43500</td>\n",
       "      <td>USD</td>\n",
       "      <td>43500</td>\n",
       "      <td>US</td>\n",
       "      <td>2</td>\n",
       "      <td>100</td>\n",
       "      <td>1</td>\n",
       "      <td>1</td>\n",
       "      <td>1</td>\n",
       "      <td>1</td>\n",
       "      <td>Data Analyst/Data Specialist</td>\n",
       "      <td>0.232118</td>\n",
       "    </tr>\n",
       "    <tr>\n",
       "      <th>837</th>\n",
       "      <td>Data Manager</td>\n",
       "      <td>1</td>\n",
       "      <td>FT</td>\n",
       "      <td>On-site</td>\n",
       "      <td>2023</td>\n",
       "      <td>US</td>\n",
       "      <td>85600</td>\n",
       "      <td>USD</td>\n",
       "      <td>85600</td>\n",
       "      <td>US</td>\n",
       "      <td>2</td>\n",
       "      <td>0</td>\n",
       "      <td>1</td>\n",
       "      <td>1</td>\n",
       "      <td>1</td>\n",
       "      <td>1</td>\n",
       "      <td>Tech/Technical/IT Lead/Head/Director/Manager/S...</td>\n",
       "      <td>0.197454</td>\n",
       "    </tr>\n",
       "  </tbody>\n",
       "</table>\n",
       "</div>"
      ],
      "text/plain": [
       "             job_title  experience_level employment_type work_models  \\\n",
       "4765  Research Analyst                 1              FT     On-site   \n",
       "1043      Data Analyst                 1              FT      Remote   \n",
       "1566    Data Scientist                 1              PT     On-site   \n",
       "1574  Research Analyst                 1              FT      Remote   \n",
       "837       Data Manager                 1              FT     On-site   \n",
       "\n",
       "      work_year employee_residence  salary salary_currency  salary_in_usd  \\\n",
       "4765       2023     United Kingdom   35000             GBP          43064   \n",
       "1043       2023                 US  102000             USD         102000   \n",
       "1566       2023                 US  133000             USD         133000   \n",
       "1574       2023                 US   43500             USD          43500   \n",
       "837        2023                 US   85600             USD          85600   \n",
       "\n",
       "     company_location  company_size  remote_ratio  fulltime_emp  us_currency  \\\n",
       "4765   United Kingdom             2             0             1            0   \n",
       "1043               US             2           100             1            1   \n",
       "1566               US             2             0             0            1   \n",
       "1574               US             2           100             1            1   \n",
       "837                US             2             0             1            1   \n",
       "\n",
       "      us_emp_residence  us_company_loc  \\\n",
       "4765                 0               0   \n",
       "1043                 1               1   \n",
       "1566                 1               1   \n",
       "1574                 1               1   \n",
       "837                  1               1   \n",
       "\n",
       "                                               category  similarities  \n",
       "4765                       Data Analyst/Data Specialist      0.232118  \n",
       "1043                       Data Analyst/Data Specialist      0.552136  \n",
       "1566                                     Data Scientist      1.000000  \n",
       "1574                       Data Analyst/Data Specialist      0.232118  \n",
       "837   Tech/Technical/IT Lead/Head/Director/Manager/S...      0.197454  "
      ]
     },
     "execution_count": 51,
     "metadata": {},
     "output_type": "execute_result"
    }
   ],
   "source": [
    "from sklearn.feature_extraction.text import TfidfVectorizer\n",
    "from sklearn.metrics.pairwise import cosine_similarity\n",
    "\n",
    "job_titles = df2[\"job_title\"].tolist()\n",
    "categories = ['AI Engineer', 'Data Architect/ Data ETL Cloud Engineer/ Data Engineer',\n",
    "       'Data Scientist', 'Data Analyst/Data Specialist', 'Computer Vision/NLP/Deep Learning/Machine Learning Engineer/ MLOps Engineer',\n",
    "       'Tech/Technical/IT Lead/Head/Director/Manager/Solutions Architect', 'Tableau/BI Analyst/ Business Intelligence Specialist', 'Software Engineer']\n",
    "\n",
    "vectorizer = TfidfVectorizer()\n",
    "vectors = vectorizer.fit_transform(job_titles + categories)\n",
    "\n",
    "job_vectors = vectors[: len(job_titles)]\n",
    "category_vectors = vectors[len(job_titles) :]\n",
    "\n",
    "similarities = cosine_similarity(job_vectors, category_vectors)\n",
    "df3 = df2.copy()\n",
    "df3[\"category\"] = [categories[i] for i in similarities.argmax(axis=1)]\n",
    "df3[\"similarities\"] = similarities.max(axis=1) \n",
    "\n",
    "df3.head()"
   ]
  },
  {
   "cell_type": "code",
   "execution_count": 52,
   "id": "72e879df",
   "metadata": {},
   "outputs": [
    {
     "data": {
      "text/html": [
       "<div>\n",
       "<style scoped>\n",
       "    .dataframe tbody tr th:only-of-type {\n",
       "        vertical-align: middle;\n",
       "    }\n",
       "\n",
       "    .dataframe tbody tr th {\n",
       "        vertical-align: top;\n",
       "    }\n",
       "\n",
       "    .dataframe thead th {\n",
       "        text-align: right;\n",
       "    }\n",
       "</style>\n",
       "<table border=\"1\" class=\"dataframe\">\n",
       "  <thead>\n",
       "    <tr style=\"text-align: right;\">\n",
       "      <th></th>\n",
       "      <th>job_title</th>\n",
       "      <th>category</th>\n",
       "      <th>similarities</th>\n",
       "    </tr>\n",
       "  </thead>\n",
       "  <tbody>\n",
       "    <tr>\n",
       "      <th>4765</th>\n",
       "      <td>Research Analyst</td>\n",
       "      <td>Data Analyst/Data Specialist</td>\n",
       "      <td>0.232118</td>\n",
       "    </tr>\n",
       "    <tr>\n",
       "      <th>1043</th>\n",
       "      <td>Data Analyst</td>\n",
       "      <td>Data Analyst/Data Specialist</td>\n",
       "      <td>0.552136</td>\n",
       "    </tr>\n",
       "    <tr>\n",
       "      <th>1566</th>\n",
       "      <td>Data Scientist</td>\n",
       "      <td>Data Scientist</td>\n",
       "      <td>1.000000</td>\n",
       "    </tr>\n",
       "    <tr>\n",
       "      <th>837</th>\n",
       "      <td>Data Manager</td>\n",
       "      <td>Tech/Technical/IT Lead/Head/Director/Manager/S...</td>\n",
       "      <td>0.197454</td>\n",
       "    </tr>\n",
       "    <tr>\n",
       "      <th>6038</th>\n",
       "      <td>Data Engineer</td>\n",
       "      <td>Data Architect/ Data ETL Cloud Engineer/ Data ...</td>\n",
       "      <td>0.451241</td>\n",
       "    </tr>\n",
       "    <tr>\n",
       "      <th>...</th>\n",
       "      <td>...</td>\n",
       "      <td>...</td>\n",
       "      <td>...</td>\n",
       "    </tr>\n",
       "    <tr>\n",
       "      <th>6596</th>\n",
       "      <td>Machine Learning Manager</td>\n",
       "      <td>Computer Vision/NLP/Deep Learning/Machine Lear...</td>\n",
       "      <td>0.275299</td>\n",
       "    </tr>\n",
       "    <tr>\n",
       "      <th>6139</th>\n",
       "      <td>Marketing Data Analyst</td>\n",
       "      <td>Data Analyst/Data Specialist</td>\n",
       "      <td>0.194568</td>\n",
       "    </tr>\n",
       "    <tr>\n",
       "      <th>6308</th>\n",
       "      <td>Staff Machine Learning Engineer</td>\n",
       "      <td>Computer Vision/NLP/Deep Learning/Machine Lear...</td>\n",
       "      <td>0.235418</td>\n",
       "    </tr>\n",
       "    <tr>\n",
       "      <th>5211</th>\n",
       "      <td>Manager Data Management</td>\n",
       "      <td>Tech/Technical/IT Lead/Head/Director/Manager/S...</td>\n",
       "      <td>0.106228</td>\n",
       "    </tr>\n",
       "    <tr>\n",
       "      <th>4972</th>\n",
       "      <td>Deep Learning Researcher</td>\n",
       "      <td>Computer Vision/NLP/Deep Learning/Machine Lear...</td>\n",
       "      <td>0.409639</td>\n",
       "    </tr>\n",
       "  </tbody>\n",
       "</table>\n",
       "<p>126 rows × 3 columns</p>\n",
       "</div>"
      ],
      "text/plain": [
       "                            job_title  \\\n",
       "4765                 Research Analyst   \n",
       "1043                     Data Analyst   \n",
       "1566                   Data Scientist   \n",
       "837                      Data Manager   \n",
       "6038                    Data Engineer   \n",
       "...                               ...   \n",
       "6596         Machine Learning Manager   \n",
       "6139           Marketing Data Analyst   \n",
       "6308  Staff Machine Learning Engineer   \n",
       "5211          Manager Data Management   \n",
       "4972         Deep Learning Researcher   \n",
       "\n",
       "                                               category  similarities  \n",
       "4765                       Data Analyst/Data Specialist      0.232118  \n",
       "1043                       Data Analyst/Data Specialist      0.552136  \n",
       "1566                                     Data Scientist      1.000000  \n",
       "837   Tech/Technical/IT Lead/Head/Director/Manager/S...      0.197454  \n",
       "6038  Data Architect/ Data ETL Cloud Engineer/ Data ...      0.451241  \n",
       "...                                                 ...           ...  \n",
       "6596  Computer Vision/NLP/Deep Learning/Machine Lear...      0.275299  \n",
       "6139                       Data Analyst/Data Specialist      0.194568  \n",
       "6308  Computer Vision/NLP/Deep Learning/Machine Lear...      0.235418  \n",
       "5211  Tech/Technical/IT Lead/Head/Director/Manager/S...      0.106228  \n",
       "4972  Computer Vision/NLP/Deep Learning/Machine Lear...      0.409639  \n",
       "\n",
       "[126 rows x 3 columns]"
      ]
     },
     "execution_count": 52,
     "metadata": {},
     "output_type": "execute_result"
    }
   ],
   "source": [
    "df3[['job_title', 'category', 'similarities']].drop_duplicates()"
   ]
  },
  {
   "cell_type": "code",
   "execution_count": 53,
   "id": "e14d6fad",
   "metadata": {},
   "outputs": [
    {
     "data": {
      "text/html": [
       "<div>\n",
       "<style scoped>\n",
       "    .dataframe tbody tr th:only-of-type {\n",
       "        vertical-align: middle;\n",
       "    }\n",
       "\n",
       "    .dataframe tbody tr th {\n",
       "        vertical-align: top;\n",
       "    }\n",
       "\n",
       "    .dataframe thead th {\n",
       "        text-align: right;\n",
       "    }\n",
       "</style>\n",
       "<table border=\"1\" class=\"dataframe\">\n",
       "  <thead>\n",
       "    <tr style=\"text-align: right;\">\n",
       "      <th></th>\n",
       "      <th>job_title</th>\n",
       "      <th>category</th>\n",
       "      <th>similarities</th>\n",
       "    </tr>\n",
       "  </thead>\n",
       "  <tbody>\n",
       "    <tr>\n",
       "      <th>4517</th>\n",
       "      <td>Compliance Data Analyst</td>\n",
       "      <td>Data Analyst/Data Specialist</td>\n",
       "      <td>0.180808</td>\n",
       "    </tr>\n",
       "    <tr>\n",
       "      <th>4265</th>\n",
       "      <td>Data Infrastructure Engineer</td>\n",
       "      <td>Data Architect/ Data ETL Cloud Engineer/ Data ...</td>\n",
       "      <td>0.161476</td>\n",
       "    </tr>\n",
       "    <tr>\n",
       "      <th>4914</th>\n",
       "      <td>Principal Data Engineer</td>\n",
       "      <td>Data Architect/ Data ETL Cloud Engineer/ Data ...</td>\n",
       "      <td>0.144589</td>\n",
       "    </tr>\n",
       "    <tr>\n",
       "      <th>6525</th>\n",
       "      <td>Managing Director Data Science</td>\n",
       "      <td>Tech/Technical/IT Lead/Head/Director/Manager/S...</td>\n",
       "      <td>0.161650</td>\n",
       "    </tr>\n",
       "    <tr>\n",
       "      <th>2167</th>\n",
       "      <td>Financial Data Analyst</td>\n",
       "      <td>Data Analyst/Data Specialist</td>\n",
       "      <td>0.188627</td>\n",
       "    </tr>\n",
       "  </tbody>\n",
       "</table>\n",
       "</div>"
      ],
      "text/plain": [
       "                           job_title  \\\n",
       "4517         Compliance Data Analyst   \n",
       "4265    Data Infrastructure Engineer   \n",
       "4914         Principal Data Engineer   \n",
       "6525  Managing Director Data Science   \n",
       "2167          Financial Data Analyst   \n",
       "\n",
       "                                               category  similarities  \n",
       "4517                       Data Analyst/Data Specialist      0.180808  \n",
       "4265  Data Architect/ Data ETL Cloud Engineer/ Data ...      0.161476  \n",
       "4914  Data Architect/ Data ETL Cloud Engineer/ Data ...      0.144589  \n",
       "6525  Tech/Technical/IT Lead/Head/Director/Manager/S...      0.161650  \n",
       "2167                       Data Analyst/Data Specialist      0.188627  "
      ]
     },
     "execution_count": 53,
     "metadata": {},
     "output_type": "execute_result"
    }
   ],
   "source": [
    "df3.loc[df3.similarities <0.2][['job_title', 'category', 'similarities']].drop_duplicates().sample(5)"
   ]
  },
  {
   "cell_type": "code",
   "execution_count": 54,
   "id": "35e8b506",
   "metadata": {},
   "outputs": [
    {
     "data": {
      "text/html": [
       "<div>\n",
       "<style scoped>\n",
       "    .dataframe tbody tr th:only-of-type {\n",
       "        vertical-align: middle;\n",
       "    }\n",
       "\n",
       "    .dataframe tbody tr th {\n",
       "        vertical-align: top;\n",
       "    }\n",
       "\n",
       "    .dataframe thead th {\n",
       "        text-align: right;\n",
       "    }\n",
       "</style>\n",
       "<table border=\"1\" class=\"dataframe\">\n",
       "  <thead>\n",
       "    <tr style=\"text-align: right;\">\n",
       "      <th></th>\n",
       "      <th>job_title</th>\n",
       "      <th>category</th>\n",
       "      <th>similarities</th>\n",
       "    </tr>\n",
       "  </thead>\n",
       "  <tbody>\n",
       "    <tr>\n",
       "      <th>6594</th>\n",
       "      <td>Staff Data Analyst</td>\n",
       "      <td>Data Analyst/Data Specialist</td>\n",
       "      <td>0.203556</td>\n",
       "    </tr>\n",
       "    <tr>\n",
       "      <th>6414</th>\n",
       "      <td>Head of Data</td>\n",
       "      <td>Tech/Technical/IT Lead/Head/Director/Manager/S...</td>\n",
       "      <td>0.209292</td>\n",
       "    </tr>\n",
       "    <tr>\n",
       "      <th>1381</th>\n",
       "      <td>Machine Learning Researcher</td>\n",
       "      <td>Computer Vision/NLP/Deep Learning/Machine Lear...</td>\n",
       "      <td>0.210359</td>\n",
       "    </tr>\n",
       "    <tr>\n",
       "      <th>1722</th>\n",
       "      <td>Data Management Analyst</td>\n",
       "      <td>Data Analyst/Data Specialist</td>\n",
       "      <td>0.213339</td>\n",
       "    </tr>\n",
       "    <tr>\n",
       "      <th>4995</th>\n",
       "      <td>Data Science Engineer</td>\n",
       "      <td>Data Architect/ Data ETL Cloud Engineer/ Data ...</td>\n",
       "      <td>0.217063</td>\n",
       "    </tr>\n",
       "    <tr>\n",
       "      <th>3797</th>\n",
       "      <td>AWS Data Architect</td>\n",
       "      <td>Data Architect/ Data ETL Cloud Engineer/ Data ...</td>\n",
       "      <td>0.217562</td>\n",
       "    </tr>\n",
       "    <tr>\n",
       "      <th>1727</th>\n",
       "      <td>Machine Learning Modeler</td>\n",
       "      <td>Computer Vision/NLP/Deep Learning/Machine Lear...</td>\n",
       "      <td>0.221208</td>\n",
       "    </tr>\n",
       "    <tr>\n",
       "      <th>6283</th>\n",
       "      <td>Principal Data Analyst</td>\n",
       "      <td>Data Analyst/Data Specialist</td>\n",
       "      <td>0.222981</td>\n",
       "    </tr>\n",
       "    <tr>\n",
       "      <th>6061</th>\n",
       "      <td>Data Analytics Engineer</td>\n",
       "      <td>Data Architect/ Data ETL Cloud Engineer/ Data ...</td>\n",
       "      <td>0.224135</td>\n",
       "    </tr>\n",
       "    <tr>\n",
       "      <th>509</th>\n",
       "      <td>Data Quality Analyst</td>\n",
       "      <td>Data Analyst/Data Specialist</td>\n",
       "      <td>0.228780</td>\n",
       "    </tr>\n",
       "    <tr>\n",
       "      <th>6268</th>\n",
       "      <td>Lead Data Engineer</td>\n",
       "      <td>Tech/Technical/IT Lead/Head/Director/Manager/S...</td>\n",
       "      <td>0.231464</td>\n",
       "    </tr>\n",
       "    <tr>\n",
       "      <th>4765</th>\n",
       "      <td>Research Analyst</td>\n",
       "      <td>Data Analyst/Data Specialist</td>\n",
       "      <td>0.232118</td>\n",
       "    </tr>\n",
       "    <tr>\n",
       "      <th>3809</th>\n",
       "      <td>Product Data Analyst</td>\n",
       "      <td>Data Analyst/Data Specialist</td>\n",
       "      <td>0.232191</td>\n",
       "    </tr>\n",
       "    <tr>\n",
       "      <th>3069</th>\n",
       "      <td>Data Operations Analyst</td>\n",
       "      <td>Data Analyst/Data Specialist</td>\n",
       "      <td>0.232191</td>\n",
       "    </tr>\n",
       "    <tr>\n",
       "      <th>6308</th>\n",
       "      <td>Staff Machine Learning Engineer</td>\n",
       "      <td>Computer Vision/NLP/Deep Learning/Machine Lear...</td>\n",
       "      <td>0.235418</td>\n",
       "    </tr>\n",
       "    <tr>\n",
       "      <th>1619</th>\n",
       "      <td>Data Science Director</td>\n",
       "      <td>Tech/Technical/IT Lead/Head/Director/Manager/S...</td>\n",
       "      <td>0.243787</td>\n",
       "    </tr>\n",
       "    <tr>\n",
       "      <th>2154</th>\n",
       "      <td>Data Lead</td>\n",
       "      <td>Tech/Technical/IT Lead/Head/Director/Manager/S...</td>\n",
       "      <td>0.244166</td>\n",
       "    </tr>\n",
       "    <tr>\n",
       "      <th>4861</th>\n",
       "      <td>Big Data Architect</td>\n",
       "      <td>Data Architect/ Data ETL Cloud Engineer/ Data ...</td>\n",
       "      <td>0.252819</td>\n",
       "    </tr>\n",
       "    <tr>\n",
       "      <th>5372</th>\n",
       "      <td>Principal Machine Learning Engineer</td>\n",
       "      <td>Computer Vision/NLP/Deep Learning/Machine Lear...</td>\n",
       "      <td>0.253615</td>\n",
       "    </tr>\n",
       "    <tr>\n",
       "      <th>6229</th>\n",
       "      <td>Machine Learning Developer</td>\n",
       "      <td>Computer Vision/NLP/Deep Learning/Machine Lear...</td>\n",
       "      <td>0.258288</td>\n",
       "    </tr>\n",
       "    <tr>\n",
       "      <th>6090</th>\n",
       "      <td>Principal Data Architect</td>\n",
       "      <td>Data Architect/ Data ETL Cloud Engineer/ Data ...</td>\n",
       "      <td>0.259435</td>\n",
       "    </tr>\n",
       "    <tr>\n",
       "      <th>1159</th>\n",
       "      <td>Machine Learning Operations Engineer</td>\n",
       "      <td>Computer Vision/NLP/Deep Learning/Machine Lear...</td>\n",
       "      <td>0.261925</td>\n",
       "    </tr>\n",
       "    <tr>\n",
       "      <th>2158</th>\n",
       "      <td>Decision Scientist</td>\n",
       "      <td>Data Scientist</td>\n",
       "      <td>0.271598</td>\n",
       "    </tr>\n",
       "    <tr>\n",
       "      <th>6449</th>\n",
       "      <td>Lead Data Analyst</td>\n",
       "      <td>Data Analyst/Data Specialist</td>\n",
       "      <td>0.271613</td>\n",
       "    </tr>\n",
       "    <tr>\n",
       "      <th>4513</th>\n",
       "      <td>Data Analyst Lead</td>\n",
       "      <td>Data Analyst/Data Specialist</td>\n",
       "      <td>0.271613</td>\n",
       "    </tr>\n",
       "    <tr>\n",
       "      <th>6559</th>\n",
       "      <td>Machine Learning Infrastructure Engineer</td>\n",
       "      <td>Computer Vision/NLP/Deep Learning/Machine Lear...</td>\n",
       "      <td>0.274835</td>\n",
       "    </tr>\n",
       "    <tr>\n",
       "      <th>6596</th>\n",
       "      <td>Machine Learning Manager</td>\n",
       "      <td>Computer Vision/NLP/Deep Learning/Machine Lear...</td>\n",
       "      <td>0.275299</td>\n",
       "    </tr>\n",
       "    <tr>\n",
       "      <th>4335</th>\n",
       "      <td>BI Developer</td>\n",
       "      <td>Tableau/BI Analyst/ Business Intelligence Spec...</td>\n",
       "      <td>0.291135</td>\n",
       "    </tr>\n",
       "    <tr>\n",
       "      <th>4970</th>\n",
       "      <td>Applied Machine Learning Scientist</td>\n",
       "      <td>Data Scientist</td>\n",
       "      <td>0.291791</td>\n",
       "    </tr>\n",
       "    <tr>\n",
       "      <th>4570</th>\n",
       "      <td>Lead Machine Learning Engineer</td>\n",
       "      <td>Computer Vision/NLP/Deep Learning/Machine Lear...</td>\n",
       "      <td>0.295183</td>\n",
       "    </tr>\n",
       "    <tr>\n",
       "      <th>3884</th>\n",
       "      <td>Applied Machine Learning Engineer</td>\n",
       "      <td>Computer Vision/NLP/Deep Learning/Machine Lear...</td>\n",
       "      <td>0.306429</td>\n",
       "    </tr>\n",
       "    <tr>\n",
       "      <th>1241</th>\n",
       "      <td>Marketing Data Scientist</td>\n",
       "      <td>Data Scientist</td>\n",
       "      <td>0.325137</td>\n",
       "    </tr>\n",
       "    <tr>\n",
       "      <th>6524</th>\n",
       "      <td>Staff Data Scientist</td>\n",
       "      <td>Data Scientist</td>\n",
       "      <td>0.340494</td>\n",
       "    </tr>\n",
       "    <tr>\n",
       "      <th>6228</th>\n",
       "      <td>Machine Learning Research Engineer</td>\n",
       "      <td>Computer Vision/NLP/Deep Learning/Machine Lear...</td>\n",
       "      <td>0.345080</td>\n",
       "    </tr>\n",
       "    <tr>\n",
       "      <th>92</th>\n",
       "      <td>Business Intelligence Developer</td>\n",
       "      <td>Tableau/BI Analyst/ Business Intelligence Spec...</td>\n",
       "      <td>0.366674</td>\n",
       "    </tr>\n",
       "    <tr>\n",
       "      <th>6427</th>\n",
       "      <td>Business Data Analyst</td>\n",
       "      <td>Tableau/BI Analyst/ Business Intelligence Spec...</td>\n",
       "      <td>0.369620</td>\n",
       "    </tr>\n",
       "    <tr>\n",
       "      <th>2056</th>\n",
       "      <td>Applied Scientist</td>\n",
       "      <td>Data Scientist</td>\n",
       "      <td>0.373114</td>\n",
       "    </tr>\n",
       "    <tr>\n",
       "      <th>6318</th>\n",
       "      <td>Principal Data Scientist</td>\n",
       "      <td>Data Scientist</td>\n",
       "      <td>0.373853</td>\n",
       "    </tr>\n",
       "    <tr>\n",
       "      <th>769</th>\n",
       "      <td>Business Intelligence Manager</td>\n",
       "      <td>Tableau/BI Analyst/ Business Intelligence Spec...</td>\n",
       "      <td>0.382801</td>\n",
       "    </tr>\n",
       "    <tr>\n",
       "      <th>4972</th>\n",
       "      <td>Deep Learning Researcher</td>\n",
       "      <td>Computer Vision/NLP/Deep Learning/Machine Lear...</td>\n",
       "      <td>0.409639</td>\n",
       "    </tr>\n",
       "    <tr>\n",
       "      <th>5196</th>\n",
       "      <td>Machine Learning Scientist</td>\n",
       "      <td>Data Scientist</td>\n",
       "      <td>0.411729</td>\n",
       "    </tr>\n",
       "    <tr>\n",
       "      <th>4505</th>\n",
       "      <td>BI Data Analyst</td>\n",
       "      <td>Tableau/BI Analyst/ Business Intelligence Spec...</td>\n",
       "      <td>0.433485</td>\n",
       "    </tr>\n",
       "    <tr>\n",
       "      <th>1480</th>\n",
       "      <td>MLOps Engineer</td>\n",
       "      <td>Computer Vision/NLP/Deep Learning/Machine Lear...</td>\n",
       "      <td>0.438344</td>\n",
       "    </tr>\n",
       "    <tr>\n",
       "      <th>4409</th>\n",
       "      <td>Cloud Database Engineer</td>\n",
       "      <td>Data Architect/ Data ETL Cloud Engineer/ Data ...</td>\n",
       "      <td>0.440406</td>\n",
       "    </tr>\n",
       "    <tr>\n",
       "      <th>6532</th>\n",
       "      <td>Machine Learning Engineer</td>\n",
       "      <td>Computer Vision/NLP/Deep Learning/Machine Lear...</td>\n",
       "      <td>0.442853</td>\n",
       "    </tr>\n",
       "    <tr>\n",
       "      <th>5573</th>\n",
       "      <td>BI Analyst</td>\n",
       "      <td>Tableau/BI Analyst/ Business Intelligence Spec...</td>\n",
       "      <td>0.445007</td>\n",
       "    </tr>\n",
       "    <tr>\n",
       "      <th>1237</th>\n",
       "      <td>NLP Engineer</td>\n",
       "      <td>Computer Vision/NLP/Deep Learning/Machine Lear...</td>\n",
       "      <td>0.445907</td>\n",
       "    </tr>\n",
       "    <tr>\n",
       "      <th>3173</th>\n",
       "      <td>Business Intelligence Engineer</td>\n",
       "      <td>Tableau/BI Analyst/ Business Intelligence Spec...</td>\n",
       "      <td>0.448129</td>\n",
       "    </tr>\n",
       "    <tr>\n",
       "      <th>6038</th>\n",
       "      <td>Data Engineer</td>\n",
       "      <td>Data Architect/ Data ETL Cloud Engineer/ Data ...</td>\n",
       "      <td>0.451241</td>\n",
       "    </tr>\n",
       "    <tr>\n",
       "      <th>6105</th>\n",
       "      <td>ETL Developer</td>\n",
       "      <td>Data Architect/ Data ETL Cloud Engineer/ Data ...</td>\n",
       "      <td>0.451636</td>\n",
       "    </tr>\n",
       "    <tr>\n",
       "      <th>6029</th>\n",
       "      <td>Research Scientist</td>\n",
       "      <td>Data Scientist</td>\n",
       "      <td>0.455896</td>\n",
       "    </tr>\n",
       "    <tr>\n",
       "      <th>4045</th>\n",
       "      <td>Data Architect</td>\n",
       "      <td>Data Architect/ Data ETL Cloud Engineer/ Data ...</td>\n",
       "      <td>0.457162</td>\n",
       "    </tr>\n",
       "    <tr>\n",
       "      <th>6294</th>\n",
       "      <td>Data Scientist Lead</td>\n",
       "      <td>Data Scientist</td>\n",
       "      <td>0.458492</td>\n",
       "    </tr>\n",
       "    <tr>\n",
       "      <th>6557</th>\n",
       "      <td>Lead Data Scientist</td>\n",
       "      <td>Data Scientist</td>\n",
       "      <td>0.458492</td>\n",
       "    </tr>\n",
       "    <tr>\n",
       "      <th>6455</th>\n",
       "      <td>Applied Data Scientist</td>\n",
       "      <td>Data Scientist</td>\n",
       "      <td>0.483941</td>\n",
       "    </tr>\n",
       "    <tr>\n",
       "      <th>3713</th>\n",
       "      <td>Business Intelligence Data Analyst</td>\n",
       "      <td>Tableau/BI Analyst/ Business Intelligence Spec...</td>\n",
       "      <td>0.498243</td>\n",
       "    </tr>\n",
       "  </tbody>\n",
       "</table>\n",
       "</div>"
      ],
      "text/plain": [
       "                                     job_title  \\\n",
       "6594                        Staff Data Analyst   \n",
       "6414                              Head of Data   \n",
       "1381               Machine Learning Researcher   \n",
       "1722                   Data Management Analyst   \n",
       "4995                     Data Science Engineer   \n",
       "3797                        AWS Data Architect   \n",
       "1727                  Machine Learning Modeler   \n",
       "6283                    Principal Data Analyst   \n",
       "6061                   Data Analytics Engineer   \n",
       "509                       Data Quality Analyst   \n",
       "6268                        Lead Data Engineer   \n",
       "4765                          Research Analyst   \n",
       "3809                      Product Data Analyst   \n",
       "3069                   Data Operations Analyst   \n",
       "6308           Staff Machine Learning Engineer   \n",
       "1619                     Data Science Director   \n",
       "2154                                 Data Lead   \n",
       "4861                        Big Data Architect   \n",
       "5372       Principal Machine Learning Engineer   \n",
       "6229                Machine Learning Developer   \n",
       "6090                  Principal Data Architect   \n",
       "1159      Machine Learning Operations Engineer   \n",
       "2158                        Decision Scientist   \n",
       "6449                         Lead Data Analyst   \n",
       "4513                         Data Analyst Lead   \n",
       "6559  Machine Learning Infrastructure Engineer   \n",
       "6596                  Machine Learning Manager   \n",
       "4335                              BI Developer   \n",
       "4970        Applied Machine Learning Scientist   \n",
       "4570            Lead Machine Learning Engineer   \n",
       "3884         Applied Machine Learning Engineer   \n",
       "1241                  Marketing Data Scientist   \n",
       "6524                      Staff Data Scientist   \n",
       "6228        Machine Learning Research Engineer   \n",
       "92             Business Intelligence Developer   \n",
       "6427                     Business Data Analyst   \n",
       "2056                         Applied Scientist   \n",
       "6318                  Principal Data Scientist   \n",
       "769              Business Intelligence Manager   \n",
       "4972                  Deep Learning Researcher   \n",
       "5196                Machine Learning Scientist   \n",
       "4505                           BI Data Analyst   \n",
       "1480                            MLOps Engineer   \n",
       "4409                   Cloud Database Engineer   \n",
       "6532                 Machine Learning Engineer   \n",
       "5573                                BI Analyst   \n",
       "1237                              NLP Engineer   \n",
       "3173            Business Intelligence Engineer   \n",
       "6038                             Data Engineer   \n",
       "6105                             ETL Developer   \n",
       "6029                        Research Scientist   \n",
       "4045                            Data Architect   \n",
       "6294                       Data Scientist Lead   \n",
       "6557                       Lead Data Scientist   \n",
       "6455                    Applied Data Scientist   \n",
       "3713        Business Intelligence Data Analyst   \n",
       "\n",
       "                                               category  similarities  \n",
       "6594                       Data Analyst/Data Specialist      0.203556  \n",
       "6414  Tech/Technical/IT Lead/Head/Director/Manager/S...      0.209292  \n",
       "1381  Computer Vision/NLP/Deep Learning/Machine Lear...      0.210359  \n",
       "1722                       Data Analyst/Data Specialist      0.213339  \n",
       "4995  Data Architect/ Data ETL Cloud Engineer/ Data ...      0.217063  \n",
       "3797  Data Architect/ Data ETL Cloud Engineer/ Data ...      0.217562  \n",
       "1727  Computer Vision/NLP/Deep Learning/Machine Lear...      0.221208  \n",
       "6283                       Data Analyst/Data Specialist      0.222981  \n",
       "6061  Data Architect/ Data ETL Cloud Engineer/ Data ...      0.224135  \n",
       "509                        Data Analyst/Data Specialist      0.228780  \n",
       "6268  Tech/Technical/IT Lead/Head/Director/Manager/S...      0.231464  \n",
       "4765                       Data Analyst/Data Specialist      0.232118  \n",
       "3809                       Data Analyst/Data Specialist      0.232191  \n",
       "3069                       Data Analyst/Data Specialist      0.232191  \n",
       "6308  Computer Vision/NLP/Deep Learning/Machine Lear...      0.235418  \n",
       "1619  Tech/Technical/IT Lead/Head/Director/Manager/S...      0.243787  \n",
       "2154  Tech/Technical/IT Lead/Head/Director/Manager/S...      0.244166  \n",
       "4861  Data Architect/ Data ETL Cloud Engineer/ Data ...      0.252819  \n",
       "5372  Computer Vision/NLP/Deep Learning/Machine Lear...      0.253615  \n",
       "6229  Computer Vision/NLP/Deep Learning/Machine Lear...      0.258288  \n",
       "6090  Data Architect/ Data ETL Cloud Engineer/ Data ...      0.259435  \n",
       "1159  Computer Vision/NLP/Deep Learning/Machine Lear...      0.261925  \n",
       "2158                                     Data Scientist      0.271598  \n",
       "6449                       Data Analyst/Data Specialist      0.271613  \n",
       "4513                       Data Analyst/Data Specialist      0.271613  \n",
       "6559  Computer Vision/NLP/Deep Learning/Machine Lear...      0.274835  \n",
       "6596  Computer Vision/NLP/Deep Learning/Machine Lear...      0.275299  \n",
       "4335  Tableau/BI Analyst/ Business Intelligence Spec...      0.291135  \n",
       "4970                                     Data Scientist      0.291791  \n",
       "4570  Computer Vision/NLP/Deep Learning/Machine Lear...      0.295183  \n",
       "3884  Computer Vision/NLP/Deep Learning/Machine Lear...      0.306429  \n",
       "1241                                     Data Scientist      0.325137  \n",
       "6524                                     Data Scientist      0.340494  \n",
       "6228  Computer Vision/NLP/Deep Learning/Machine Lear...      0.345080  \n",
       "92    Tableau/BI Analyst/ Business Intelligence Spec...      0.366674  \n",
       "6427  Tableau/BI Analyst/ Business Intelligence Spec...      0.369620  \n",
       "2056                                     Data Scientist      0.373114  \n",
       "6318                                     Data Scientist      0.373853  \n",
       "769   Tableau/BI Analyst/ Business Intelligence Spec...      0.382801  \n",
       "4972  Computer Vision/NLP/Deep Learning/Machine Lear...      0.409639  \n",
       "5196                                     Data Scientist      0.411729  \n",
       "4505  Tableau/BI Analyst/ Business Intelligence Spec...      0.433485  \n",
       "1480  Computer Vision/NLP/Deep Learning/Machine Lear...      0.438344  \n",
       "4409  Data Architect/ Data ETL Cloud Engineer/ Data ...      0.440406  \n",
       "6532  Computer Vision/NLP/Deep Learning/Machine Lear...      0.442853  \n",
       "5573  Tableau/BI Analyst/ Business Intelligence Spec...      0.445007  \n",
       "1237  Computer Vision/NLP/Deep Learning/Machine Lear...      0.445907  \n",
       "3173  Tableau/BI Analyst/ Business Intelligence Spec...      0.448129  \n",
       "6038  Data Architect/ Data ETL Cloud Engineer/ Data ...      0.451241  \n",
       "6105  Data Architect/ Data ETL Cloud Engineer/ Data ...      0.451636  \n",
       "6029                                     Data Scientist      0.455896  \n",
       "4045  Data Architect/ Data ETL Cloud Engineer/ Data ...      0.457162  \n",
       "6294                                     Data Scientist      0.458492  \n",
       "6557                                     Data Scientist      0.458492  \n",
       "6455                                     Data Scientist      0.483941  \n",
       "3713  Tableau/BI Analyst/ Business Intelligence Spec...      0.498243  "
      ]
     },
     "execution_count": 54,
     "metadata": {},
     "output_type": "execute_result"
    }
   ],
   "source": [
    "df3.loc[(df3.similarities >0.2) & (df3.similarities <0.5)][['job_title', 'category', 'similarities']].drop_duplicates().sort_values(by='similarities')"
   ]
  },
  {
   "cell_type": "code",
   "execution_count": 55,
   "id": "ce09ade5",
   "metadata": {},
   "outputs": [],
   "source": [
    "df4 = df3[df3.similarities > 0.2]"
   ]
  },
  {
   "cell_type": "code",
   "execution_count": 56,
   "id": "b05ae259",
   "metadata": {},
   "outputs": [
    {
     "name": "stdout",
     "output_type": "stream",
     "text": [
      "AI Engineer\n",
      "['AI Research Engineer' 'AI Programmer' 'AI Engineer' 'AI Scientist'\n",
      " 'AI Developer' 'AI Architect' 'AI Product Manager']\n",
      "\n",
      "Data Architect/ Data ETL Cloud Engineer/ Data Engineer\n",
      "['Data Engineer' 'Cloud Data Engineer' 'Data Analytics Engineer'\n",
      " 'Data Science Engineer' 'Data Architect' 'AWS Data Architect'\n",
      " 'ETL Developer' 'ETL Engineer' 'Big Data Architect'\n",
      " 'Cloud Data Architect' 'Principal Data Architect'\n",
      " 'Cloud Database Engineer']\n",
      "\n",
      "Data Scientist\n",
      "['Data Scientist' 'Machine Learning Scientist'\n",
      " 'Applied Machine Learning Scientist' 'Applied Scientist'\n",
      " 'Applied Data Scientist' 'Research Scientist' 'Data Scientist Lead'\n",
      " 'Decision Scientist' 'Lead Data Scientist' 'Principal Data Scientist'\n",
      " 'Marketing Data Scientist' 'Staff Data Scientist']\n",
      "\n",
      "Data Analyst/Data Specialist\n",
      "['Research Analyst' 'Data Analyst' 'Data Quality Analyst'\n",
      " 'Data Integration Specialist' 'Product Data Analyst' 'Data Analyst Lead'\n",
      " 'Data Specialist' 'Staff Data Analyst' 'Data Management Analyst'\n",
      " 'Data Operations Specialist' 'Lead Data Analyst'\n",
      " 'Machine Learning Specialist' 'Data Visualization Specialist'\n",
      " 'Data Operations Analyst' 'Principal Data Analyst'\n",
      " 'Data Management Specialist' 'Data Analytics Specialist']\n",
      "\n",
      "Computer Vision/NLP/Deep Learning/Machine Learning Engineer/ MLOps Engineer\n",
      "['Computer Vision Engineer' 'Machine Learning Engineer'\n",
      " 'Machine Learning Developer' 'MLOps Engineer'\n",
      " 'Machine Learning Research Engineer' 'Deep Learning Engineer'\n",
      " 'Applied Machine Learning Engineer' 'NLP Engineer'\n",
      " 'Machine Learning Researcher' 'Machine Learning Infrastructure Engineer'\n",
      " 'Machine Learning Operations Engineer' 'Lead Machine Learning Engineer'\n",
      " 'Principal Machine Learning Engineer' 'Machine Learning Modeler'\n",
      " 'Machine Learning Manager' 'Staff Machine Learning Engineer'\n",
      " 'Deep Learning Researcher']\n",
      "\n",
      "Tech/Technical/IT Lead/Head/Director/Manager/Solutions Architect\n",
      "['Head of Data' 'Data Lead' 'Data Science Director' 'Lead Data Engineer']\n",
      "\n",
      "Tableau/BI Analyst/ Business Intelligence Specialist\n",
      "['Business Data Analyst' 'BI Data Analyst' 'Business Intelligence Analyst'\n",
      " 'BI Analyst' 'Business Intelligence Data Analyst' 'BI Developer'\n",
      " 'Business Intelligence Developer' 'Business Intelligence Engineer'\n",
      " 'Business Intelligence Manager' 'Business Intelligence Specialist']\n",
      "\n",
      "Software Engineer\n",
      "['Computer Vision Software Engineer' 'Machine Learning Software Engineer'\n",
      " 'Software Data Engineer']\n",
      "\n"
     ]
    }
   ],
   "source": [
    "for category in categories:\n",
    "    print(category)\n",
    "    print(df4.loc[df4.category == category]['job_title'].unique())\n",
    "    print()"
   ]
  },
  {
   "cell_type": "code",
   "execution_count": 57,
   "id": "e4396de6",
   "metadata": {
    "scrolled": true
   },
   "outputs": [
    {
     "data": {
      "text/html": [
       "<div>\n",
       "<style scoped>\n",
       "    .dataframe tbody tr th:only-of-type {\n",
       "        vertical-align: middle;\n",
       "    }\n",
       "\n",
       "    .dataframe tbody tr th {\n",
       "        vertical-align: top;\n",
       "    }\n",
       "\n",
       "    .dataframe thead th {\n",
       "        text-align: right;\n",
       "    }\n",
       "</style>\n",
       "<table border=\"1\" class=\"dataframe\">\n",
       "  <thead>\n",
       "    <tr style=\"text-align: right;\">\n",
       "      <th></th>\n",
       "      <th>job_title</th>\n",
       "      <th>experience_level</th>\n",
       "      <th>employment_type</th>\n",
       "      <th>work_models</th>\n",
       "      <th>work_year</th>\n",
       "      <th>employee_residence</th>\n",
       "      <th>salary</th>\n",
       "      <th>salary_currency</th>\n",
       "      <th>salary_in_usd</th>\n",
       "      <th>company_location</th>\n",
       "      <th>company_size</th>\n",
       "      <th>remote_ratio</th>\n",
       "      <th>fulltime_emp</th>\n",
       "      <th>us_currency</th>\n",
       "      <th>us_emp_residence</th>\n",
       "      <th>us_company_loc</th>\n",
       "      <th>category</th>\n",
       "      <th>similarities</th>\n",
       "    </tr>\n",
       "  </thead>\n",
       "  <tbody>\n",
       "    <tr>\n",
       "      <th>4765</th>\n",
       "      <td>Research Analyst</td>\n",
       "      <td>1</td>\n",
       "      <td>FT</td>\n",
       "      <td>On-site</td>\n",
       "      <td>2023</td>\n",
       "      <td>United Kingdom</td>\n",
       "      <td>35000</td>\n",
       "      <td>GBP</td>\n",
       "      <td>43064</td>\n",
       "      <td>United Kingdom</td>\n",
       "      <td>2</td>\n",
       "      <td>0</td>\n",
       "      <td>1</td>\n",
       "      <td>0</td>\n",
       "      <td>0</td>\n",
       "      <td>0</td>\n",
       "      <td>Data Analyst/Data Specialist</td>\n",
       "      <td>0.232118</td>\n",
       "    </tr>\n",
       "    <tr>\n",
       "      <th>1043</th>\n",
       "      <td>Data Analyst</td>\n",
       "      <td>1</td>\n",
       "      <td>FT</td>\n",
       "      <td>Remote</td>\n",
       "      <td>2023</td>\n",
       "      <td>US</td>\n",
       "      <td>102000</td>\n",
       "      <td>USD</td>\n",
       "      <td>102000</td>\n",
       "      <td>US</td>\n",
       "      <td>2</td>\n",
       "      <td>100</td>\n",
       "      <td>1</td>\n",
       "      <td>1</td>\n",
       "      <td>1</td>\n",
       "      <td>1</td>\n",
       "      <td>Data Analyst/Data Specialist</td>\n",
       "      <td>0.552136</td>\n",
       "    </tr>\n",
       "    <tr>\n",
       "      <th>1566</th>\n",
       "      <td>Data Scientist</td>\n",
       "      <td>1</td>\n",
       "      <td>PT</td>\n",
       "      <td>On-site</td>\n",
       "      <td>2023</td>\n",
       "      <td>US</td>\n",
       "      <td>133000</td>\n",
       "      <td>USD</td>\n",
       "      <td>133000</td>\n",
       "      <td>US</td>\n",
       "      <td>2</td>\n",
       "      <td>0</td>\n",
       "      <td>0</td>\n",
       "      <td>1</td>\n",
       "      <td>1</td>\n",
       "      <td>1</td>\n",
       "      <td>Data Scientist</td>\n",
       "      <td>1.000000</td>\n",
       "    </tr>\n",
       "    <tr>\n",
       "      <th>1574</th>\n",
       "      <td>Research Analyst</td>\n",
       "      <td>1</td>\n",
       "      <td>FT</td>\n",
       "      <td>Remote</td>\n",
       "      <td>2023</td>\n",
       "      <td>US</td>\n",
       "      <td>43500</td>\n",
       "      <td>USD</td>\n",
       "      <td>43500</td>\n",
       "      <td>US</td>\n",
       "      <td>2</td>\n",
       "      <td>100</td>\n",
       "      <td>1</td>\n",
       "      <td>1</td>\n",
       "      <td>1</td>\n",
       "      <td>1</td>\n",
       "      <td>Data Analyst/Data Specialist</td>\n",
       "      <td>0.232118</td>\n",
       "    </tr>\n",
       "    <tr>\n",
       "      <th>6374</th>\n",
       "      <td>Data Scientist</td>\n",
       "      <td>1</td>\n",
       "      <td>FT</td>\n",
       "      <td>Hybrid</td>\n",
       "      <td>2021</td>\n",
       "      <td>US</td>\n",
       "      <td>58000</td>\n",
       "      <td>USD</td>\n",
       "      <td>58000</td>\n",
       "      <td>US</td>\n",
       "      <td>3</td>\n",
       "      <td>50</td>\n",
       "      <td>1</td>\n",
       "      <td>1</td>\n",
       "      <td>1</td>\n",
       "      <td>1</td>\n",
       "      <td>Data Scientist</td>\n",
       "      <td>1.000000</td>\n",
       "    </tr>\n",
       "  </tbody>\n",
       "</table>\n",
       "</div>"
      ],
      "text/plain": [
       "             job_title  experience_level employment_type work_models  \\\n",
       "4765  Research Analyst                 1              FT     On-site   \n",
       "1043      Data Analyst                 1              FT      Remote   \n",
       "1566    Data Scientist                 1              PT     On-site   \n",
       "1574  Research Analyst                 1              FT      Remote   \n",
       "6374    Data Scientist                 1              FT      Hybrid   \n",
       "\n",
       "      work_year employee_residence  salary salary_currency  salary_in_usd  \\\n",
       "4765       2023     United Kingdom   35000             GBP          43064   \n",
       "1043       2023                 US  102000             USD         102000   \n",
       "1566       2023                 US  133000             USD         133000   \n",
       "1574       2023                 US   43500             USD          43500   \n",
       "6374       2021                 US   58000             USD          58000   \n",
       "\n",
       "     company_location  company_size  remote_ratio  fulltime_emp  us_currency  \\\n",
       "4765   United Kingdom             2             0             1            0   \n",
       "1043               US             2           100             1            1   \n",
       "1566               US             2             0             0            1   \n",
       "1574               US             2           100             1            1   \n",
       "6374               US             3            50             1            1   \n",
       "\n",
       "      us_emp_residence  us_company_loc                      category  \\\n",
       "4765                 0               0  Data Analyst/Data Specialist   \n",
       "1043                 1               1  Data Analyst/Data Specialist   \n",
       "1566                 1               1                Data Scientist   \n",
       "1574                 1               1  Data Analyst/Data Specialist   \n",
       "6374                 1               1                Data Scientist   \n",
       "\n",
       "      similarities  \n",
       "4765      0.232118  \n",
       "1043      0.552136  \n",
       "1566      1.000000  \n",
       "1574      0.232118  \n",
       "6374      1.000000  "
      ]
     },
     "execution_count": 57,
     "metadata": {},
     "output_type": "execute_result"
    }
   ],
   "source": [
    "df4.head()"
   ]
  },
  {
   "cell_type": "code",
   "execution_count": 58,
   "id": "e3f371a3",
   "metadata": {},
   "outputs": [],
   "source": [
    "def cluster_job_title(df):\n",
    "    X = df.copy()\n",
    "        \n",
    "    job_titles = X[\"job_title\"].tolist()\n",
    "    categories = ['AI Engineer', 'Data Architect/ Data ETL Cloud Engineer/ Data Engineer',\n",
    "               'Data Scientist', 'Data Analyst/Data Specialist', 'Computer Vision/NLP/Deep Learning/Machine Learning Engineer/ MLOps Engineer',\n",
    "               'Tech/Technical/IT Lead/Head/Director/Manager/Solutions Architect', 'Tableau/BI Analyst/ Business Intelligence Specialist', 'Software Engineer']\n",
    "\n",
    "    vectorizer = TfidfVectorizer()\n",
    "    vectors = vectorizer.fit_transform(job_titles + categories)\n",
    "\n",
    "    job_vectors = vectors[: len(job_titles)]\n",
    "    category_vectors = vectors[len(job_titles) :]\n",
    "\n",
    "    similarities = cosine_similarity(job_vectors, category_vectors)\n",
    "        \n",
    "        \n",
    "    X[\"category\"] = [categories[i] for i in similarities.argmax(axis=1)]\n",
    "    X[\"similarities\"] = similarities.max(axis=1) \n",
    "        \n",
    "    X = X[X.similarities > 0.2]\n",
    "\n",
    "    X.category = X.category.replace({\n",
    "            'Data Analyst/Data Specialist': 'Data Analyst',\n",
    "            'Data Architect/ Data ETL Cloud Engineer/ Data Engineer': 'Data Engineer',\n",
    "            'Computer Vision/NLP/Deep Learning/Machine Learning Engineer/ MLOps Engineer': 'Machine Learning Engineer',\n",
    "            'Tableau/BI Analyst/ Business Intelligence Specialist': 'Business Intelligence Specialist',\n",
    "            'Tech/Technical/IT Lead/Head/Director/Manager/Solutions Architect': 'IT Manager'\n",
    "        })\n",
    "    X.drop('job_title', axis=1, inplace=True)\n",
    "    X.rename(columns={\"category\": \"job_title\"}, inplace=True)\n",
    "        \n",
    "return X"
   ]
  },
  {
   "cell_type": "code",
   "execution_count": 59,
   "id": "fc2839cf",
   "metadata": {},
   "outputs": [
    {
     "data": {
      "text/plain": [
       "(3780, 18)"
      ]
     },
     "execution_count": 59,
     "metadata": {},
     "output_type": "execute_result"
    }
   ],
   "source": [
    "df4.shape"
   ]
  },
  {
   "cell_type": "code",
   "execution_count": 60,
   "id": "c138fded",
   "metadata": {},
   "outputs": [
    {
     "data": {
      "text/plain": [
       "array(['Data Analyst', 'Data Scientist', 'Data Engineer',\n",
       "       'Business Intelligence Specialist', 'AI Engineer',\n",
       "       'Machine Learning Engineer', 'Software Engineer', 'IT Manager'],\n",
       "      dtype=object)"
      ]
     },
     "execution_count": 60,
     "metadata": {},
     "output_type": "execute_result"
    }
   ],
   "source": [
    "df5 = df4.copy()\n",
    "\n",
    "df5.category = df5.category.replace({\n",
    "    'Data Analyst/Data Specialist': 'Data Analyst',\n",
    "    'Data Architect/ Data ETL Cloud Engineer/ Data Engineer': 'Data Engineer',\n",
    "    'Computer Vision/NLP/Deep Learning/Machine Learning Engineer/ MLOps Engineer': 'Machine Learning Engineer',\n",
    "    'Tableau/BI Analyst/ Business Intelligence Specialist': 'Business Intelligence Specialist',\n",
    "    'Tech/Technical/IT Lead/Head/Director/Manager/Solutions Architect': 'IT Manager'\n",
    "})\n",
    "\n",
    "df5.category.unique()"
   ]
  },
  {
   "cell_type": "code",
   "execution_count": 61,
   "id": "b133f7eb",
   "metadata": {},
   "outputs": [
    {
     "data": {
      "text/html": [
       "<div>\n",
       "<style scoped>\n",
       "    .dataframe tbody tr th:only-of-type {\n",
       "        vertical-align: middle;\n",
       "    }\n",
       "\n",
       "    .dataframe tbody tr th {\n",
       "        vertical-align: top;\n",
       "    }\n",
       "\n",
       "    .dataframe thead th {\n",
       "        text-align: right;\n",
       "    }\n",
       "</style>\n",
       "<table border=\"1\" class=\"dataframe\">\n",
       "  <thead>\n",
       "    <tr style=\"text-align: right;\">\n",
       "      <th></th>\n",
       "      <th>count_job_title</th>\n",
       "      <th>avg_salary_job_title</th>\n",
       "    </tr>\n",
       "    <tr>\n",
       "      <th>category</th>\n",
       "      <th></th>\n",
       "      <th></th>\n",
       "    </tr>\n",
       "  </thead>\n",
       "  <tbody>\n",
       "    <tr>\n",
       "      <th>Data Analyst</th>\n",
       "      <td>760</td>\n",
       "      <td>104130.046053</td>\n",
       "    </tr>\n",
       "    <tr>\n",
       "      <th>Business Intelligence Specialist</th>\n",
       "      <td>207</td>\n",
       "      <td>115918.342995</td>\n",
       "    </tr>\n",
       "    <tr>\n",
       "      <th>AI Engineer</th>\n",
       "      <td>67</td>\n",
       "      <td>126016.417910</td>\n",
       "    </tr>\n",
       "    <tr>\n",
       "      <th>Data Engineer</th>\n",
       "      <td>1077</td>\n",
       "      <td>141284.231198</td>\n",
       "    </tr>\n",
       "    <tr>\n",
       "      <th>Software Engineer</th>\n",
       "      <td>12</td>\n",
       "      <td>144105.583333</td>\n",
       "    </tr>\n",
       "    <tr>\n",
       "      <th>Data Scientist</th>\n",
       "      <td>1100</td>\n",
       "      <td>151487.573636</td>\n",
       "    </tr>\n",
       "    <tr>\n",
       "      <th>IT Manager</th>\n",
       "      <td>36</td>\n",
       "      <td>155545.500000</td>\n",
       "    </tr>\n",
       "    <tr>\n",
       "      <th>Machine Learning Engineer</th>\n",
       "      <td>521</td>\n",
       "      <td>163988.545106</td>\n",
       "    </tr>\n",
       "  </tbody>\n",
       "</table>\n",
       "</div>"
      ],
      "text/plain": [
       "                                  count_job_title  avg_salary_job_title\n",
       "category                                                               \n",
       "Data Analyst                                  760         104130.046053\n",
       "Business Intelligence Specialist              207         115918.342995\n",
       "AI Engineer                                    67         126016.417910\n",
       "Data Engineer                                1077         141284.231198\n",
       "Software Engineer                              12         144105.583333\n",
       "Data Scientist                               1100         151487.573636\n",
       "IT Manager                                     36         155545.500000\n",
       "Machine Learning Engineer                     521         163988.545106"
      ]
     },
     "execution_count": 61,
     "metadata": {},
     "output_type": "execute_result"
    }
   ],
   "source": [
    "job_title_stats = df5.groupby('category').agg(\n",
    "    count_job_title = ('category', 'count'),\n",
    "    avg_salary_job_title = ('salary_in_usd', 'mean')\n",
    ").sort_values(by='avg_salary_job_title')\n",
    "\n",
    "job_title_stats"
   ]
  },
  {
   "cell_type": "code",
   "execution_count": 62,
   "id": "dc5fd001",
   "metadata": {},
   "outputs": [
    {
     "data": {
      "image/png": "[encoded data removed]",
      "text/plain": [
       "<Figure size 800x600 with 1 Axes>"
      ]
     },
     "metadata": {},
     "output_type": "display_data"
    }
   ],
   "source": [
    "# Plot\n",
    "plt.figure(figsize=(8, 6))\n",
    "plt.scatter(\n",
    "    job_title_stats[\"avg_salary_job_title\"], job_title_stats.index, \n",
    "    s=job_title_stats[\"count_job_title\"] / 8,  # Scale bubble size\n",
    "    alpha=0.6, color=\"blue\"\n",
    ")\n",
    "\n",
    "plt.xlabel(\"Average Salary ($)\")\n",
    "plt.ylabel(\"Job Title\")\n",
    "plt.title(\"Job Titles by Salary and Count\")\n",
    "plt.grid(True, linestyle=\"--\", alpha=0.5)\n",
    "\n",
    "plt.show()"
   ]
  },
  {
   "cell_type": "markdown",
   "id": "0edb4fa3",
   "metadata": {},
   "source": [
    "The graph above shows salary difference for each job titles, with the size of bubbles reperesnt the count of job titles. \n",
    "\n",
    "We can see from the graph that machine learning field has the highest salary than others like data and AI."
   ]
  },
  {
   "cell_type": "code",
   "execution_count": 63,
   "id": "78aa3e28",
   "metadata": {
    "scrolled": true
   },
   "outputs": [
    {
     "data": {
      "text/plain": [
       "array([[0., 0., 1., ..., 0., 0., 0.],\n",
       "       [0., 0., 1., ..., 0., 0., 0.],\n",
       "       [0., 0., 0., ..., 0., 0., 0.],\n",
       "       ...,\n",
       "       [0., 0., 0., ..., 0., 1., 0.],\n",
       "       [0., 0., 0., ..., 0., 0., 0.],\n",
       "       [0., 1., 0., ..., 0., 0., 0.]])"
      ]
     },
     "execution_count": 63,
     "metadata": {},
     "output_type": "execute_result"
    }
   ],
   "source": [
    "# encode job titles\n",
    "from sklearn.preprocessing import OneHotEncoder\n",
    "\n",
    "cat_encoder = OneHotEncoder()\n",
    "job_title_hot = cat_encoder.fit_transform(df5[['category']])\n",
    "job_title_hot.toarray()\n"
   ]
  },
  {
   "cell_type": "code",
   "execution_count": 64,
   "id": "3d275e4b",
   "metadata": {},
   "outputs": [
    {
     "data": {
      "text/plain": [
       "[array(['AI Engineer', 'Business Intelligence Specialist', 'Data Analyst',\n",
       "        'Data Engineer', 'Data Scientist', 'IT Manager',\n",
       "        'Machine Learning Engineer', 'Software Engineer'], dtype=object)]"
      ]
     },
     "execution_count": 64,
     "metadata": {},
     "output_type": "execute_result"
    }
   ],
   "source": [
    "cat_encoder.categories_"
   ]
  },
  {
   "cell_type": "code",
   "execution_count": 65,
   "id": "721be2c3",
   "metadata": {},
   "outputs": [],
   "source": [
    "import pandas as pd\n",
    "from sklearn.feature_extraction.text import TfidfVectorizer\n",
    "from sklearn.metrics.pairwise import cosine_similarity\n",
    "\n",
    "def cluster_job_title(df):\n",
    "    df = df.copy()  # Ensure we don't modify the original DataFrame\n",
    "    \n",
    "    job_titles = df[\"job_title\"].tolist()\n",
    "    categories = [\n",
    "        'AI Engineer', 'Data Architect/ Data ETL Cloud Engineer/ Data Engineer',\n",
    "        'Data Scientist', 'Data Analyst/Data Specialist',\n",
    "        'Computer Vision/NLP/Deep Learning/Machine Learning Engineer/ MLOps Engineer',\n",
    "        'Tech/Technical/IT Lead/Head/Director/Manager/Solutions Architect',\n",
    "        'Tableau/BI Analyst/ Business Intelligence Specialist', 'Software Engineer'\n",
    "    ]\n",
    "\n",
    "    vectorizer = TfidfVectorizer()\n",
    "    vectors = vectorizer.fit_transform(job_titles + categories)\n",
    "\n",
    "    job_vectors = vectors[: len(job_titles)]\n",
    "    category_vectors = vectors[len(job_titles) :]\n",
    "\n",
    "    similarities = cosine_similarity(job_vectors, category_vectors)\n",
    "\n",
    "    df[\"category\"] = [categories[i] for i in similarities.argmax(axis=1)]\n",
    "    df[\"similarities\"] = similarities.max(axis=1) \n",
    "\n",
    "    df = df[df[\"similarities\"] > 0.2]\n",
    "\n",
    "    df[\"category\"] = df[\"category\"].replace({\n",
    "        'Data Analyst/Data Specialist': 'Data Analyst',\n",
    "        'Data Architect/ Data ETL Cloud Engineer/ Data Engineer': 'Data Engineer',\n",
    "        'Computer Vision/NLP/Deep Learning/Machine Learning Engineer/ MLOps Engineer': 'Machine Learning Engineer',\n",
    "        'Tableau/BI Analyst/ Business Intelligence Specialist': 'Business Intelligence Specialist',\n",
    "        'Tech/Technical/IT Lead/Head/Director/Manager/Solutions Architect': 'IT Manager'\n",
    "    })\n",
    "\n",
    "    df.drop('job_title', axis=1, inplace=True)\n",
    "    df.rename(columns={\"category\": \"job_title\"}, inplace=True)\n",
    "    \n",
    "    return df\n"
   ]
  },
  {
   "cell_type": "code",
   "execution_count": 66,
   "id": "e7bed4cb",
   "metadata": {},
   "outputs": [],
   "source": [
    "clustered_cleaned_dsjobs = cluster_job_title(cleaned_dsjobs)"
   ]
  },
  {
   "cell_type": "markdown",
   "id": "e027b0d1",
   "metadata": {},
   "source": [
    "### Creating Preparation Pipeline\n",
    "my processing\n",
    "\n",
    "a. Target column\n",
    "- remove target outliers\n",
    "\n",
    "b. num features\n",
    " - numeric: standard scaler\n",
    " - time year: ordinal encoder\n",
    "\n",
    "c. Cat features\n",
    "- mapping w/ custom transformer \n",
    "\n",
    "c. job titles column\n",
    "- cluster job titles\n",
    "- onehotencode job titles\n"
   ]
  },
  {
   "cell_type": "markdown",
   "id": "629aa7b4",
   "metadata": {},
   "source": [
    "#### Creating  Custom Transformers"
   ]
  },
  {
   "cell_type": "code",
   "execution_count": 71,
   "id": "b7ca6cfa",
   "metadata": {
    "scrolled": false
   },
   "outputs": [
    {
     "name": "stderr",
     "output_type": "stream",
     "text": [
      "D:\\projects\\7_salary_prediction\\DsJobSalaries\\model\\pipeline.py:19: FutureWarning: Downcasting behavior in `replace` is deprecated and will be removed in a future version. To retain the old behavior, explicitly call `result.infer_objects(copy=False)`. To opt-in to the future behavior, set `pd.set_option('future.no_silent_downcasting', True)`\n",
      "  X['experience_level'] = X['experience_level'].replace({'EN': 1, 'MI': 2, 'SE': 3, 'EX': 4})\n",
      "D:\\projects\\7_salary_prediction\\DsJobSalaries\\model\\pipeline.py:20: FutureWarning: Downcasting behavior in `replace` is deprecated and will be removed in a future version. To retain the old behavior, explicitly call `result.infer_objects(copy=False)`. To opt-in to the future behavior, set `pd.set_option('future.no_silent_downcasting', True)`\n",
      "  X['company_size'] = X['company_size'].replace({'S': 1, 'M': 2, 'L': 3})\n"
     ]
    },
    {
     "data": {
      "text/html": [
       "<div>\n",
       "<style scoped>\n",
       "    .dataframe tbody tr th:only-of-type {\n",
       "        vertical-align: middle;\n",
       "    }\n",
       "\n",
       "    .dataframe tbody tr th {\n",
       "        vertical-align: top;\n",
       "    }\n",
       "\n",
       "    .dataframe thead th {\n",
       "        text-align: right;\n",
       "    }\n",
       "</style>\n",
       "<table border=\"1\" class=\"dataframe\">\n",
       "  <thead>\n",
       "    <tr style=\"text-align: right;\">\n",
       "      <th></th>\n",
       "      <th>experience_level</th>\n",
       "      <th>company_size</th>\n",
       "      <th>fulltime_emp</th>\n",
       "      <th>us_currency</th>\n",
       "      <th>us_emp_residence</th>\n",
       "      <th>us_company_loc</th>\n",
       "    </tr>\n",
       "  </thead>\n",
       "  <tbody>\n",
       "    <tr>\n",
       "      <th>273</th>\n",
       "      <td>3</td>\n",
       "      <td>2</td>\n",
       "      <td>1</td>\n",
       "      <td>1</td>\n",
       "      <td>1</td>\n",
       "      <td>1</td>\n",
       "    </tr>\n",
       "    <tr>\n",
       "      <th>6506</th>\n",
       "      <td>2</td>\n",
       "      <td>3</td>\n",
       "      <td>1</td>\n",
       "      <td>0</td>\n",
       "      <td>0</td>\n",
       "      <td>0</td>\n",
       "    </tr>\n",
       "    <tr>\n",
       "      <th>515</th>\n",
       "      <td>2</td>\n",
       "      <td>2</td>\n",
       "      <td>1</td>\n",
       "      <td>0</td>\n",
       "      <td>0</td>\n",
       "      <td>0</td>\n",
       "    </tr>\n",
       "  </tbody>\n",
       "</table>\n",
       "</div>"
      ],
      "text/plain": [
       "      experience_level  company_size  fulltime_emp  us_currency  \\\n",
       "273                  3             2             1            1   \n",
       "6506                 2             3             1            0   \n",
       "515                  2             2             1            0   \n",
       "\n",
       "      us_emp_residence  us_company_loc  \n",
       "273                  1               1  \n",
       "6506                 0               0  \n",
       "515                  0               0  "
      ]
     },
     "execution_count": 71,
     "metadata": {},
     "output_type": "execute_result"
    }
   ],
   "source": [
    "from pipeline import CatAttrEncoder\n",
    "\n",
    "cat_encoder = CatAttrEncoder()\n",
    "ds_jobs_encoded = cat_encoder.fit_transform(cleaned_dsjobs)\n",
    "ds_jobs_encoded.sample(3)"
   ]
  },
  {
   "cell_type": "code",
   "execution_count": 73,
   "id": "15796499",
   "metadata": {},
   "outputs": [],
   "source": [
    "from sklearn.pipeline import Pipeline\n",
    "from sklearn.preprocessing import OrdinalEncoder\n",
    "from sklearn.preprocessing import OneHotEncoder\n",
    "from sklearn.compose import ColumnTransformer\n",
    "from sklearn.preprocessing import StandardScaler"
   ]
  },
  {
   "cell_type": "code",
   "execution_count": 75,
   "id": "156e86cb",
   "metadata": {},
   "outputs": [],
   "source": [
    "# separate X and y values before applying transformation\n",
    "\n",
    "jobs = clustered_cleaned_dsjobs.drop(['salary', 'salary_in_usd'], axis=1)\n",
    "jobs_labels = clustered_cleaned_dsjobs.salary_in_usd.copy()"
   ]
  },
  {
   "cell_type": "code",
   "execution_count": 76,
   "id": "1a37fdc2",
   "metadata": {},
   "outputs": [],
   "source": [
    "from pipeline import CatAttrEncoder\n",
    "from pipeline import time_num_pipeline\n",
    "\n",
    "time_num_attribs = ['work_year']\n",
    "cat_attribs = ['experience_level', 'employment_type', 'salary_currency',\n",
    "               'employee_residence', 'company_location', 'company_size']\n",
    "job_title_attribs = ['job_title']\n",
    "\n",
    "# create column transformer pipeline to transform attribute values\n",
    "feature_transformation_pipeline = ColumnTransformer([\n",
    "    (\"time_num\", time_num_pipeline, time_num_attribs), # transform year col\n",
    "    (\"cat\", CatAttrEncoder(), cat_attribs),\n",
    "    (\"job_title\", OneHotEncoder(), job_title_attribs)\n",
    "])\n",
    "\n"
   ]
  },
  {
   "cell_type": "code",
   "execution_count": 77,
   "id": "51e78174",
   "metadata": {
    "scrolled": true
   },
   "outputs": [
    {
     "name": "stderr",
     "output_type": "stream",
     "text": [
      "D:\\projects\\7_salary_prediction\\DsJobSalaries\\model\\pipeline.py:19: FutureWarning: Downcasting behavior in `replace` is deprecated and will be removed in a future version. To retain the old behavior, explicitly call `result.infer_objects(copy=False)`. To opt-in to the future behavior, set `pd.set_option('future.no_silent_downcasting', True)`\n",
      "  X['experience_level'] = X['experience_level'].replace({'EN': 1, 'MI': 2, 'SE': 3, 'EX': 4})\n",
      "D:\\projects\\7_salary_prediction\\DsJobSalaries\\model\\pipeline.py:20: FutureWarning: Downcasting behavior in `replace` is deprecated and will be removed in a future version. To retain the old behavior, explicitly call `result.infer_objects(copy=False)`. To opt-in to the future behavior, set `pd.set_option('future.no_silent_downcasting', True)`\n",
      "  X['company_size'] = X['company_size'].replace({'S': 1, 'M': 2, 'L': 3})\n"
     ]
    },
    {
     "data": {
      "text/plain": [
       "array([[0.28478353, 1.        , 2.        , ..., 0.        , 0.        ,\n",
       "        0.        ],\n",
       "       [0.28478353, 1.        , 2.        , ..., 0.        , 0.        ,\n",
       "        0.        ],\n",
       "       [0.28478353, 1.        , 2.        , ..., 0.        , 0.        ,\n",
       "        0.        ],\n",
       "       ...,\n",
       "       [0.28478353, 3.        , 2.        , ..., 0.        , 1.        ,\n",
       "        0.        ],\n",
       "       [0.28478353, 3.        , 2.        , ..., 0.        , 0.        ,\n",
       "        0.        ],\n",
       "       [0.28478353, 3.        , 2.        , ..., 0.        , 0.        ,\n",
       "        0.        ]])"
      ]
     },
     "execution_count": 77,
     "metadata": {},
     "output_type": "execute_result"
    }
   ],
   "source": [
    "jobs_prepared = feature_transformation_pipeline.fit_transform(jobs)\n",
    "jobs_prepared"
   ]
  },
  {
   "cell_type": "code",
   "execution_count": 78,
   "id": "57c0fa50",
   "metadata": {},
   "outputs": [
    {
     "data": {
      "text/plain": [
       "(3780, 15)"
      ]
     },
     "execution_count": 78,
     "metadata": {},
     "output_type": "execute_result"
    }
   ],
   "source": [
    "jobs_prepared.shape"
   ]
  },
  {
   "cell_type": "markdown",
   "id": "81dcfbc3",
   "metadata": {},
   "source": [
    "## Modelling"
   ]
  },
  {
   "cell_type": "code",
   "execution_count": 79,
   "id": "45358ae4",
   "metadata": {},
   "outputs": [
    {
     "data": {
      "text/html": [
       "<style>#sk-container-id-1 {\n",
       "  /* Definition of color scheme common for light and dark mode */\n",
       "  --sklearn-color-text: #000;\n",
       "  --sklearn-color-text-muted: #666;\n",
       "  --sklearn-color-line: gray;\n",
       "  /* Definition of color scheme for unfitted estimators */\n",
       "  --sklearn-color-unfitted-level-0: #fff5e6;\n",
       "  --sklearn-color-unfitted-level-1: #f6e4d2;\n",
       "  --sklearn-color-unfitted-level-2: #ffe0b3;\n",
       "  --sklearn-color-unfitted-level-3: chocolate;\n",
       "  /* Definition of color scheme for fitted estimators */\n",
       "  --sklearn-color-fitted-level-0: #f0f8ff;\n",
       "  --sklearn-color-fitted-level-1: #d4ebff;\n",
       "  --sklearn-color-fitted-level-2: #b3dbfd;\n",
       "  --sklearn-color-fitted-level-3: cornflowerblue;\n",
       "\n",
       "  /* Specific color for light theme */\n",
       "  --sklearn-color-text-on-default-background: var(--sg-text-color, var(--theme-code-foreground, var(--jp-content-font-color1, black)));\n",
       "  --sklearn-color-background: var(--sg-background-color, var(--theme-background, var(--jp-layout-color0, white)));\n",
       "  --sklearn-color-border-box: var(--sg-text-color, var(--theme-code-foreground, var(--jp-content-font-color1, black)));\n",
       "  --sklearn-color-icon: #696969;\n",
       "\n",
       "  @media (prefers-color-scheme: dark) {\n",
       "    /* Redefinition of color scheme for dark theme */\n",
       "    --sklearn-color-text-on-default-background: var(--sg-text-color, var(--theme-code-foreground, var(--jp-content-font-color1, white)));\n",
       "    --sklearn-color-background: var(--sg-background-color, var(--theme-background, var(--jp-layout-color0, #111)));\n",
       "    --sklearn-color-border-box: var(--sg-text-color, var(--theme-code-foreground, var(--jp-content-font-color1, white)));\n",
       "    --sklearn-color-icon: #878787;\n",
       "  }\n",
       "}\n",
       "\n",
       "#sk-container-id-1 {\n",
       "  color: var(--sklearn-color-text);\n",
       "}\n",
       "\n",
       "#sk-container-id-1 pre {\n",
       "  padding: 0;\n",
       "}\n",
       "\n",
       "#sk-container-id-1 input.sk-hidden--visually {\n",
       "  border: 0;\n",
       "  clip: rect(1px 1px 1px 1px);\n",
       "  clip: rect(1px, 1px, 1px, 1px);\n",
       "  height: 1px;\n",
       "  margin: -1px;\n",
       "  overflow: hidden;\n",
       "  padding: 0;\n",
       "  position: absolute;\n",
       "  width: 1px;\n",
       "}\n",
       "\n",
       "#sk-container-id-1 div.sk-dashed-wrapped {\n",
       "  border: 1px dashed var(--sklearn-color-line);\n",
       "  margin: 0 0.4em 0.5em 0.4em;\n",
       "  box-sizing: border-box;\n",
       "  padding-bottom: 0.4em;\n",
       "  background-color: var(--sklearn-color-background);\n",
       "}\n",
       "\n",
       "#sk-container-id-1 div.sk-container {\n",
       "  /* jupyter's `normalize.less` sets `[hidden] { display: none; }`\n",
       "     but bootstrap.min.css set `[hidden] { display: none !important; }`\n",
       "     so we also need the `!important` here to be able to override the\n",
       "     default hidden behavior on the sphinx rendered scikit-learn.org.\n",
       "     See: https://github.com/scikit-learn/scikit-learn/issues/21755 */\n",
       "  display: inline-block !important;\n",
       "  position: relative;\n",
       "}\n",
       "\n",
       "#sk-container-id-1 div.sk-text-repr-fallback {\n",
       "  display: none;\n",
       "}\n",
       "\n",
       "div.sk-parallel-item,\n",
       "div.sk-serial,\n",
       "div.sk-item {\n",
       "  /* draw centered vertical line to link estimators */\n",
       "  background-image: linear-gradient(var(--sklearn-color-text-on-default-background), var(--sklearn-color-text-on-default-background));\n",
       "  background-size: 2px 100%;\n",
       "  background-repeat: no-repeat;\n",
       "  background-position: center center;\n",
       "}\n",
       "\n",
       "/* Parallel-specific style estimator block */\n",
       "\n",
       "#sk-container-id-1 div.sk-parallel-item::after {\n",
       "  content: \"\";\n",
       "  width: 100%;\n",
       "  border-bottom: 2px solid var(--sklearn-color-text-on-default-background);\n",
       "  flex-grow: 1;\n",
       "}\n",
       "\n",
       "#sk-container-id-1 div.sk-parallel {\n",
       "  display: flex;\n",
       "  align-items: stretch;\n",
       "  justify-content: center;\n",
       "  background-color: var(--sklearn-color-background);\n",
       "  position: relative;\n",
       "}\n",
       "\n",
       "#sk-container-id-1 div.sk-parallel-item {\n",
       "  display: flex;\n",
       "  flex-direction: column;\n",
       "}\n",
       "\n",
       "#sk-container-id-1 div.sk-parallel-item:first-child::after {\n",
       "  align-self: flex-end;\n",
       "  width: 50%;\n",
       "}\n",
       "\n",
       "#sk-container-id-1 div.sk-parallel-item:last-child::after {\n",
       "  align-self: flex-start;\n",
       "  width: 50%;\n",
       "}\n",
       "\n",
       "#sk-container-id-1 div.sk-parallel-item:only-child::after {\n",
       "  width: 0;\n",
       "}\n",
       "\n",
       "/* Serial-specific style estimator block */\n",
       "\n",
       "#sk-container-id-1 div.sk-serial {\n",
       "  display: flex;\n",
       "  flex-direction: column;\n",
       "  align-items: center;\n",
       "  background-color: var(--sklearn-color-background);\n",
       "  padding-right: 1em;\n",
       "  padding-left: 1em;\n",
       "}\n",
       "\n",
       "\n",
       "/* Toggleable style: style used for estimator/Pipeline/ColumnTransformer box that is\n",
       "clickable and can be expanded/collapsed.\n",
       "- Pipeline and ColumnTransformer use this feature and define the default style\n",
       "- Estimators will overwrite some part of the style using the `sk-estimator` class\n",
       "*/\n",
       "\n",
       "/* Pipeline and ColumnTransformer style (default) */\n",
       "\n",
       "#sk-container-id-1 div.sk-toggleable {\n",
       "  /* Default theme specific background. It is overwritten whether we have a\n",
       "  specific estimator or a Pipeline/ColumnTransformer */\n",
       "  background-color: var(--sklearn-color-background);\n",
       "}\n",
       "\n",
       "/* Toggleable label */\n",
       "#sk-container-id-1 label.sk-toggleable__label {\n",
       "  cursor: pointer;\n",
       "  display: flex;\n",
       "  width: 100%;\n",
       "  margin-bottom: 0;\n",
       "  padding: 0.5em;\n",
       "  box-sizing: border-box;\n",
       "  text-align: center;\n",
       "  align-items: start;\n",
       "  justify-content: space-between;\n",
       "  gap: 0.5em;\n",
       "}\n",
       "\n",
       "#sk-container-id-1 label.sk-toggleable__label .caption {\n",
       "  font-size: 0.6rem;\n",
       "  font-weight: lighter;\n",
       "  color: var(--sklearn-color-text-muted);\n",
       "}\n",
       "\n",
       "#sk-container-id-1 label.sk-toggleable__label-arrow:before {\n",
       "  /* Arrow on the left of the label */\n",
       "  content: \"▸\";\n",
       "  float: left;\n",
       "  margin-right: 0.25em;\n",
       "  color: var(--sklearn-color-icon);\n",
       "}\n",
       "\n",
       "#sk-container-id-1 label.sk-toggleable__label-arrow:hover:before {\n",
       "  color: var(--sklearn-color-text);\n",
       "}\n",
       "\n",
       "/* Toggleable content - dropdown */\n",
       "\n",
       "#sk-container-id-1 div.sk-toggleable__content {\n",
       "  max-height: 0;\n",
       "  max-width: 0;\n",
       "  overflow: hidden;\n",
       "  text-align: left;\n",
       "  /* unfitted */\n",
       "  background-color: var(--sklearn-color-unfitted-level-0);\n",
       "}\n",
       "\n",
       "#sk-container-id-1 div.sk-toggleable__content.fitted {\n",
       "  /* fitted */\n",
       "  background-color: var(--sklearn-color-fitted-level-0);\n",
       "}\n",
       "\n",
       "#sk-container-id-1 div.sk-toggleable__content pre {\n",
       "  margin: 0.2em;\n",
       "  border-radius: 0.25em;\n",
       "  color: var(--sklearn-color-text);\n",
       "  /* unfitted */\n",
       "  background-color: var(--sklearn-color-unfitted-level-0);\n",
       "}\n",
       "\n",
       "#sk-container-id-1 div.sk-toggleable__content.fitted pre {\n",
       "  /* unfitted */\n",
       "  background-color: var(--sklearn-color-fitted-level-0);\n",
       "}\n",
       "\n",
       "#sk-container-id-1 input.sk-toggleable__control:checked~div.sk-toggleable__content {\n",
       "  /* Expand drop-down */\n",
       "  max-height: 200px;\n",
       "  max-width: 100%;\n",
       "  overflow: auto;\n",
       "}\n",
       "\n",
       "#sk-container-id-1 input.sk-toggleable__control:checked~label.sk-toggleable__label-arrow:before {\n",
       "  content: \"▾\";\n",
       "}\n",
       "\n",
       "/* Pipeline/ColumnTransformer-specific style */\n",
       "\n",
       "#sk-container-id-1 div.sk-label input.sk-toggleable__control:checked~label.sk-toggleable__label {\n",
       "  color: var(--sklearn-color-text);\n",
       "  background-color: var(--sklearn-color-unfitted-level-2);\n",
       "}\n",
       "\n",
       "#sk-container-id-1 div.sk-label.fitted input.sk-toggleable__control:checked~label.sk-toggleable__label {\n",
       "  background-color: var(--sklearn-color-fitted-level-2);\n",
       "}\n",
       "\n",
       "/* Estimator-specific style */\n",
       "\n",
       "/* Colorize estimator box */\n",
       "#sk-container-id-1 div.sk-estimator input.sk-toggleable__control:checked~label.sk-toggleable__label {\n",
       "  /* unfitted */\n",
       "  background-color: var(--sklearn-color-unfitted-level-2);\n",
       "}\n",
       "\n",
       "#sk-container-id-1 div.sk-estimator.fitted input.sk-toggleable__control:checked~label.sk-toggleable__label {\n",
       "  /* fitted */\n",
       "  background-color: var(--sklearn-color-fitted-level-2);\n",
       "}\n",
       "\n",
       "#sk-container-id-1 div.sk-label label.sk-toggleable__label,\n",
       "#sk-container-id-1 div.sk-label label {\n",
       "  /* The background is the default theme color */\n",
       "  color: var(--sklearn-color-text-on-default-background);\n",
       "}\n",
       "\n",
       "/* On hover, darken the color of the background */\n",
       "#sk-container-id-1 div.sk-label:hover label.sk-toggleable__label {\n",
       "  color: var(--sklearn-color-text);\n",
       "  background-color: var(--sklearn-color-unfitted-level-2);\n",
       "}\n",
       "\n",
       "/* Label box, darken color on hover, fitted */\n",
       "#sk-container-id-1 div.sk-label.fitted:hover label.sk-toggleable__label.fitted {\n",
       "  color: var(--sklearn-color-text);\n",
       "  background-color: var(--sklearn-color-fitted-level-2);\n",
       "}\n",
       "\n",
       "/* Estimator label */\n",
       "\n",
       "#sk-container-id-1 div.sk-label label {\n",
       "  font-family: monospace;\n",
       "  font-weight: bold;\n",
       "  display: inline-block;\n",
       "  line-height: 1.2em;\n",
       "}\n",
       "\n",
       "#sk-container-id-1 div.sk-label-container {\n",
       "  text-align: center;\n",
       "}\n",
       "\n",
       "/* Estimator-specific */\n",
       "#sk-container-id-1 div.sk-estimator {\n",
       "  font-family: monospace;\n",
       "  border: 1px dotted var(--sklearn-color-border-box);\n",
       "  border-radius: 0.25em;\n",
       "  box-sizing: border-box;\n",
       "  margin-bottom: 0.5em;\n",
       "  /* unfitted */\n",
       "  background-color: var(--sklearn-color-unfitted-level-0);\n",
       "}\n",
       "\n",
       "#sk-container-id-1 div.sk-estimator.fitted {\n",
       "  /* fitted */\n",
       "  background-color: var(--sklearn-color-fitted-level-0);\n",
       "}\n",
       "\n",
       "/* on hover */\n",
       "#sk-container-id-1 div.sk-estimator:hover {\n",
       "  /* unfitted */\n",
       "  background-color: var(--sklearn-color-unfitted-level-2);\n",
       "}\n",
       "\n",
       "#sk-container-id-1 div.sk-estimator.fitted:hover {\n",
       "  /* fitted */\n",
       "  background-color: var(--sklearn-color-fitted-level-2);\n",
       "}\n",
       "\n",
       "/* Specification for estimator info (e.g. \"i\" and \"?\") */\n",
       "\n",
       "/* Common style for \"i\" and \"?\" */\n",
       "\n",
       ".sk-estimator-doc-link,\n",
       "a:link.sk-estimator-doc-link,\n",
       "a:visited.sk-estimator-doc-link {\n",
       "  float: right;\n",
       "  font-size: smaller;\n",
       "  line-height: 1em;\n",
       "  font-family: monospace;\n",
       "  background-color: var(--sklearn-color-background);\n",
       "  border-radius: 1em;\n",
       "  height: 1em;\n",
       "  width: 1em;\n",
       "  text-decoration: none !important;\n",
       "  margin-left: 0.5em;\n",
       "  text-align: center;\n",
       "  /* unfitted */\n",
       "  border: var(--sklearn-color-unfitted-level-1) 1pt solid;\n",
       "  color: var(--sklearn-color-unfitted-level-1);\n",
       "}\n",
       "\n",
       ".sk-estimator-doc-link.fitted,\n",
       "a:link.sk-estimator-doc-link.fitted,\n",
       "a:visited.sk-estimator-doc-link.fitted {\n",
       "  /* fitted */\n",
       "  border: var(--sklearn-color-fitted-level-1) 1pt solid;\n",
       "  color: var(--sklearn-color-fitted-level-1);\n",
       "}\n",
       "\n",
       "/* On hover */\n",
       "div.sk-estimator:hover .sk-estimator-doc-link:hover,\n",
       ".sk-estimator-doc-link:hover,\n",
       "div.sk-label-container:hover .sk-estimator-doc-link:hover,\n",
       ".sk-estimator-doc-link:hover {\n",
       "  /* unfitted */\n",
       "  background-color: var(--sklearn-color-unfitted-level-3);\n",
       "  color: var(--sklearn-color-background);\n",
       "  text-decoration: none;\n",
       "}\n",
       "\n",
       "div.sk-estimator.fitted:hover .sk-estimator-doc-link.fitted:hover,\n",
       ".sk-estimator-doc-link.fitted:hover,\n",
       "div.sk-label-container:hover .sk-estimator-doc-link.fitted:hover,\n",
       ".sk-estimator-doc-link.fitted:hover {\n",
       "  /* fitted */\n",
       "  background-color: var(--sklearn-color-fitted-level-3);\n",
       "  color: var(--sklearn-color-background);\n",
       "  text-decoration: none;\n",
       "}\n",
       "\n",
       "/* Span, style for the box shown on hovering the info icon */\n",
       ".sk-estimator-doc-link span {\n",
       "  display: none;\n",
       "  z-index: 9999;\n",
       "  position: relative;\n",
       "  font-weight: normal;\n",
       "  right: .2ex;\n",
       "  padding: .5ex;\n",
       "  margin: .5ex;\n",
       "  width: min-content;\n",
       "  min-width: 20ex;\n",
       "  max-width: 50ex;\n",
       "  color: var(--sklearn-color-text);\n",
       "  box-shadow: 2pt 2pt 4pt #999;\n",
       "  /* unfitted */\n",
       "  background: var(--sklearn-color-unfitted-level-0);\n",
       "  border: .5pt solid var(--sklearn-color-unfitted-level-3);\n",
       "}\n",
       "\n",
       ".sk-estimator-doc-link.fitted span {\n",
       "  /* fitted */\n",
       "  background: var(--sklearn-color-fitted-level-0);\n",
       "  border: var(--sklearn-color-fitted-level-3);\n",
       "}\n",
       "\n",
       ".sk-estimator-doc-link:hover span {\n",
       "  display: block;\n",
       "}\n",
       "\n",
       "/* \"?\"-specific style due to the `<a>` HTML tag */\n",
       "\n",
       "#sk-container-id-1 a.estimator_doc_link {\n",
       "  float: right;\n",
       "  font-size: 1rem;\n",
       "  line-height: 1em;\n",
       "  font-family: monospace;\n",
       "  background-color: var(--sklearn-color-background);\n",
       "  border-radius: 1rem;\n",
       "  height: 1rem;\n",
       "  width: 1rem;\n",
       "  text-decoration: none;\n",
       "  /* unfitted */\n",
       "  color: var(--sklearn-color-unfitted-level-1);\n",
       "  border: var(--sklearn-color-unfitted-level-1) 1pt solid;\n",
       "}\n",
       "\n",
       "#sk-container-id-1 a.estimator_doc_link.fitted {\n",
       "  /* fitted */\n",
       "  border: var(--sklearn-color-fitted-level-1) 1pt solid;\n",
       "  color: var(--sklearn-color-fitted-level-1);\n",
       "}\n",
       "\n",
       "/* On hover */\n",
       "#sk-container-id-1 a.estimator_doc_link:hover {\n",
       "  /* unfitted */\n",
       "  background-color: var(--sklearn-color-unfitted-level-3);\n",
       "  color: var(--sklearn-color-background);\n",
       "  text-decoration: none;\n",
       "}\n",
       "\n",
       "#sk-container-id-1 a.estimator_doc_link.fitted:hover {\n",
       "  /* fitted */\n",
       "  background-color: var(--sklearn-color-fitted-level-3);\n",
       "}\n",
       "</style><div id=\"sk-container-id-1\" class=\"sk-top-container\"><div class=\"sk-text-repr-fallback\"><pre>LinearRegression()</pre><b>In a Jupyter environment, please rerun this cell to show the HTML representation or trust the notebook. <br />On GitHub, the HTML representation is unable to render, please try loading this page with nbviewer.org.</b></div><div class=\"sk-container\" hidden><div class=\"sk-item\"><div class=\"sk-estimator fitted sk-toggleable\"><input class=\"sk-toggleable__control sk-hidden--visually\" id=\"sk-estimator-id-1\" type=\"checkbox\" checked><label for=\"sk-estimator-id-1\" class=\"sk-toggleable__label fitted sk-toggleable__label-arrow\"><div><div>LinearRegression</div></div><div><a class=\"sk-estimator-doc-link fitted\" rel=\"noreferrer\" target=\"_blank\" href=\"https://scikit-learn.org/1.6/modules/generated/sklearn.linear_model.LinearRegression.html\">?<span>Documentation for LinearRegression</span></a><span class=\"sk-estimator-doc-link fitted\">i<span>Fitted</span></span></div></label><div class=\"sk-toggleable__content fitted\"><pre>LinearRegression()</pre></div> </div></div></div></div>"
      ],
      "text/plain": [
       "LinearRegression()"
      ]
     },
     "execution_count": 79,
     "metadata": {},
     "output_type": "execute_result"
    }
   ],
   "source": [
    "from sklearn.linear_model import LinearRegression\n",
    "\n",
    "lin_reg = LinearRegression()\n",
    "lin_reg.fit(jobs_prepared, jobs_labels)"
   ]
  },
  {
   "cell_type": "code",
   "execution_count": 80,
   "id": "9a71a5f1",
   "metadata": {},
   "outputs": [
    {
     "data": {
      "text/plain": [
       "np.float64(45937.444680648274)"
      ]
     },
     "execution_count": 80,
     "metadata": {},
     "output_type": "execute_result"
    }
   ],
   "source": [
    "from sklearn.metrics import mean_squared_error\n",
    "\n",
    "salary_predictions = lin_reg.predict(jobs_prepared)\n",
    "lin_mse = mean_squared_error(jobs_labels, salary_predictions)\n",
    "lin_rmse = np.sqrt(lin_mse)\n",
    "lin_rmse"
   ]
  },
  {
   "cell_type": "code",
   "execution_count": 81,
   "id": "dd20808c",
   "metadata": {},
   "outputs": [
    {
     "name": "stdout",
     "output_type": "stream",
     "text": [
      "Predictions: [172489.62132418 138805.48124555  76673.74696231 103825.65923658\n",
      " 139752.22302348]\n",
      "Labels: [111000, 200000, 38868, 70000, 99000]\n"
     ]
    },
    {
     "name": "stderr",
     "output_type": "stream",
     "text": [
      "D:\\projects\\7_salary_prediction\\DsJobSalaries\\model\\pipeline.py:19: FutureWarning: Downcasting behavior in `replace` is deprecated and will be removed in a future version. To retain the old behavior, explicitly call `result.infer_objects(copy=False)`. To opt-in to the future behavior, set `pd.set_option('future.no_silent_downcasting', True)`\n",
      "  X['experience_level'] = X['experience_level'].replace({'EN': 1, 'MI': 2, 'SE': 3, 'EX': 4})\n",
      "D:\\projects\\7_salary_prediction\\DsJobSalaries\\model\\pipeline.py:20: FutureWarning: Downcasting behavior in `replace` is deprecated and will be removed in a future version. To retain the old behavior, explicitly call `result.infer_objects(copy=False)`. To opt-in to the future behavior, set `pd.set_option('future.no_silent_downcasting', True)`\n",
      "  X['company_size'] = X['company_size'].replace({'S': 1, 'M': 2, 'L': 3})\n"
     ]
    }
   ],
   "source": [
    "some_data = ds_jobs.iloc[:5]\n",
    "\n",
    "cleaned_data = cluster_job_title(some_data)\n",
    "\n",
    "some_data_X = some_data.drop('salary_in_usd', axis=1)\n",
    "some_data_y = some_data.salary_in_usd.copy()\n",
    "\n",
    "clustered_jobs_dataX = cluster_job_title(some_data_X)\n",
    "some_data_prepared = feature_transformation_pipeline.transform(clustered_jobs_dataX)\n",
    "\n",
    "print(\"Predictions:\", lin_reg.predict(some_data_prepared))\n",
    "print(\"Labels:\", list(some_data_y))"
   ]
  },
  {
   "cell_type": "code",
   "execution_count": 82,
   "id": "5ad1b4d3",
   "metadata": {},
   "outputs": [
    {
     "data": {
      "text/plain": [
       "np.float64(43164.9387464141)"
      ]
     },
     "execution_count": 82,
     "metadata": {},
     "output_type": "execute_result"
    }
   ],
   "source": [
    "from sklearn.tree import DecisionTreeRegressor\n",
    "\n",
    "tree_reg = DecisionTreeRegressor()\n",
    "tree_reg.fit(jobs_prepared, jobs_labels)\n",
    "\n",
    "salary_predictions = tree_reg.predict(jobs_prepared)\n",
    "tree_mse = mean_squared_error(jobs_labels, salary_predictions)\n",
    "tree_rmse = np.sqrt(tree_mse)\n",
    "tree_rmse"
   ]
  },
  {
   "cell_type": "code",
   "execution_count": 83,
   "id": "1b5ff257",
   "metadata": {},
   "outputs": [
    {
     "name": "stdout",
     "output_type": "stream",
     "text": [
      "Predictions: [177856.10648148 155025.          60353.         100037.73333333\n",
      " 142858.56      ]\n",
      "Labels: [111000, 200000, 38868, 70000, 99000]\n"
     ]
    }
   ],
   "source": [
    "print(\"Predictions:\", tree_reg.predict(some_data_prepared))\n",
    "print(\"Labels:\", list(some_data_y))"
   ]
  },
  {
   "cell_type": "code",
   "execution_count": 84,
   "id": "a87e9980",
   "metadata": {},
   "outputs": [
    {
     "data": {
      "text/plain": [
       "np.float64(43355.34128690463)"
      ]
     },
     "execution_count": 84,
     "metadata": {},
     "output_type": "execute_result"
    }
   ],
   "source": [
    "from sklearn.ensemble import RandomForestRegressor\n",
    "\n",
    "forest_reg = RandomForestRegressor()\n",
    "forest_reg.fit(jobs_prepared, jobs_labels)\n",
    "\n",
    "salary_predictions = forest_reg.predict(jobs_prepared)\n",
    "forest_mse = mean_squared_error(jobs_labels, salary_predictions)\n",
    "forest_rmse = np.sqrt(forest_mse)\n",
    "forest_rmse"
   ]
  },
  {
   "cell_type": "markdown",
   "id": "8671ca2c",
   "metadata": {},
   "source": [
    "###  Better Evaluation Using Cross-Validation"
   ]
  },
  {
   "cell_type": "code",
   "execution_count": 85,
   "id": "c33b546e",
   "metadata": {},
   "outputs": [],
   "source": [
    "from sklearn.model_selection import cross_val_score"
   ]
  },
  {
   "cell_type": "code",
   "execution_count": 86,
   "id": "057118bc",
   "metadata": {},
   "outputs": [],
   "source": [
    "## decision tree\n",
    "scores = cross_val_score(tree_reg, jobs_prepared, jobs_labels,\n",
    "                         scoring=\"neg_mean_squared_error\", cv=10)\n",
    "tree_rmse_scores = np.sqrt(-scores)"
   ]
  },
  {
   "cell_type": "code",
   "execution_count": 87,
   "id": "2a313325",
   "metadata": {},
   "outputs": [],
   "source": [
    "def display_scores(scores):\n",
    "    print(\"Scores:\", scores)   \n",
    "    print(\"Mean:\", scores.mean())\n",
    "    print(\"Standard deviation:\", scores.std())"
   ]
  },
  {
   "cell_type": "code",
   "execution_count": 88,
   "id": "88ad5f09",
   "metadata": {
    "scrolled": true
   },
   "outputs": [
    {
     "name": "stdout",
     "output_type": "stream",
     "text": [
      "Scores: [45987.42846855 50616.75144913 44306.15437168 43319.53537441\n",
      " 47815.44505155 51968.14695172 46933.40458957 49515.00836962\n",
      " 50186.97523959 47847.77493558]\n",
      "Mean: 47849.66248013971\n",
      "Standard deviation: 2650.324948227729\n"
     ]
    }
   ],
   "source": [
    "display_scores(tree_rmse_scores)"
   ]
  },
  {
   "cell_type": "code",
   "execution_count": 89,
   "id": "bff28aad",
   "metadata": {},
   "outputs": [],
   "source": [
    "## linear regression\n",
    "lin_scores = cross_val_score(lin_reg, jobs_prepared, jobs_labels,\n",
    "                         scoring=\"neg_mean_squared_error\", cv=10)\n",
    "lin_rmse_scores = np.sqrt(-lin_scores)"
   ]
  },
  {
   "cell_type": "code",
   "execution_count": 90,
   "id": "2ee27ab6",
   "metadata": {
    "scrolled": true
   },
   "outputs": [
    {
     "name": "stdout",
     "output_type": "stream",
     "text": [
      "Scores: [41222.63023648 45908.88579196 42482.73970573 42641.92000773\n",
      " 47210.07433059 51983.35476879 46299.10979595 48732.15671595\n",
      " 48698.1844995  47786.24658929]\n",
      "Mean: 46296.53024419762\n",
      "Standard deviation: 3176.3173746895513\n"
     ]
    }
   ],
   "source": [
    "display_scores(lin_rmse_scores)"
   ]
  },
  {
   "cell_type": "code",
   "execution_count": 91,
   "id": "3dd5aa0c",
   "metadata": {},
   "outputs": [],
   "source": [
    "## random forest\n",
    "forest_scores = cross_val_score(forest_reg, jobs_prepared, jobs_labels,\n",
    "                         scoring=\"neg_mean_squared_error\", cv=10)\n",
    "forest_rmse_scores = np.sqrt(-forest_scores)"
   ]
  },
  {
   "cell_type": "code",
   "execution_count": 92,
   "id": "e1bb56ab",
   "metadata": {
    "scrolled": true
   },
   "outputs": [
    {
     "name": "stdout",
     "output_type": "stream",
     "text": [
      "Scores: [44313.45981939 47560.91699506 42820.61155487 42833.14513029\n",
      " 47606.42576347 51054.62335724 46518.62173221 48961.40979115\n",
      " 49581.27779885 47775.27760955]\n",
      "Mean: 46902.57695520832\n",
      "Standard deviation: 2653.6353824370744\n"
     ]
    }
   ],
   "source": [
    "display_scores(forest_rmse_scores)"
   ]
  },
  {
   "cell_type": "code",
   "execution_count": 107,
   "id": "fc3eb2b4",
   "metadata": {},
   "outputs": [
    {
     "name": "stdout",
     "output_type": "stream",
     "text": [
      "Scores: [40986.83367408 45902.15081791 42496.00037405 42638.07954089\n",
      " 47214.04628871 51970.41798623 46309.08146891 48729.85700262\n",
      " 48702.74277177 47804.71053653]\n",
      "Mean: 46275.39204616966\n",
      "Standard deviation: 3212.363216956369\n"
     ]
    }
   ],
   "source": [
    "## ridge \n",
    "from sklearn.linear_model import Ridge\n",
    "\n",
    "ridge = Ridge()\n",
    "ridge_scores = cross_val_score(ridge, jobs_prepared, jobs_labels,\n",
    "                         scoring=\"neg_mean_squared_error\", cv=10)\n",
    "ridge_rmse_scores = np.sqrt(-ridge_scores)\n",
    "\n",
    "display_scores(ridge_rmse_scores)"
   ]
  },
  {
   "cell_type": "markdown",
   "id": "84c3cf80",
   "metadata": {},
   "source": [
    "The best score achieved with Random Forest"
   ]
  },
  {
   "cell_type": "markdown",
   "id": "966b42fc",
   "metadata": {},
   "source": [
    "## Fine-Tune Model"
   ]
  },
  {
   "cell_type": "code",
   "execution_count": 101,
   "id": "dce364ee",
   "metadata": {},
   "outputs": [
    {
     "name": "stdout",
     "output_type": "stream",
     "text": [
      "Best params: {'alpha': 25}\n",
      "Best RMSE: 46366.4533781962\n"
     ]
    }
   ],
   "source": [
    "from sklearn.linear_model import Ridge\n",
    "from sklearn.model_selection import GridSearchCV\n",
    "\n",
    "# Example: Ridge Regression\n",
    "ridge = Ridge()\n",
    "param_grid = {'alpha': [0.1, 0.5, 1, 2, 5, 10, 15, 20, 25, 50, 100]}\n",
    "grid_search = GridSearchCV(ridge, param_grid, cv=5, scoring='neg_mean_squared_error')\n",
    "grid_search.fit(jobs_prepared, jobs_labels)\n",
    "\n",
    "print(\"Best params:\", grid_search.best_params_)\n",
    "print(\"Best RMSE:\", (-grid_search.best_score_)**0.5)\n"
   ]
  },
  {
   "cell_type": "code",
   "execution_count": 108,
   "id": "0787f788",
   "metadata": {},
   "outputs": [
    {
     "name": "stdout",
     "output_type": "stream",
     "text": [
      "Scores: [38804.14042489 45865.46982014 42615.45645115 42600.91457724\n",
      " 47312.39183007 52050.81342199 46489.52185218 48773.58787748\n",
      " 48831.25127269 48105.42051946]\n",
      "Mean: 46144.89680472844\n",
      "Standard deviation: 3651.2104208500295\n"
     ]
    }
   ],
   "source": [
    "## ridge \n",
    "from sklearn.linear_model import Ridge\n",
    "\n",
    "ridge = Ridge(alpha=25)\n",
    "ridge_scores = cross_val_score(ridge, jobs_prepared, jobs_labels,\n",
    "                         scoring=\"neg_mean_squared_error\", cv=10)\n",
    "ridge_rmse_scores = np.sqrt(-ridge_scores)\n",
    "\n",
    "display_scores(ridge_rmse_scores)"
   ]
  },
  {
   "cell_type": "markdown",
   "id": "1456d4d5",
   "metadata": {},
   "source": [
    "Tuning Model improves base model performance"
   ]
  },
  {
   "cell_type": "markdown",
   "id": "9fd1ef7e",
   "metadata": {},
   "source": [
    "## Analyze Best Models"
   ]
  },
  {
   "cell_type": "code",
   "execution_count": 118,
   "id": "948c3f0c",
   "metadata": {},
   "outputs": [],
   "source": [
    "time_num_attribs = [\"work_year\"]\n",
    "cat_attribs = ['experience_level', 'company_size', 'fulltime_emp', 'us_currency', 'us_emp_residence', 'us_company_loc']\n",
    "job_title_encoder = feature_transformation_pipeline.named_transformers_[\"job_title\"]\n",
    "job_title_onehotencode_attribs = list(job_title_encoder.categories_[0])\n",
    "\n",
    "attributes = time_num_attribs + cat_attribs + job_title_onehotencode_attribs"
   ]
  },
  {
   "cell_type": "code",
   "execution_count": 117,
   "id": "f1d97ca1",
   "metadata": {},
   "outputs": [
    {
     "name": "stdout",
     "output_type": "stream",
     "text": [
      "                             Feature   Coefficient\n",
      "4                        us_currency  38006.315223\n",
      "9                       Data Analyst -27969.252967\n",
      "1                   experience_level  27619.493136\n",
      "5                   us_emp_residence  21779.391072\n",
      "13         Machine Learning Engineer  21718.464857\n",
      "8   Business Intelligence Specialist -18354.023032\n",
      "3                       fulltime_emp  12710.886961\n",
      "11                    Data Scientist  12129.767066\n",
      "12                        IT Manager   4633.435885\n",
      "14                 Software Engineer   4294.961096\n",
      "7                        AI Engineer   3941.466750\n",
      "0                          work_year   2978.876402\n",
      "6                     us_company_loc   1592.449567\n",
      "2                       company_size   1224.580184\n",
      "10                     Data Engineer   -394.819655\n"
     ]
    }
   ],
   "source": [
    "coefficients = grid_search.best_estimator_.coef_\n",
    "feature_names = attributes\n",
    "importance_df = pd.DataFrame({'Feature': feature_names, 'Coefficient': coefficients})\n",
    "importance_df.sort_values(by='Coefficient', key=abs, ascending=False, inplace=True)\n",
    "print(importance_df)\n"
   ]
  },
  {
   "cell_type": "markdown",
   "id": "b2c71178",
   "metadata": {},
   "source": [
    "## Evaluate on Test Set"
   ]
  },
  {
   "cell_type": "code",
   "execution_count": 121,
   "id": "d156e45a",
   "metadata": {},
   "outputs": [
    {
     "name": "stderr",
     "output_type": "stream",
     "text": [
      "D:\\projects\\7_salary_prediction\\DsJobSalaries\\model\\pipeline.py:19: FutureWarning: Downcasting behavior in `replace` is deprecated and will be removed in a future version. To retain the old behavior, explicitly call `result.infer_objects(copy=False)`. To opt-in to the future behavior, set `pd.set_option('future.no_silent_downcasting', True)`\n",
      "  X['experience_level'] = X['experience_level'].replace({'EN': 1, 'MI': 2, 'SE': 3, 'EX': 4})\n",
      "D:\\projects\\7_salary_prediction\\DsJobSalaries\\model\\pipeline.py:20: FutureWarning: Downcasting behavior in `replace` is deprecated and will be removed in a future version. To retain the old behavior, explicitly call `result.infer_objects(copy=False)`. To opt-in to the future behavior, set `pd.set_option('future.no_silent_downcasting', True)`\n",
      "  X['company_size'] = X['company_size'].replace({'S': 1, 'M': 2, 'L': 3})\n"
     ]
    },
    {
     "data": {
      "text/html": [
       "<style>#sk-container-id-3 {\n",
       "  /* Definition of color scheme common for light and dark mode */\n",
       "  --sklearn-color-text: #000;\n",
       "  --sklearn-color-text-muted: #666;\n",
       "  --sklearn-color-line: gray;\n",
       "  /* Definition of color scheme for unfitted estimators */\n",
       "  --sklearn-color-unfitted-level-0: #fff5e6;\n",
       "  --sklearn-color-unfitted-level-1: #f6e4d2;\n",
       "  --sklearn-color-unfitted-level-2: #ffe0b3;\n",
       "  --sklearn-color-unfitted-level-3: chocolate;\n",
       "  /* Definition of color scheme for fitted estimators */\n",
       "  --sklearn-color-fitted-level-0: #f0f8ff;\n",
       "  --sklearn-color-fitted-level-1: #d4ebff;\n",
       "  --sklearn-color-fitted-level-2: #b3dbfd;\n",
       "  --sklearn-color-fitted-level-3: cornflowerblue;\n",
       "\n",
       "  /* Specific color for light theme */\n",
       "  --sklearn-color-text-on-default-background: var(--sg-text-color, var(--theme-code-foreground, var(--jp-content-font-color1, black)));\n",
       "  --sklearn-color-background: var(--sg-background-color, var(--theme-background, var(--jp-layout-color0, white)));\n",
       "  --sklearn-color-border-box: var(--sg-text-color, var(--theme-code-foreground, var(--jp-content-font-color1, black)));\n",
       "  --sklearn-color-icon: #696969;\n",
       "\n",
       "  @media (prefers-color-scheme: dark) {\n",
       "    /* Redefinition of color scheme for dark theme */\n",
       "    --sklearn-color-text-on-default-background: var(--sg-text-color, var(--theme-code-foreground, var(--jp-content-font-color1, white)));\n",
       "    --sklearn-color-background: var(--sg-background-color, var(--theme-background, var(--jp-layout-color0, #111)));\n",
       "    --sklearn-color-border-box: var(--sg-text-color, var(--theme-code-foreground, var(--jp-content-font-color1, white)));\n",
       "    --sklearn-color-icon: #878787;\n",
       "  }\n",
       "}\n",
       "\n",
       "#sk-container-id-3 {\n",
       "  color: var(--sklearn-color-text);\n",
       "}\n",
       "\n",
       "#sk-container-id-3 pre {\n",
       "  padding: 0;\n",
       "}\n",
       "\n",
       "#sk-container-id-3 input.sk-hidden--visually {\n",
       "  border: 0;\n",
       "  clip: rect(1px 1px 1px 1px);\n",
       "  clip: rect(1px, 1px, 1px, 1px);\n",
       "  height: 1px;\n",
       "  margin: -1px;\n",
       "  overflow: hidden;\n",
       "  padding: 0;\n",
       "  position: absolute;\n",
       "  width: 1px;\n",
       "}\n",
       "\n",
       "#sk-container-id-3 div.sk-dashed-wrapped {\n",
       "  border: 1px dashed var(--sklearn-color-line);\n",
       "  margin: 0 0.4em 0.5em 0.4em;\n",
       "  box-sizing: border-box;\n",
       "  padding-bottom: 0.4em;\n",
       "  background-color: var(--sklearn-color-background);\n",
       "}\n",
       "\n",
       "#sk-container-id-3 div.sk-container {\n",
       "  /* jupyter's `normalize.less` sets `[hidden] { display: none; }`\n",
       "     but bootstrap.min.css set `[hidden] { display: none !important; }`\n",
       "     so we also need the `!important` here to be able to override the\n",
       "     default hidden behavior on the sphinx rendered scikit-learn.org.\n",
       "     See: https://github.com/scikit-learn/scikit-learn/issues/21755 */\n",
       "  display: inline-block !important;\n",
       "  position: relative;\n",
       "}\n",
       "\n",
       "#sk-container-id-3 div.sk-text-repr-fallback {\n",
       "  display: none;\n",
       "}\n",
       "\n",
       "div.sk-parallel-item,\n",
       "div.sk-serial,\n",
       "div.sk-item {\n",
       "  /* draw centered vertical line to link estimators */\n",
       "  background-image: linear-gradient(var(--sklearn-color-text-on-default-background), var(--sklearn-color-text-on-default-background));\n",
       "  background-size: 2px 100%;\n",
       "  background-repeat: no-repeat;\n",
       "  background-position: center center;\n",
       "}\n",
       "\n",
       "/* Parallel-specific style estimator block */\n",
       "\n",
       "#sk-container-id-3 div.sk-parallel-item::after {\n",
       "  content: \"\";\n",
       "  width: 100%;\n",
       "  border-bottom: 2px solid var(--sklearn-color-text-on-default-background);\n",
       "  flex-grow: 1;\n",
       "}\n",
       "\n",
       "#sk-container-id-3 div.sk-parallel {\n",
       "  display: flex;\n",
       "  align-items: stretch;\n",
       "  justify-content: center;\n",
       "  background-color: var(--sklearn-color-background);\n",
       "  position: relative;\n",
       "}\n",
       "\n",
       "#sk-container-id-3 div.sk-parallel-item {\n",
       "  display: flex;\n",
       "  flex-direction: column;\n",
       "}\n",
       "\n",
       "#sk-container-id-3 div.sk-parallel-item:first-child::after {\n",
       "  align-self: flex-end;\n",
       "  width: 50%;\n",
       "}\n",
       "\n",
       "#sk-container-id-3 div.sk-parallel-item:last-child::after {\n",
       "  align-self: flex-start;\n",
       "  width: 50%;\n",
       "}\n",
       "\n",
       "#sk-container-id-3 div.sk-parallel-item:only-child::after {\n",
       "  width: 0;\n",
       "}\n",
       "\n",
       "/* Serial-specific style estimator block */\n",
       "\n",
       "#sk-container-id-3 div.sk-serial {\n",
       "  display: flex;\n",
       "  flex-direction: column;\n",
       "  align-items: center;\n",
       "  background-color: var(--sklearn-color-background);\n",
       "  padding-right: 1em;\n",
       "  padding-left: 1em;\n",
       "}\n",
       "\n",
       "\n",
       "/* Toggleable style: style used for estimator/Pipeline/ColumnTransformer box that is\n",
       "clickable and can be expanded/collapsed.\n",
       "- Pipeline and ColumnTransformer use this feature and define the default style\n",
       "- Estimators will overwrite some part of the style using the `sk-estimator` class\n",
       "*/\n",
       "\n",
       "/* Pipeline and ColumnTransformer style (default) */\n",
       "\n",
       "#sk-container-id-3 div.sk-toggleable {\n",
       "  /* Default theme specific background. It is overwritten whether we have a\n",
       "  specific estimator or a Pipeline/ColumnTransformer */\n",
       "  background-color: var(--sklearn-color-background);\n",
       "}\n",
       "\n",
       "/* Toggleable label */\n",
       "#sk-container-id-3 label.sk-toggleable__label {\n",
       "  cursor: pointer;\n",
       "  display: flex;\n",
       "  width: 100%;\n",
       "  margin-bottom: 0;\n",
       "  padding: 0.5em;\n",
       "  box-sizing: border-box;\n",
       "  text-align: center;\n",
       "  align-items: start;\n",
       "  justify-content: space-between;\n",
       "  gap: 0.5em;\n",
       "}\n",
       "\n",
       "#sk-container-id-3 label.sk-toggleable__label .caption {\n",
       "  font-size: 0.6rem;\n",
       "  font-weight: lighter;\n",
       "  color: var(--sklearn-color-text-muted);\n",
       "}\n",
       "\n",
       "#sk-container-id-3 label.sk-toggleable__label-arrow:before {\n",
       "  /* Arrow on the left of the label */\n",
       "  content: \"▸\";\n",
       "  float: left;\n",
       "  margin-right: 0.25em;\n",
       "  color: var(--sklearn-color-icon);\n",
       "}\n",
       "\n",
       "#sk-container-id-3 label.sk-toggleable__label-arrow:hover:before {\n",
       "  color: var(--sklearn-color-text);\n",
       "}\n",
       "\n",
       "/* Toggleable content - dropdown */\n",
       "\n",
       "#sk-container-id-3 div.sk-toggleable__content {\n",
       "  max-height: 0;\n",
       "  max-width: 0;\n",
       "  overflow: hidden;\n",
       "  text-align: left;\n",
       "  /* unfitted */\n",
       "  background-color: var(--sklearn-color-unfitted-level-0);\n",
       "}\n",
       "\n",
       "#sk-container-id-3 div.sk-toggleable__content.fitted {\n",
       "  /* fitted */\n",
       "  background-color: var(--sklearn-color-fitted-level-0);\n",
       "}\n",
       "\n",
       "#sk-container-id-3 div.sk-toggleable__content pre {\n",
       "  margin: 0.2em;\n",
       "  border-radius: 0.25em;\n",
       "  color: var(--sklearn-color-text);\n",
       "  /* unfitted */\n",
       "  background-color: var(--sklearn-color-unfitted-level-0);\n",
       "}\n",
       "\n",
       "#sk-container-id-3 div.sk-toggleable__content.fitted pre {\n",
       "  /* unfitted */\n",
       "  background-color: var(--sklearn-color-fitted-level-0);\n",
       "}\n",
       "\n",
       "#sk-container-id-3 input.sk-toggleable__control:checked~div.sk-toggleable__content {\n",
       "  /* Expand drop-down */\n",
       "  max-height: 200px;\n",
       "  max-width: 100%;\n",
       "  overflow: auto;\n",
       "}\n",
       "\n",
       "#sk-container-id-3 input.sk-toggleable__control:checked~label.sk-toggleable__label-arrow:before {\n",
       "  content: \"▾\";\n",
       "}\n",
       "\n",
       "/* Pipeline/ColumnTransformer-specific style */\n",
       "\n",
       "#sk-container-id-3 div.sk-label input.sk-toggleable__control:checked~label.sk-toggleable__label {\n",
       "  color: var(--sklearn-color-text);\n",
       "  background-color: var(--sklearn-color-unfitted-level-2);\n",
       "}\n",
       "\n",
       "#sk-container-id-3 div.sk-label.fitted input.sk-toggleable__control:checked~label.sk-toggleable__label {\n",
       "  background-color: var(--sklearn-color-fitted-level-2);\n",
       "}\n",
       "\n",
       "/* Estimator-specific style */\n",
       "\n",
       "/* Colorize estimator box */\n",
       "#sk-container-id-3 div.sk-estimator input.sk-toggleable__control:checked~label.sk-toggleable__label {\n",
       "  /* unfitted */\n",
       "  background-color: var(--sklearn-color-unfitted-level-2);\n",
       "}\n",
       "\n",
       "#sk-container-id-3 div.sk-estimator.fitted input.sk-toggleable__control:checked~label.sk-toggleable__label {\n",
       "  /* fitted */\n",
       "  background-color: var(--sklearn-color-fitted-level-2);\n",
       "}\n",
       "\n",
       "#sk-container-id-3 div.sk-label label.sk-toggleable__label,\n",
       "#sk-container-id-3 div.sk-label label {\n",
       "  /* The background is the default theme color */\n",
       "  color: var(--sklearn-color-text-on-default-background);\n",
       "}\n",
       "\n",
       "/* On hover, darken the color of the background */\n",
       "#sk-container-id-3 div.sk-label:hover label.sk-toggleable__label {\n",
       "  color: var(--sklearn-color-text);\n",
       "  background-color: var(--sklearn-color-unfitted-level-2);\n",
       "}\n",
       "\n",
       "/* Label box, darken color on hover, fitted */\n",
       "#sk-container-id-3 div.sk-label.fitted:hover label.sk-toggleable__label.fitted {\n",
       "  color: var(--sklearn-color-text);\n",
       "  background-color: var(--sklearn-color-fitted-level-2);\n",
       "}\n",
       "\n",
       "/* Estimator label */\n",
       "\n",
       "#sk-container-id-3 div.sk-label label {\n",
       "  font-family: monospace;\n",
       "  font-weight: bold;\n",
       "  display: inline-block;\n",
       "  line-height: 1.2em;\n",
       "}\n",
       "\n",
       "#sk-container-id-3 div.sk-label-container {\n",
       "  text-align: center;\n",
       "}\n",
       "\n",
       "/* Estimator-specific */\n",
       "#sk-container-id-3 div.sk-estimator {\n",
       "  font-family: monospace;\n",
       "  border: 1px dotted var(--sklearn-color-border-box);\n",
       "  border-radius: 0.25em;\n",
       "  box-sizing: border-box;\n",
       "  margin-bottom: 0.5em;\n",
       "  /* unfitted */\n",
       "  background-color: var(--sklearn-color-unfitted-level-0);\n",
       "}\n",
       "\n",
       "#sk-container-id-3 div.sk-estimator.fitted {\n",
       "  /* fitted */\n",
       "  background-color: var(--sklearn-color-fitted-level-0);\n",
       "}\n",
       "\n",
       "/* on hover */\n",
       "#sk-container-id-3 div.sk-estimator:hover {\n",
       "  /* unfitted */\n",
       "  background-color: var(--sklearn-color-unfitted-level-2);\n",
       "}\n",
       "\n",
       "#sk-container-id-3 div.sk-estimator.fitted:hover {\n",
       "  /* fitted */\n",
       "  background-color: var(--sklearn-color-fitted-level-2);\n",
       "}\n",
       "\n",
       "/* Specification for estimator info (e.g. \"i\" and \"?\") */\n",
       "\n",
       "/* Common style for \"i\" and \"?\" */\n",
       "\n",
       ".sk-estimator-doc-link,\n",
       "a:link.sk-estimator-doc-link,\n",
       "a:visited.sk-estimator-doc-link {\n",
       "  float: right;\n",
       "  font-size: smaller;\n",
       "  line-height: 1em;\n",
       "  font-family: monospace;\n",
       "  background-color: var(--sklearn-color-background);\n",
       "  border-radius: 1em;\n",
       "  height: 1em;\n",
       "  width: 1em;\n",
       "  text-decoration: none !important;\n",
       "  margin-left: 0.5em;\n",
       "  text-align: center;\n",
       "  /* unfitted */\n",
       "  border: var(--sklearn-color-unfitted-level-1) 1pt solid;\n",
       "  color: var(--sklearn-color-unfitted-level-1);\n",
       "}\n",
       "\n",
       ".sk-estimator-doc-link.fitted,\n",
       "a:link.sk-estimator-doc-link.fitted,\n",
       "a:visited.sk-estimator-doc-link.fitted {\n",
       "  /* fitted */\n",
       "  border: var(--sklearn-color-fitted-level-1) 1pt solid;\n",
       "  color: var(--sklearn-color-fitted-level-1);\n",
       "}\n",
       "\n",
       "/* On hover */\n",
       "div.sk-estimator:hover .sk-estimator-doc-link:hover,\n",
       ".sk-estimator-doc-link:hover,\n",
       "div.sk-label-container:hover .sk-estimator-doc-link:hover,\n",
       ".sk-estimator-doc-link:hover {\n",
       "  /* unfitted */\n",
       "  background-color: var(--sklearn-color-unfitted-level-3);\n",
       "  color: var(--sklearn-color-background);\n",
       "  text-decoration: none;\n",
       "}\n",
       "\n",
       "div.sk-estimator.fitted:hover .sk-estimator-doc-link.fitted:hover,\n",
       ".sk-estimator-doc-link.fitted:hover,\n",
       "div.sk-label-container:hover .sk-estimator-doc-link.fitted:hover,\n",
       ".sk-estimator-doc-link.fitted:hover {\n",
       "  /* fitted */\n",
       "  background-color: var(--sklearn-color-fitted-level-3);\n",
       "  color: var(--sklearn-color-background);\n",
       "  text-decoration: none;\n",
       "}\n",
       "\n",
       "/* Span, style for the box shown on hovering the info icon */\n",
       ".sk-estimator-doc-link span {\n",
       "  display: none;\n",
       "  z-index: 9999;\n",
       "  position: relative;\n",
       "  font-weight: normal;\n",
       "  right: .2ex;\n",
       "  padding: .5ex;\n",
       "  margin: .5ex;\n",
       "  width: min-content;\n",
       "  min-width: 20ex;\n",
       "  max-width: 50ex;\n",
       "  color: var(--sklearn-color-text);\n",
       "  box-shadow: 2pt 2pt 4pt #999;\n",
       "  /* unfitted */\n",
       "  background: var(--sklearn-color-unfitted-level-0);\n",
       "  border: .5pt solid var(--sklearn-color-unfitted-level-3);\n",
       "}\n",
       "\n",
       ".sk-estimator-doc-link.fitted span {\n",
       "  /* fitted */\n",
       "  background: var(--sklearn-color-fitted-level-0);\n",
       "  border: var(--sklearn-color-fitted-level-3);\n",
       "}\n",
       "\n",
       ".sk-estimator-doc-link:hover span {\n",
       "  display: block;\n",
       "}\n",
       "\n",
       "/* \"?\"-specific style due to the `<a>` HTML tag */\n",
       "\n",
       "#sk-container-id-3 a.estimator_doc_link {\n",
       "  float: right;\n",
       "  font-size: 1rem;\n",
       "  line-height: 1em;\n",
       "  font-family: monospace;\n",
       "  background-color: var(--sklearn-color-background);\n",
       "  border-radius: 1rem;\n",
       "  height: 1rem;\n",
       "  width: 1rem;\n",
       "  text-decoration: none;\n",
       "  /* unfitted */\n",
       "  color: var(--sklearn-color-unfitted-level-1);\n",
       "  border: var(--sklearn-color-unfitted-level-1) 1pt solid;\n",
       "}\n",
       "\n",
       "#sk-container-id-3 a.estimator_doc_link.fitted {\n",
       "  /* fitted */\n",
       "  border: var(--sklearn-color-fitted-level-1) 1pt solid;\n",
       "  color: var(--sklearn-color-fitted-level-1);\n",
       "}\n",
       "\n",
       "/* On hover */\n",
       "#sk-container-id-3 a.estimator_doc_link:hover {\n",
       "  /* unfitted */\n",
       "  background-color: var(--sklearn-color-unfitted-level-3);\n",
       "  color: var(--sklearn-color-background);\n",
       "  text-decoration: none;\n",
       "}\n",
       "\n",
       "#sk-container-id-3 a.estimator_doc_link.fitted:hover {\n",
       "  /* fitted */\n",
       "  background-color: var(--sklearn-color-fitted-level-3);\n",
       "}\n",
       "</style><div id=\"sk-container-id-3\" class=\"sk-top-container\"><div class=\"sk-text-repr-fallback\"><pre>Ridge(alpha=25)</pre><b>In a Jupyter environment, please rerun this cell to show the HTML representation or trust the notebook. <br />On GitHub, the HTML representation is unable to render, please try loading this page with nbviewer.org.</b></div><div class=\"sk-container\" hidden><div class=\"sk-item\"><div class=\"sk-estimator fitted sk-toggleable\"><input class=\"sk-toggleable__control sk-hidden--visually\" id=\"sk-estimator-id-3\" type=\"checkbox\" checked><label for=\"sk-estimator-id-3\" class=\"sk-toggleable__label fitted sk-toggleable__label-arrow\"><div><div>Ridge</div></div><div><a class=\"sk-estimator-doc-link fitted\" rel=\"noreferrer\" target=\"_blank\" href=\"https://scikit-learn.org/1.6/modules/generated/sklearn.linear_model.Ridge.html\">?<span>Documentation for Ridge</span></a><span class=\"sk-estimator-doc-link fitted\">i<span>Fitted</span></span></div></label><div class=\"sk-toggleable__content fitted\"><pre>Ridge(alpha=25)</pre></div> </div></div></div></div>"
      ],
      "text/plain": [
       "Ridge(alpha=25)"
      ]
     },
     "execution_count": 121,
     "metadata": {},
     "output_type": "execute_result"
    }
   ],
   "source": [
    "from sklearn.ensemble import RandomForestRegressor\n",
    "\n",
    "data_cleaned = remove_outlier_salary(strat_train_set)\n",
    "data_cleaned = cluster_job_title(data_cleaned)\n",
    "\n",
    "data_X = data_cleaned.drop('salary_in_usd', axis=1)\n",
    "data_y = data_cleaned.salary_in_usd.copy()\n",
    "\n",
    "data_prepared = feature_transformation_pipeline.transform(data_X)\n",
    "\n",
    "ridge = Ridge(alpha=25)\n",
    "ridge.fit(data_prepared, data_y)"
   ]
  },
  {
   "cell_type": "code",
   "execution_count": 122,
   "id": "2be78138",
   "metadata": {},
   "outputs": [
    {
     "name": "stdout",
     "output_type": "stream",
     "text": [
      "RMSE: 56496.70607193666\n",
      "MAE: 40368.32480148696\n",
      "R squared: 0.3204590572917546\n"
     ]
    },
    {
     "name": "stderr",
     "output_type": "stream",
     "text": [
      "D:\\projects\\7_salary_prediction\\DsJobSalaries\\model\\pipeline.py:19: FutureWarning: Downcasting behavior in `replace` is deprecated and will be removed in a future version. To retain the old behavior, explicitly call `result.infer_objects(copy=False)`. To opt-in to the future behavior, set `pd.set_option('future.no_silent_downcasting', True)`\n",
      "  X['experience_level'] = X['experience_level'].replace({'EN': 1, 'MI': 2, 'SE': 3, 'EX': 4})\n",
      "D:\\projects\\7_salary_prediction\\DsJobSalaries\\model\\pipeline.py:20: FutureWarning: Downcasting behavior in `replace` is deprecated and will be removed in a future version. To retain the old behavior, explicitly call `result.infer_objects(copy=False)`. To opt-in to the future behavior, set `pd.set_option('future.no_silent_downcasting', True)`\n",
      "  X['company_size'] = X['company_size'].replace({'S': 1, 'M': 2, 'L': 3})\n"
     ]
    }
   ],
   "source": [
    "from sklearn.metrics import mean_squared_error\n",
    "from sklearn.metrics import mean_absolute_error\n",
    "from sklearn.metrics import r2_score\n",
    "\n",
    "\n",
    "final_model = ridge\n",
    "\n",
    "test_set = cluster_job_title(strat_test_set)\n",
    "\n",
    "X_test = test_set.drop('salary_in_usd', axis=1)\n",
    "y_test = test_set['salary_in_usd'].copy()\n",
    "\n",
    "X_test_prepared = feature_transformation_pipeline.transform(X_test)\n",
    "\n",
    "final_predictions = final_model.predict(X_test_prepared)\n",
    "\n",
    "final_mse = mean_squared_error(y_test, final_predictions)\n",
    "final_rmse = np.sqrt(final_mse)\n",
    "print(f'RMSE: {final_rmse}')\n",
    "\n",
    "mae = mean_absolute_error(y_test, final_predictions)\n",
    "print(f'MAE: {mae}')\n",
    "\n",
    "r2 = r2_score(y_test, final_predictions)\n",
    "print(f'R squared: {r2}')"
   ]
  },
  {
   "cell_type": "code",
   "execution_count": 123,
   "id": "c5641c2c",
   "metadata": {
    "scrolled": true
   },
   "outputs": [
    {
     "name": "stdout",
     "output_type": "stream",
     "text": [
      "Predictions: [172191.04258603 136383.24913415  76229.6734559  104472.52941737\n",
      " 141707.25248825]\n",
      "Labels: [111000, 200000, 38868, 70000, 99000]\n"
     ]
    },
    {
     "name": "stderr",
     "output_type": "stream",
     "text": [
      "D:\\projects\\7_salary_prediction\\DsJobSalaries\\model\\pipeline.py:19: FutureWarning: Downcasting behavior in `replace` is deprecated and will be removed in a future version. To retain the old behavior, explicitly call `result.infer_objects(copy=False)`. To opt-in to the future behavior, set `pd.set_option('future.no_silent_downcasting', True)`\n",
      "  X['experience_level'] = X['experience_level'].replace({'EN': 1, 'MI': 2, 'SE': 3, 'EX': 4})\n",
      "D:\\projects\\7_salary_prediction\\DsJobSalaries\\model\\pipeline.py:20: FutureWarning: Downcasting behavior in `replace` is deprecated and will be removed in a future version. To retain the old behavior, explicitly call `result.infer_objects(copy=False)`. To opt-in to the future behavior, set `pd.set_option('future.no_silent_downcasting', True)`\n",
      "  X['company_size'] = X['company_size'].replace({'S': 1, 'M': 2, 'L': 3})\n"
     ]
    }
   ],
   "source": [
    "some_data = ds_jobs.iloc[:5]\n",
    "\n",
    "some_data_cleaned = cluster_job_title(some_data)\n",
    "\n",
    "some_data_X = some_data_cleaned.drop('salary_in_usd', axis=1)\n",
    "some_data_y = some_data_cleaned.salary_in_usd\n",
    "\n",
    "some_data_prepared = feature_transformation_pipeline.transform(some_data_X)\n",
    "\n",
    "print(\"Predictions:\", ridge.predict(some_data_prepared))\n",
    "print(\"Labels:\", list(some_data_y))"
   ]
  },
  {
   "cell_type": "markdown",
   "id": "fe2bb25f",
   "metadata": {},
   "source": [
    "## Save Models"
   ]
  },
  {
   "cell_type": "code",
   "execution_count": 124,
   "id": "08cfbd47",
   "metadata": {},
   "outputs": [],
   "source": [
    "import pickle\n",
    "with open('ds_jobs_salaries_model.pickle', 'wb') as f:\n",
    "    pickle.dump(final_model, f)"
   ]
  },
  {
   "cell_type": "code",
   "execution_count": 125,
   "id": "e1c41c9c",
   "metadata": {},
   "outputs": [],
   "source": [
    "import json\n",
    "columns = {\n",
    "    'data_columns' : [col for col in ds_jobs.columns if col not in ['salary_in_usd', 'salary']],\n",
    "    'job_titles': job_title_onehotencode_attribs,\n",
    "    'company_locations': ds_jobs.company_location.unique().tolist(),\n",
    "    'currency': ds_jobs.salary_currency.unique().tolist(),\n",
    "    'employee_residence': ds_jobs.employee_residence.unique().tolist(),\n",
    "}\n",
    "with open(\"columns.json\", \"w\") as f:\n",
    "    f.write(json.dumps(columns))"
   ]
  },
  {
   "cell_type": "code",
   "execution_count": 126,
   "id": "49f9165b",
   "metadata": {},
   "outputs": [
    {
     "data": {
      "text/plain": [
       "['feature_transformation_pipeline.pkl']"
      ]
     },
     "execution_count": 126,
     "metadata": {},
     "output_type": "execute_result"
    }
   ],
   "source": [
    "import joblib\n",
    "\n",
    "# Assuming 'pipeline' is your trained model or preprocessing pipeline\n",
    "joblib.dump(feature_transformation_pipeline, \"feature_transformation_pipeline.pkl\")"
   ]
  }
 ],
 "metadata": {
  "kernelspec": {
   "display_name": "Python 3.10 (py310_env)",
   "language": "python",
   "name": "py310_env"
  },
  "language_info": {
   "codemirror_mode": {
    "name": "ipython",
    "version": 3
   },
   "file_extension": ".py",
   "mimetype": "text/x-python",
   "name": "python",
   "nbconvert_exporter": "python",
   "pygments_lexer": "ipython3",
   "version": "3.10.16"
  }
 },
 "nbformat": 4,
 "nbformat_minor": 5
}
